{
 "cells": [
  {
   "attachments": {},
   "cell_type": "markdown",
   "metadata": {},
   "source": [
    "### GAN\n",
    "\n",
    "`Generator`과 `Discriminator`이 `minimax game`을 통해 경쟁하며 발전  \n",
    "\n",
    "(수식) \n",
    "\n",
    "Generator는 최소화 (가짜 데이터를 Discriminator가 진짜 데이터로 예측할 만큼 진짜같은 가짜 데이터),   \n",
    "Discriminator는 최대화 (진짜 데이터를 진짜로, 가짜 데이터를 가짜로 정확히 예측)"
   ]
  },
  {
   "attachments": {},
   "cell_type": "markdown",
   "metadata": {},
   "source": [
    "### cGAN\n",
    "\n",
    "Generator과 Discriminator의 인자에 조건 `y`가 추가됨  \n",
    "___\n",
    "Generator - 노이즈(z), 조건(y) → Representation ☞ Fake Image(G(z|y))\n",
    "- 일반적으로 레이블 정보, one-hot 벡터를 입력으로 넣는다.  \n",
    "\n",
    "Discriminator - 실제 데이터(x), 가짜 이미지(G(z|y)), 조건(y)\n",
    "- Generator와 Discriminator의 y는 동일한 레이블이어야 한다. \n",
    "___"
   ]
  },
  {
   "attachments": {},
   "cell_type": "markdown",
   "metadata": {},
   "source": []
  }
 ],
 "metadata": {
  "language_info": {
   "name": "python"
  },
  "orig_nbformat": 4
 },
 "nbformat": 4,
 "nbformat_minor": 2
}
