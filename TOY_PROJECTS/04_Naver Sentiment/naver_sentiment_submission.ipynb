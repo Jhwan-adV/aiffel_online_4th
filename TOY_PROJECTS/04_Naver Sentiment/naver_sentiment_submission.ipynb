{
 "cells": [
  {
   "cell_type": "markdown",
   "id": "e1a2023d",
   "metadata": {},
   "source": [
    "## TOY PROJECT 04 - 네이버 영화 감성분석\n",
    "네이버 영화 사이트의 영화 리뷰 감성을 분석합니다. \n"
   ]
  },
  {
   "cell_type": "markdown",
   "id": "048402df",
   "metadata": {},
   "source": [
    "### 1. 라이브러리 및 데이터 불러오기\n",
    "데이터 핸들링을 위해 `pandas`,   \n",
    "한국어 자연어처리를 위해 `konlpy`,    \n",
    "__를 위해 `gensim` 라이브러리를 활용합니다."
   ]
  },
  {
   "cell_type": "code",
   "execution_count": 1,
   "id": "4925f383",
   "metadata": {},
   "outputs": [
    {
     "name": "stdout",
     "output_type": "stream",
     "text": [
      "pandas: 1.3.3\n",
      "konlpy: 0.5.2\n",
      "gensim: 4.1.2\n",
      "tensorflow: 2.6.0\n"
     ]
    }
   ],
   "source": [
    "def print_lib_ver(lib):\n",
    "    print(f\"{lib.__name__}: {lib.__version__}\")\n",
    "\n",
    "import numpy as np\n",
    "import pandas as pd\n",
    "import konlpy\n",
    "import gensim\n",
    "\n",
    "import tensorflow as tf\n",
    "import matplotlib.pyplot as plt\n",
    "\n",
    "print_lib_ver(pd)\n",
    "print_lib_ver(konlpy)\n",
    "print_lib_ver(gensim)\n",
    "print_lib_ver(tf)\n"
   ]
  },
  {
   "cell_type": "code",
   "execution_count": 2,
   "id": "e04f9996",
   "metadata": {},
   "outputs": [
    {
     "name": "stdout",
     "output_type": "stream",
     "text": [
      "150000 50000\n"
     ]
    },
    {
     "data": {
      "text/html": [
       "<div>\n",
       "<style scoped>\n",
       "    .dataframe tbody tr th:only-of-type {\n",
       "        vertical-align: middle;\n",
       "    }\n",
       "\n",
       "    .dataframe tbody tr th {\n",
       "        vertical-align: top;\n",
       "    }\n",
       "\n",
       "    .dataframe thead th {\n",
       "        text-align: right;\n",
       "    }\n",
       "</style>\n",
       "<table border=\"1\" class=\"dataframe\">\n",
       "  <thead>\n",
       "    <tr style=\"text-align: right;\">\n",
       "      <th></th>\n",
       "      <th>id</th>\n",
       "      <th>document</th>\n",
       "      <th>label</th>\n",
       "    </tr>\n",
       "  </thead>\n",
       "  <tbody>\n",
       "    <tr>\n",
       "      <th>0</th>\n",
       "      <td>9976970</td>\n",
       "      <td>아 더빙.. 진짜 짜증나네요 목소리</td>\n",
       "      <td>0</td>\n",
       "    </tr>\n",
       "    <tr>\n",
       "      <th>1</th>\n",
       "      <td>3819312</td>\n",
       "      <td>흠...포스터보고 초딩영화줄....오버연기조차 가볍지 않구나</td>\n",
       "      <td>1</td>\n",
       "    </tr>\n",
       "    <tr>\n",
       "      <th>2</th>\n",
       "      <td>10265843</td>\n",
       "      <td>너무재밓었다그래서보는것을추천한다</td>\n",
       "      <td>0</td>\n",
       "    </tr>\n",
       "  </tbody>\n",
       "</table>\n",
       "</div>"
      ],
      "text/plain": [
       "         id                           document  label\n",
       "0   9976970                아 더빙.. 진짜 짜증나네요 목소리      0\n",
       "1   3819312  흠...포스터보고 초딩영화줄....오버연기조차 가볍지 않구나      1\n",
       "2  10265843                  너무재밓었다그래서보는것을추천한다      0"
      ]
     },
     "execution_count": 2,
     "metadata": {},
     "output_type": "execute_result"
    }
   ],
   "source": [
    "import os\n",
    "\n",
    "def data_path(data_name):\n",
    "    return f\"{os.getcwd()}/data/{data_name}\"\n",
    "\n",
    "train_data = pd.read_table(data_path('ratings_train.txt'))\n",
    "test_data = pd.read_table(data_path('ratings_test.txt'))\n",
    "\n",
    "print(len(train_data), len(test_data))\n",
    "train_data.head(3)\n"
   ]
  },
  {
   "cell_type": "markdown",
   "id": "11c54aa2",
   "metadata": {},
   "source": [
    "### 2. 데이터 로더 - 형태소 전환 및 단어 인덱스로 변환"
   ]
  },
  {
   "cell_type": "code",
   "execution_count": 3,
   "id": "a14e557c",
   "metadata": {},
   "outputs": [],
   "source": [
    "from konlpy.tag import Mecab\n",
    "from collections import Counter\n",
    "\n",
    "tokenizer = Mecab()\n",
    "stopwords = ['의','가','이','은','들','는','좀','잘','걍','과','도','를','으로','자','에','와','한','하다']\n",
    "\n",
    "def load_data(train_data, test_data, num_words=10000):\n",
    "    \n",
    "    # 훈련 데이터의 중복&결측 데이터 제거\n",
    "    train_data.drop_duplicates(subset=['document'], inplace=True) \n",
    "    train_data = train_data.dropna(how = 'any') \n",
    "    \n",
    "    # 테스트 데이터의 중복&결측 데이터 제거\n",
    "    test_data.drop_duplicates(subset=['document'], inplace=True)\n",
    "    test_data = test_data.dropna(how = 'any') \n",
    "    \n",
    "    # 훈련 데이터 토큰화 및 불용어 제거\n",
    "    X_train = []\n",
    "    for sentence in train_data['document']:\n",
    "        temp_X = tokenizer.morphs(sentence) \n",
    "        temp_X = [word for word in temp_X if not word in stopwords] \n",
    "        X_train.append(temp_X)\n",
    "\n",
    "    # 테스트 데이터 토큰화 및 불용어 제거\n",
    "    X_test = []\n",
    "    for sentence in test_data['document']:\n",
    "        temp_X = tokenizer.morphs(sentence) \n",
    "        temp_X = [word for word in temp_X if not word in stopwords]\n",
    "        X_test.append(temp_X)\n",
    "    \n",
    "    # 사전 word_to_index 구성\n",
    "    words = np.concatenate(X_train).tolist()\n",
    "    counter = Counter(words)\n",
    "    counter = counter.most_common(10000-4)\n",
    "    vocab = ['<PAD>', '<BOS>', '<UNK>', ''] + [key for key, _ in counter]\n",
    "    word_to_index = {word:index for index, word in enumerate(vocab)}\n",
    "    \n",
    "    # 단어 텍스트 리스트를 사전 인덱스 스트링으로 변환\n",
    "    def wordlist_to_indexlist(wordlist):\n",
    "        return [word_to_index[word] if word in word_to_index else word_to_index[''] for word in wordlist]\n",
    "    \n",
    "    # 정제된 X_train, X_test 데이터\n",
    "    X_train = list(map(wordlist_to_indexlist, X_train))\n",
    "    X_test = list(map(wordlist_to_indexlist, X_test))\n",
    "    \n",
    "    # 각각 X_train, y_train, X_test, y_test, word_to_index → 전처리 후 데이터 반환   \n",
    "    return X_train, np.array(list(train_data['label'])), X_test, np.array(list(test_data['label'])), word_to_index\n",
    "    \n",
    "\n",
    "X_train, y_train, X_test, y_test, word_to_index = load_data(train_data, test_data) \n",
    "\n",
    "index_to_word = {index:word for word, index in word_to_index.items()}\n"
   ]
  },
  {
   "cell_type": "markdown",
   "id": "4405f60e",
   "metadata": {},
   "source": [
    "### 3. 모델 구성을 위한 데이터 분석 및 가공\n",
    "\n",
    "- 데이터 셋 내부 문장 길이 분포 확인  \n",
    "- 적절한 최대 문장 길이 지정  \n",
    "- keras ~ pad_sequence를 활용한 패딩 추가 \n"
   ]
  },
  {
   "cell_type": "code",
   "execution_count": 4,
   "id": "317b148a",
   "metadata": {},
   "outputs": [
    {
     "name": "stdout",
     "output_type": "stream",
     "text": [
      "문장길이 평균 :  15.96940191154864\n",
      "문장길이 최대 :  116\n",
      "문장길이 표준편차 :  12.843571191092\n"
     ]
    }
   ],
   "source": [
    "total_data_text = list(X_train) + list(X_test)\n",
    "num_tokens = [len(tokens) for tokens in total_data_text]\n",
    "num_tokens = np.array(num_tokens)\n",
    "\n",
    "print('문장길이 평균 : ', np.mean(num_tokens))\n",
    "print('문장길이 최대 : ', np.max(num_tokens))\n",
    "print('문장길이 표준편차 : ', np.std(num_tokens))\n"
   ]
  },
  {
   "cell_type": "markdown",
   "id": "81c9e196",
   "metadata": {},
   "source": [
    "#### 적절한 최대 문장 길이는 무엇을 기준으로 판단하는가?"
   ]
  },
  {
   "cell_type": "code",
   "execution_count": 5,
   "id": "4a687a6f",
   "metadata": {},
   "outputs": [
    {
     "name": "stdout",
     "output_type": "stream",
     "text": [
      "pad_sequences maxlen:  54\n",
      "전체 문장의 97.209%가 maxlen 설정값 이내에 포함됩니다.\n"
     ]
    }
   ],
   "source": [
    "max_tokens = np.mean(num_tokens) + 3 * np.std(num_tokens)\n",
    "maxlen = int(max_tokens)\n",
    "\n",
    "print('pad_sequences maxlen: ', maxlen)\n",
    "print(f'전체 문장의 {round(np.sum(num_tokens < max_tokens) / len(num_tokens), 5) * 100}%가 maxlen 설정값 이내에 포함됩니다.')\n"
   ]
  },
  {
   "cell_type": "markdown",
   "id": "3fbec355",
   "metadata": {},
   "source": [
    "#### pad_sequence로 padding 적용"
   ]
  },
  {
   "cell_type": "code",
   "execution_count": 7,
   "id": "b2fc0df7",
   "metadata": {},
   "outputs": [
    {
     "name": "stdout",
     "output_type": "stream",
     "text": [
      "(146182, 54)\n"
     ]
    }
   ],
   "source": [
    "X_train = tf.keras.preprocessing.sequence.pad_sequences(X_train,\n",
    "                                                        value=word_to_index[\"<PAD>\"],\n",
    "                                                        padding='post', # 혹은 'pre'\n",
    "                                                        maxlen=maxlen)\n",
    "\n",
    "X_test = tf.keras.preprocessing.sequence.pad_sequences(X_test,\n",
    "                                                       value=word_to_index[\"<PAD>\"],\n",
    "                                                       padding='post', # 혹은 'pre'\n",
    "                                                       maxlen=maxlen)\n",
    "\n",
    "print(X_train.shape)\n"
   ]
  },
  {
   "cell_type": "markdown",
   "id": "018c1e7a",
   "metadata": {},
   "source": [
    "### 4. 모델 구성 및 validation set 구성  "
   ]
  },
  {
   "cell_type": "code",
   "execution_count": 8,
   "id": "9c54900b",
   "metadata": {},
   "outputs": [],
   "source": [
    "vocab_size = 10000    # 어휘 사전의 크기입니다(10,000개의 단어)\n",
    "word_vector_dim = 16  # 워드 벡터의 차원 수 (변경 가능한 하이퍼파라미터)\n"
   ]
  },
  {
   "cell_type": "markdown",
   "id": "986e21d1",
   "metadata": {},
   "source": [
    "#### 4.1. CNN"
   ]
  },
  {
   "cell_type": "code",
   "execution_count": 9,
   "id": "4ce058db",
   "metadata": {},
   "outputs": [
    {
     "name": "stdout",
     "output_type": "stream",
     "text": [
      "Model: \"model_cnn\"\n",
      "_________________________________________________________________\n",
      "Layer (type)                 Output Shape              Param #   \n",
      "=================================================================\n",
      "embedding (Embedding)        (None, None, 16)          160000    \n",
      "_________________________________________________________________\n",
      "conv1d (Conv1D)              (None, None, 16)          1808      \n",
      "_________________________________________________________________\n",
      "max_pooling1d (MaxPooling1D) (None, None, 16)          0         \n",
      "_________________________________________________________________\n",
      "conv1d_1 (Conv1D)            (None, None, 16)          1808      \n",
      "_________________________________________________________________\n",
      "global_max_pooling1d (Global (None, 16)                0         \n",
      "_________________________________________________________________\n",
      "dense (Dense)                (None, 8)                 136       \n",
      "_________________________________________________________________\n",
      "dense_1 (Dense)              (None, 1)                 9         \n",
      "=================================================================\n",
      "Total params: 163,761\n",
      "Trainable params: 163,761\n",
      "Non-trainable params: 0\n",
      "_________________________________________________________________\n"
     ]
    }
   ],
   "source": [
    "model_cnn = tf.keras.Sequential(name = \"model_cnn\")\n",
    "model_cnn.add(tf.keras.layers.Embedding(vocab_size, word_vector_dim, input_shape=(None,)))\n",
    "model_cnn.add(tf.keras.layers.Conv1D(16, 7, activation='relu'))\n",
    "model_cnn.add(tf.keras.layers.MaxPooling1D(5))\n",
    "model_cnn.add(tf.keras.layers.Conv1D(16, 7, activation='relu'))\n",
    "model_cnn.add(tf.keras.layers.GlobalMaxPooling1D())\n",
    "model_cnn.add(tf.keras.layers.Dense(8, activation='relu'))\n",
    "model_cnn.add(tf.keras.layers.Dense(1, activation='sigmoid'))  # 최종 출력은 긍정/부정을 나타내는 1dim 입니다.\n",
    "\n",
    "model_cnn.summary()\n"
   ]
  },
  {
   "cell_type": "markdown",
   "id": "3fe0673c",
   "metadata": {},
   "source": [
    "#### 4.2. CNN - Global Maxpooling"
   ]
  },
  {
   "cell_type": "code",
   "execution_count": 10,
   "id": "967bb77c",
   "metadata": {},
   "outputs": [
    {
     "name": "stdout",
     "output_type": "stream",
     "text": [
      "Model: \"model_cnn_global\"\n",
      "_________________________________________________________________\n",
      "Layer (type)                 Output Shape              Param #   \n",
      "=================================================================\n",
      "embedding_1 (Embedding)      (None, None, 16)          160000    \n",
      "_________________________________________________________________\n",
      "global_max_pooling1d_1 (Glob (None, 16)                0         \n",
      "_________________________________________________________________\n",
      "dense_2 (Dense)              (None, 8)                 136       \n",
      "_________________________________________________________________\n",
      "dense_3 (Dense)              (None, 1)                 9         \n",
      "=================================================================\n",
      "Total params: 160,145\n",
      "Trainable params: 160,145\n",
      "Non-trainable params: 0\n",
      "_________________________________________________________________\n"
     ]
    }
   ],
   "source": [
    "model_cnnglobal = tf.keras.Sequential(name = \"model_cnn_global\")\n",
    "model_cnnglobal.add(tf.keras.layers.Embedding(vocab_size, word_vector_dim, input_shape=(None,)))\n",
    "model_cnnglobal.add(tf.keras.layers.GlobalMaxPooling1D())\n",
    "model_cnnglobal.add(tf.keras.layers.Dense(8, activation='relu'))\n",
    "model_cnnglobal.add(tf.keras.layers.Dense(1, activation='sigmoid'))  # 최종 출력은 긍정/부정을 나타내는 1dim 입니다.\n",
    "\n",
    "model_cnnglobal.summary()\n"
   ]
  },
  {
   "cell_type": "markdown",
   "id": "b274b02e",
   "metadata": {},
   "source": [
    "#### 4.3. RNN"
   ]
  },
  {
   "cell_type": "code",
   "execution_count": 11,
   "id": "20f60602",
   "metadata": {},
   "outputs": [
    {
     "name": "stdout",
     "output_type": "stream",
     "text": [
      "Model: \"model_rnn\"\n",
      "_________________________________________________________________\n",
      "Layer (type)                 Output Shape              Param #   \n",
      "=================================================================\n",
      "embedding_2 (Embedding)      (None, None, 16)          160000    \n",
      "_________________________________________________________________\n",
      "lstm (LSTM)                  (None, 8)                 800       \n",
      "_________________________________________________________________\n",
      "dense_4 (Dense)              (None, 8)                 72        \n",
      "_________________________________________________________________\n",
      "dense_5 (Dense)              (None, 1)                 9         \n",
      "=================================================================\n",
      "Total params: 160,881\n",
      "Trainable params: 160,881\n",
      "Non-trainable params: 0\n",
      "_________________________________________________________________\n"
     ]
    }
   ],
   "source": [
    "model_rnn = tf.keras.Sequential(name='model_rnn')\n",
    "model_rnn.add(tf.keras.layers.Embedding(vocab_size, word_vector_dim, input_shape=(None,)))\n",
    "model_rnn.add(tf.keras.layers.LSTM(8))   # 가장 널리 쓰이는 RNN인 LSTM 레이어를 사용하였습니다. 이때 LSTM state 벡터의 차원수는 8로 하였습니다. (변경 가능)\n",
    "model_rnn.add(tf.keras.layers.Dense(8, activation='relu'))\n",
    "model_rnn.add(tf.keras.layers.Dense(1, activation='sigmoid'))  # 최종 출력은 긍정/부정을 나타내는 1dim 입니다.\n",
    "\n",
    "model_rnn.summary()\n"
   ]
  },
  {
   "cell_type": "markdown",
   "id": "f938fe15",
   "metadata": {},
   "source": [
    "### 5. 모델 훈련 개시\n"
   ]
  },
  {
   "cell_type": "code",
   "execution_count": 47,
   "id": "d33e458e",
   "metadata": {},
   "outputs": [
    {
     "name": "stdout",
     "output_type": "stream",
     "text": [
      "(141182, 54)\n",
      "(141182,)\n"
     ]
    }
   ],
   "source": [
    "# validation set 10000건 분리\n",
    "X_val = X_train[:5000]\n",
    "y_val = y_train[:5000]\n",
    "\n",
    "# validation set을 제외한 나머지 136182 건\n",
    "partial_X_train = X_train[5000:]\n",
    "partial_y_train = y_train[5000:]\n",
    "\n",
    "print(partial_X_train.shape)\n",
    "print(partial_y_train.shape)\n"
   ]
  },
  {
   "cell_type": "code",
   "execution_count": 40,
   "id": "8f159dc4",
   "metadata": {},
   "outputs": [
    {
     "name": "stdout",
     "output_type": "stream",
     "text": [
      "==== ==== ==== ==== ==== ==== ==== ====\n",
      "model name: model_cnn started fitting!\n",
      "Epoch 1/20\n",
      "227/227 [==============================] - 2s 7ms/step - loss: 0.0445 - accuracy: 0.9860 - val_loss: 0.3743 - val_accuracy: 0.9274\n",
      "Epoch 2/20\n",
      "227/227 [==============================] - 1s 6ms/step - loss: 0.0363 - accuracy: 0.9887 - val_loss: 0.4041 - val_accuracy: 0.9224\n",
      "Epoch 3/20\n",
      "227/227 [==============================] - 1s 6ms/step - loss: 0.0325 - accuracy: 0.9896 - val_loss: 0.4279 - val_accuracy: 0.9175\n",
      "Epoch 4/20\n",
      "227/227 [==============================] - 1s 6ms/step - loss: 0.0312 - accuracy: 0.9897 - val_loss: 0.4581 - val_accuracy: 0.9136\n",
      "Epoch 5/20\n",
      "227/227 [==============================] - 1s 6ms/step - loss: 0.0290 - accuracy: 0.9905 - val_loss: 0.4893 - val_accuracy: 0.9099\n",
      "Epoch 6/20\n",
      "227/227 [==============================] - 1s 6ms/step - loss: 0.0275 - accuracy: 0.9905 - val_loss: 0.5255 - val_accuracy: 0.9050\n",
      "Epoch 7/20\n",
      "227/227 [==============================] - 1s 6ms/step - loss: 0.0269 - accuracy: 0.9906 - val_loss: 0.5539 - val_accuracy: 0.9003\n",
      "Epoch 8/20\n",
      "227/227 [==============================] - 1s 6ms/step - loss: 0.0253 - accuracy: 0.9914 - val_loss: 0.5759 - val_accuracy: 0.8992\n",
      "Epoch 9/20\n",
      "227/227 [==============================] - 1s 6ms/step - loss: 0.0252 - accuracy: 0.9912 - val_loss: 0.6181 - val_accuracy: 0.8929\n",
      "Epoch 10/20\n",
      "227/227 [==============================] - 1s 6ms/step - loss: 0.0261 - accuracy: 0.9907 - val_loss: 0.6412 - val_accuracy: 0.8918\n",
      "Epoch 11/20\n",
      "227/227 [==============================] - 1s 6ms/step - loss: 0.0246 - accuracy: 0.9912 - val_loss: 0.6684 - val_accuracy: 0.8890\n",
      "Epoch 12/20\n",
      "227/227 [==============================] - 1s 5ms/step - loss: 0.0237 - accuracy: 0.9914 - val_loss: 0.6611 - val_accuracy: 0.8876\n",
      "Epoch 13/20\n",
      "227/227 [==============================] - 1s 6ms/step - loss: 0.0209 - accuracy: 0.9929 - val_loss: 0.7006 - val_accuracy: 0.8875\n",
      "Epoch 14/20\n",
      "227/227 [==============================] - 1s 6ms/step - loss: 0.0187 - accuracy: 0.9933 - val_loss: 0.7463 - val_accuracy: 0.8835\n",
      "Epoch 15/20\n",
      "227/227 [==============================] - 1s 6ms/step - loss: 0.0173 - accuracy: 0.9940 - val_loss: 0.7629 - val_accuracy: 0.8827\n",
      "Epoch 16/20\n",
      "227/227 [==============================] - 1s 6ms/step - loss: 0.0171 - accuracy: 0.9936 - val_loss: 0.8028 - val_accuracy: 0.8814\n",
      "Epoch 17/20\n",
      "227/227 [==============================] - 1s 6ms/step - loss: 0.0178 - accuracy: 0.9934 - val_loss: 0.8281 - val_accuracy: 0.8781\n",
      "Epoch 18/20\n",
      "227/227 [==============================] - 1s 5ms/step - loss: 0.0196 - accuracy: 0.9926 - val_loss: 0.8477 - val_accuracy: 0.8784\n",
      "Epoch 19/20\n",
      "227/227 [==============================] - 1s 6ms/step - loss: 0.0231 - accuracy: 0.9914 - val_loss: 0.8244 - val_accuracy: 0.8753\n",
      "Epoch 20/20\n",
      "227/227 [==============================] - 1s 5ms/step - loss: 0.0225 - accuracy: 0.9915 - val_loss: 0.8681 - val_accuracy: 0.8796\n",
      "==== ==== ==== ==== ==== ==== ==== ====\n",
      "model name: model_cnn_global started fitting!\n",
      "Epoch 1/20\n",
      "227/227 [==============================] - 1s 4ms/step - loss: 0.1552 - accuracy: 0.9438 - val_loss: 0.2801 - val_accuracy: 0.9027\n",
      "Epoch 2/20\n",
      "227/227 [==============================] - 1s 4ms/step - loss: 0.1479 - accuracy: 0.9473 - val_loss: 0.3006 - val_accuracy: 0.8954\n",
      "Epoch 3/20\n",
      "227/227 [==============================] - 1s 4ms/step - loss: 0.1427 - accuracy: 0.9499 - val_loss: 0.3177 - val_accuracy: 0.8899\n",
      "Epoch 4/20\n",
      "227/227 [==============================] - 1s 4ms/step - loss: 0.1381 - accuracy: 0.9525 - val_loss: 0.3355 - val_accuracy: 0.8834\n",
      "Epoch 5/20\n",
      "227/227 [==============================] - 1s 4ms/step - loss: 0.1340 - accuracy: 0.9538 - val_loss: 0.3527 - val_accuracy: 0.8791\n",
      "Epoch 6/20\n",
      "227/227 [==============================] - 1s 4ms/step - loss: 0.1302 - accuracy: 0.9554 - val_loss: 0.3674 - val_accuracy: 0.8750\n",
      "Epoch 7/20\n",
      "227/227 [==============================] - 1s 4ms/step - loss: 0.1269 - accuracy: 0.9571 - val_loss: 0.3828 - val_accuracy: 0.8721\n",
      "Epoch 8/20\n",
      "227/227 [==============================] - 1s 4ms/step - loss: 0.1238 - accuracy: 0.9582 - val_loss: 0.3997 - val_accuracy: 0.8689\n",
      "Epoch 9/20\n",
      "227/227 [==============================] - 1s 4ms/step - loss: 0.1204 - accuracy: 0.9593 - val_loss: 0.4128 - val_accuracy: 0.8657\n",
      "Epoch 10/20\n",
      "227/227 [==============================] - 1s 4ms/step - loss: 0.1172 - accuracy: 0.9609 - val_loss: 0.4288 - val_accuracy: 0.8655\n",
      "Epoch 11/20\n",
      "227/227 [==============================] - 1s 4ms/step - loss: 0.1140 - accuracy: 0.9621 - val_loss: 0.4380 - val_accuracy: 0.8626\n",
      "Epoch 12/20\n",
      "227/227 [==============================] - 1s 4ms/step - loss: 0.1106 - accuracy: 0.9638 - val_loss: 0.4516 - val_accuracy: 0.8605\n",
      "Epoch 13/20\n",
      "227/227 [==============================] - 1s 4ms/step - loss: 0.1077 - accuracy: 0.9645 - val_loss: 0.4669 - val_accuracy: 0.8589\n",
      "Epoch 14/20\n",
      "227/227 [==============================] - 1s 4ms/step - loss: 0.1050 - accuracy: 0.9654 - val_loss: 0.4770 - val_accuracy: 0.8588\n",
      "Epoch 15/20\n",
      "227/227 [==============================] - 1s 4ms/step - loss: 0.1018 - accuracy: 0.9662 - val_loss: 0.4914 - val_accuracy: 0.8562\n",
      "Epoch 16/20\n",
      "227/227 [==============================] - 1s 4ms/step - loss: 0.0988 - accuracy: 0.9680 - val_loss: 0.5063 - val_accuracy: 0.8550\n",
      "Epoch 17/20\n",
      "227/227 [==============================] - 1s 4ms/step - loss: 0.0962 - accuracy: 0.9687 - val_loss: 0.5181 - val_accuracy: 0.8536\n",
      "Epoch 18/20\n",
      "227/227 [==============================] - 1s 4ms/step - loss: 0.0933 - accuracy: 0.9701 - val_loss: 0.5339 - val_accuracy: 0.8531\n",
      "Epoch 19/20\n",
      "227/227 [==============================] - 1s 4ms/step - loss: 0.0911 - accuracy: 0.9706 - val_loss: 0.5448 - val_accuracy: 0.8531\n",
      "Epoch 20/20\n",
      "227/227 [==============================] - 1s 4ms/step - loss: 0.0888 - accuracy: 0.9711 - val_loss: 0.5587 - val_accuracy: 0.8527\n",
      "==== ==== ==== ==== ==== ==== ==== ====\n",
      "model name: model_rnn started fitting!\n",
      "Epoch 1/20\n",
      "227/227 [==============================] - 3s 8ms/step - loss: 0.1696 - accuracy: 0.9321 - val_loss: 0.2710 - val_accuracy: 0.9000\n",
      "Epoch 2/20\n",
      "227/227 [==============================] - 2s 7ms/step - loss: 0.1603 - accuracy: 0.9368 - val_loss: 0.2890 - val_accuracy: 0.8909\n",
      "Epoch 3/20\n",
      "227/227 [==============================] - 1s 6ms/step - loss: 0.1551 - accuracy: 0.9398 - val_loss: 0.3056 - val_accuracy: 0.8879\n",
      "Epoch 4/20\n",
      "227/227 [==============================] - 1s 6ms/step - loss: 0.1509 - accuracy: 0.9419 - val_loss: 0.3267 - val_accuracy: 0.8828\n",
      "Epoch 5/20\n",
      "227/227 [==============================] - 1s 7ms/step - loss: 0.1472 - accuracy: 0.9443 - val_loss: 0.3432 - val_accuracy: 0.8783\n",
      "Epoch 6/20\n",
      "227/227 [==============================] - 1s 7ms/step - loss: 0.1448 - accuracy: 0.9453 - val_loss: 0.3543 - val_accuracy: 0.8765\n",
      "Epoch 7/20\n",
      "227/227 [==============================] - 1s 7ms/step - loss: 0.1396 - accuracy: 0.9476 - val_loss: 0.3747 - val_accuracy: 0.8750\n",
      "Epoch 8/20\n",
      "227/227 [==============================] - 1s 7ms/step - loss: 0.1359 - accuracy: 0.9493 - val_loss: 0.3917 - val_accuracy: 0.8686\n",
      "Epoch 9/20\n",
      "227/227 [==============================] - 2s 7ms/step - loss: 0.1338 - accuracy: 0.9506 - val_loss: 0.3998 - val_accuracy: 0.8674\n",
      "Epoch 10/20\n",
      "227/227 [==============================] - 1s 6ms/step - loss: 0.1307 - accuracy: 0.9518 - val_loss: 0.4074 - val_accuracy: 0.8663\n",
      "Epoch 11/20\n",
      "227/227 [==============================] - 1s 6ms/step - loss: 0.1307 - accuracy: 0.9528 - val_loss: 0.4161 - val_accuracy: 0.8656\n",
      "Epoch 12/20\n",
      "227/227 [==============================] - 1s 6ms/step - loss: 0.1272 - accuracy: 0.9542 - val_loss: 0.4282 - val_accuracy: 0.8675\n",
      "Epoch 13/20\n",
      "227/227 [==============================] - 1s 7ms/step - loss: 0.1240 - accuracy: 0.9548 - val_loss: 0.4475 - val_accuracy: 0.8638\n",
      "Epoch 14/20\n",
      "227/227 [==============================] - 1s 7ms/step - loss: 0.1209 - accuracy: 0.9566 - val_loss: 0.4415 - val_accuracy: 0.8566\n",
      "Epoch 15/20\n",
      "227/227 [==============================] - 1s 6ms/step - loss: 0.1186 - accuracy: 0.9580 - val_loss: 0.4397 - val_accuracy: 0.8616\n",
      "Epoch 16/20\n",
      "227/227 [==============================] - 2s 7ms/step - loss: 0.1192 - accuracy: 0.9575 - val_loss: 0.4495 - val_accuracy: 0.8596\n",
      "Epoch 17/20\n",
      "227/227 [==============================] - 1s 6ms/step - loss: 0.1154 - accuracy: 0.9594 - val_loss: 0.4551 - val_accuracy: 0.8593\n",
      "Epoch 18/20\n",
      "227/227 [==============================] - 1s 6ms/step - loss: 0.1140 - accuracy: 0.9599 - val_loss: 0.4653 - val_accuracy: 0.8604\n",
      "Epoch 19/20\n",
      "227/227 [==============================] - 1s 7ms/step - loss: 0.1143 - accuracy: 0.9590 - val_loss: 0.4530 - val_accuracy: 0.8601\n",
      "Epoch 20/20\n",
      "227/227 [==============================] - 1s 6ms/step - loss: 0.1112 - accuracy: 0.9616 - val_loss: 0.4797 - val_accuracy: 0.8577\n"
     ]
    }
   ],
   "source": [
    "epochs = 20\n",
    "models = [model_cnn, model_cnnglobal, model_rnn]\n",
    "\n",
    "list_history = []\n",
    "\n",
    "for model in models:\n",
    "    model.compile(optimizer='adam',\n",
    "          loss='binary_crossentropy',\n",
    "          metrics=['accuracy'])\n",
    "    \n",
    "    print(\"==== ==== ==== ==== ==== ==== ==== ====\")\n",
    "    print(f\"model name: {model._name} started fitting!\")\n",
    "    history = model.fit(partial_X_train,\n",
    "                        partial_y_train,\n",
    "                        epochs=epochs,\n",
    "                        batch_size=512,\n",
    "                        validation_data=(X_val, y_val),\n",
    "                        verbose=1)\n",
    "    \n",
    "    list_history.append(history)\n",
    "    "
   ]
  },
  {
   "cell_type": "code",
   "execution_count": 41,
   "id": "9b408845",
   "metadata": {},
   "outputs": [
    {
     "data": {
      "text/plain": [
       "{'model 1': {'loss': [0.04449190944433212,\n",
       "   0.03625618293881416,\n",
       "   0.032490406185388565,\n",
       "   0.031232226639986038,\n",
       "   0.02899138256907463,\n",
       "   0.027521518990397453,\n",
       "   0.026915499940514565,\n",
       "   0.025275414809584618,\n",
       "   0.025172516703605652,\n",
       "   0.026104534044861794,\n",
       "   0.02460389956831932,\n",
       "   0.02372012287378311,\n",
       "   0.020897630602121353,\n",
       "   0.018692107871174812,\n",
       "   0.017348960041999817,\n",
       "   0.017104510217905045,\n",
       "   0.017831644043326378,\n",
       "   0.01962599903345108,\n",
       "   0.02306284010410309,\n",
       "   0.022531801834702492],\n",
       "  'accuracy': [0.9859874844551086,\n",
       "   0.9886987805366516,\n",
       "   0.9896455407142639,\n",
       "   0.9896713495254517,\n",
       "   0.9904546141624451,\n",
       "   0.9905493259429932,\n",
       "   0.9906439781188965,\n",
       "   0.9914358258247375,\n",
       "   0.9911776185035706,\n",
       "   0.9907214641571045,\n",
       "   0.9911518096923828,\n",
       "   0.99144446849823,\n",
       "   0.9928646683692932,\n",
       "   0.9933035969734192,\n",
       "   0.9940007925033569,\n",
       "   0.9936478734016418,\n",
       "   0.9934327006340027,\n",
       "   0.9925978183746338,\n",
       "   0.9914358258247375,\n",
       "   0.9915477633476257],\n",
       "  'val_loss': [0.37430521845817566,\n",
       "   0.404136598110199,\n",
       "   0.42788171768188477,\n",
       "   0.4581303894519806,\n",
       "   0.48928016424179077,\n",
       "   0.5255433320999146,\n",
       "   0.5538725256919861,\n",
       "   0.5759194493293762,\n",
       "   0.6180801391601562,\n",
       "   0.64119553565979,\n",
       "   0.6684145927429199,\n",
       "   0.6610956788063049,\n",
       "   0.7006478309631348,\n",
       "   0.7463358044624329,\n",
       "   0.762900173664093,\n",
       "   0.8028421998023987,\n",
       "   0.8281008005142212,\n",
       "   0.8477151989936829,\n",
       "   0.8244040608406067,\n",
       "   0.8680548071861267],\n",
       "  'val_accuracy': [0.9274333119392395,\n",
       "   0.9223999977111816,\n",
       "   0.9174666404724121,\n",
       "   0.9136000275611877,\n",
       "   0.9098666906356812,\n",
       "   0.9049999713897705,\n",
       "   0.9003333449363708,\n",
       "   0.899233341217041,\n",
       "   0.8928999900817871,\n",
       "   0.8918333053588867,\n",
       "   0.8889666795730591,\n",
       "   0.8875666856765747,\n",
       "   0.887499988079071,\n",
       "   0.8834666609764099,\n",
       "   0.8827000260353088,\n",
       "   0.8813999891281128,\n",
       "   0.8780666589736938,\n",
       "   0.8783666491508484,\n",
       "   0.875333309173584,\n",
       "   0.8796333074569702]},\n",
       " 'model 2': {'loss': [0.15518318116664886,\n",
       "   0.14789408445358276,\n",
       "   0.14265131950378418,\n",
       "   0.13809318840503693,\n",
       "   0.13404546678066254,\n",
       "   0.13018274307250977,\n",
       "   0.12692296504974365,\n",
       "   0.12375972419977188,\n",
       "   0.12037967890501022,\n",
       "   0.1171526238322258,\n",
       "   0.11396840959787369,\n",
       "   0.11063171923160553,\n",
       "   0.10771971195936203,\n",
       "   0.105048269033432,\n",
       "   0.10176903754472733,\n",
       "   0.0988401398062706,\n",
       "   0.0961686372756958,\n",
       "   0.0933285653591156,\n",
       "   0.09107866138219833,\n",
       "   0.0887511596083641],\n",
       "  'accuracy': [0.9438208937644958,\n",
       "   0.9473068118095398,\n",
       "   0.9499233961105347,\n",
       "   0.9525227546691895,\n",
       "   0.9538052082061768,\n",
       "   0.9554405808448792,\n",
       "   0.957084596157074,\n",
       "   0.9582207202911377,\n",
       "   0.9592621922492981,\n",
       "   0.9609405994415283,\n",
       "   0.96213698387146,\n",
       "   0.9637637734413147,\n",
       "   0.9645469784736633,\n",
       "   0.9654163122177124,\n",
       "   0.9662253856658936,\n",
       "   0.9680243134498596,\n",
       "   0.9686698317527771,\n",
       "   0.9700814485549927,\n",
       "   0.9706236720085144,\n",
       "   0.971105694770813],\n",
       "  'val_loss': [0.28007376194000244,\n",
       "   0.3006461262702942,\n",
       "   0.31770095229148865,\n",
       "   0.33553093671798706,\n",
       "   0.35267066955566406,\n",
       "   0.3673829138278961,\n",
       "   0.38280850648880005,\n",
       "   0.3996758460998535,\n",
       "   0.4127534031867981,\n",
       "   0.42875880002975464,\n",
       "   0.4380355477333069,\n",
       "   0.4516122341156006,\n",
       "   0.46688729524612427,\n",
       "   0.4769631326198578,\n",
       "   0.4913710653781891,\n",
       "   0.5062783360481262,\n",
       "   0.5181446075439453,\n",
       "   0.5338654518127441,\n",
       "   0.5447633266448975,\n",
       "   0.5586603879928589],\n",
       "  'val_accuracy': [0.9026666879653931,\n",
       "   0.8953999876976013,\n",
       "   0.8898666501045227,\n",
       "   0.8834333419799805,\n",
       "   0.8791333436965942,\n",
       "   0.8750333189964294,\n",
       "   0.8720999956130981,\n",
       "   0.8688666820526123,\n",
       "   0.8656666874885559,\n",
       "   0.8654666543006897,\n",
       "   0.8626333475112915,\n",
       "   0.8605333566665649,\n",
       "   0.8589333295822144,\n",
       "   0.8588333129882812,\n",
       "   0.856166660785675,\n",
       "   0.8550000190734863,\n",
       "   0.8536333441734314,\n",
       "   0.8531333208084106,\n",
       "   0.8531000018119812,\n",
       "   0.852733314037323]},\n",
       " 'model 3': {'loss': [0.16957850754261017,\n",
       "   0.16030235588550568,\n",
       "   0.1550542563199997,\n",
       "   0.15087410807609558,\n",
       "   0.14721454679965973,\n",
       "   0.14482927322387695,\n",
       "   0.13960112631320953,\n",
       "   0.13587170839309692,\n",
       "   0.1337953805923462,\n",
       "   0.13074295222759247,\n",
       "   0.1307206153869629,\n",
       "   0.1272038072347641,\n",
       "   0.12401696294546127,\n",
       "   0.12094930559396744,\n",
       "   0.11863724887371063,\n",
       "   0.1192094087600708,\n",
       "   0.11543213576078415,\n",
       "   0.11402963101863861,\n",
       "   0.11426122486591339,\n",
       "   0.1111653596162796],\n",
       "  'accuracy': [0.9321151375770569,\n",
       "   0.9368318915367126,\n",
       "   0.9398443698883057,\n",
       "   0.9419445395469666,\n",
       "   0.9443459510803223,\n",
       "   0.9453185796737671,\n",
       "   0.9476252794265747,\n",
       "   0.9492520093917847,\n",
       "   0.9505775570869446,\n",
       "   0.9518083930015564,\n",
       "   0.9527637958526611,\n",
       "   0.9542183876037598,\n",
       "   0.9547950625419617,\n",
       "   0.9565595388412476,\n",
       "   0.9579538702964783,\n",
       "   0.9574891328811646,\n",
       "   0.9594171047210693,\n",
       "   0.9598560929298401,\n",
       "   0.9590297937393188,\n",
       "   0.9616119265556335],\n",
       "  'val_loss': [0.2709772288799286,\n",
       "   0.28895303606987,\n",
       "   0.30556994676589966,\n",
       "   0.3266710042953491,\n",
       "   0.3431641459465027,\n",
       "   0.35428211092948914,\n",
       "   0.3746762275695801,\n",
       "   0.3917452096939087,\n",
       "   0.39976856112480164,\n",
       "   0.4074450135231018,\n",
       "   0.41605669260025024,\n",
       "   0.4281565845012665,\n",
       "   0.447543740272522,\n",
       "   0.4414919316768646,\n",
       "   0.43969184160232544,\n",
       "   0.4494883716106415,\n",
       "   0.4550972878932953,\n",
       "   0.4652542173862457,\n",
       "   0.4529937505722046,\n",
       "   0.479709267616272],\n",
       "  'val_accuracy': [0.8999666571617126,\n",
       "   0.8908666372299194,\n",
       "   0.8879333138465881,\n",
       "   0.8827666640281677,\n",
       "   0.8783000111579895,\n",
       "   0.876466691493988,\n",
       "   0.875,\n",
       "   0.8685666918754578,\n",
       "   0.8673999905586243,\n",
       "   0.866266667842865,\n",
       "   0.8655999898910522,\n",
       "   0.8675333261489868,\n",
       "   0.8637999892234802,\n",
       "   0.8565999865531921,\n",
       "   0.8615666627883911,\n",
       "   0.8596333265304565,\n",
       "   0.859333336353302,\n",
       "   0.8604333400726318,\n",
       "   0.8600666522979736,\n",
       "   0.857699990272522]}}"
      ]
     },
     "execution_count": 41,
     "metadata": {},
     "output_type": "execute_result"
    }
   ],
   "source": [
    "dict_history = {f'model {i+1}': dict(history.history) for i, history in enumerate(list_history)}\n",
    "dict_history\n"
   ]
  },
  {
   "cell_type": "markdown",
   "id": "3a092752",
   "metadata": {},
   "source": [
    "### 6. Loss, Accuracy 그래프 시각화\n"
   ]
  },
  {
   "cell_type": "code",
   "execution_count": 15,
   "id": "9aecceb8",
   "metadata": {},
   "outputs": [
    {
     "data": {
      "text/plain": [
       "dict_keys(['model 1', 'model 2', 'model 3'])"
      ]
     },
     "execution_count": 15,
     "metadata": {},
     "output_type": "execute_result"
    }
   ],
   "source": [
    "dict_history.keys()\n"
   ]
  },
  {
   "cell_type": "code",
   "execution_count": 42,
   "id": "edb10bf8",
   "metadata": {
    "scrolled": true
   },
   "outputs": [
    {
     "data": {
      "image/png": "[encoded data removed]",
      "text/plain": [
       "<Figure size 1008x360 with 3 Axes>"
      ]
     },
     "metadata": {
      "needs_background": "light"
     },
     "output_type": "display_data"
    }
   ],
   "source": [
    "import matplotlib.pyplot as plt\n",
    "\n",
    "fig, axes = plt.subplots(1, 3, figsize=(14, 5))\n",
    "\n",
    "plt.suptitle(\"Accuracy (green) & Loss (blue) - Training (line) and Validation (dots)\")\n",
    "\n",
    "for ax, key in zip(axes, dict_history.keys()):    \n",
    "    history = dict_history[key]\n",
    "    \n",
    "    acc = history['accuracy']\n",
    "    val_acc = history['val_accuracy']\n",
    "    loss = history['loss']\n",
    "    val_loss = history['val_loss']\n",
    "    \n",
    "    epochs = range(1, len(acc) + 1)\n",
    "    \n",
    "    ax.plot(epochs, acc, 'g', label='Train Accuracy')  \n",
    "    ax.plot(epochs, val_acc, 'go', label = 'Validation Accuracy')\n",
    "    ax.plot(epochs, loss, 'b', label='Train Loss')\n",
    "    ax.plot(epochs, val_loss, 'bo', label='Validation loss')\n",
    "    \n",
    "    ax.set_title(key)\n",
    "    ax.set_xlabel('Epochs')\n",
    "    ax.set_ylabel('Loss')\n",
    "    \n",
    "    ax.legend()\n",
    "\n",
    "plt.show()\n"
   ]
  },
  {
   "cell_type": "markdown",
   "id": "33fadaba",
   "metadata": {},
   "source": [
    "### 7. 학습된 Embedding Layer 분석\n",
    "CNN_globalpading을 활용한 두번째 모델의 Embedding layer를 분석합니다"
   ]
  },
  {
   "cell_type": "markdown",
   "id": "a49b4909",
   "metadata": {},
   "source": [
    "#### 7.1. 모델 가중치 추출, txt 파일로 저장"
   ]
  },
  {
   "cell_type": "code",
   "execution_count": 17,
   "id": "ef1a3291",
   "metadata": {},
   "outputs": [
    {
     "name": "stdout",
     "output_type": "stream",
     "text": [
      "(10000, 16)\n"
     ]
    }
   ],
   "source": [
    "model = models[1] # 2번째 모델, CNN_global padding\n",
    "embedding_layer = model.layers[0] # 모델의 첫번째 레이어\n",
    "weights = embedding_layer.get_weights()[0] # 첫째 레이어 가중치\n",
    "\n",
    "print(weights.shape) # 10000개 데이터, 16개 가중치\n"
   ]
  },
  {
   "cell_type": "code",
   "execution_count": 18,
   "id": "7c20adf5",
   "metadata": {},
   "outputs": [],
   "source": [
    "# 학습한 Embedding 파라미터를 파일에 써서 저장합니다. \n",
    "word2vec_file_path = os.getcwd()+'\\\\data\\\\word2vec.txt'\n",
    "f = open(word2vec_file_path, 'w', encoding='utf-8')\n",
    "f.write('{} {}\\n'.format(vocab_size-4, word_vector_dim))  # 몇개의 벡터를 얼마 사이즈로 기재할지 타이틀을 씁니다.\n",
    "\n",
    "# 특수문자를 제외한 단어 개수만큼의 워드 벡터를 파일에 기록합니다. \n",
    "vectors = model.get_weights()[0]\n",
    "for i in range(4,vocab_size):\n",
    "    f.write('{} {}\\n'.format(index_to_word[i], ' '.join(map(str, list(vectors[i, :])))))\n",
    "f.close()\n"
   ]
  },
  {
   "cell_type": "markdown",
   "id": "9cdf525e",
   "metadata": {},
   "source": [
    "#### 7.2. Layer 분석"
   ]
  },
  {
   "cell_type": "code",
   "execution_count": 19,
   "id": "c19a05bf",
   "metadata": {},
   "outputs": [
    {
     "data": {
      "text/plain": [
       "array([-0.03010311, -0.27930492, -0.30399364, -0.32059574, -0.30298725,\n",
       "       -0.27729824, -0.28625712, -0.24455455, -0.27632025,  0.04576806,\n",
       "       -0.32231197, -0.18537967, -0.27548265, -0.2638803 , -0.29328313,\n",
       "       -0.27966404], dtype=float32)"
      ]
     },
     "execution_count": 19,
     "metadata": {},
     "output_type": "execute_result"
    }
   ],
   "source": [
    "from gensim.models.keyedvectors import Word2VecKeyedVectors\n",
    "\n",
    "word_vectors = Word2VecKeyedVectors.load_word2vec_format(word2vec_file_path, binary=False)\n",
    "\n",
    "vector = word_vectors['영화'] # 단어 '영화'의 벡터를 확인합니다.\n",
    "vector\n"
   ]
  },
  {
   "cell_type": "code",
   "execution_count": 20,
   "id": "d90aa033",
   "metadata": {},
   "outputs": [
    {
     "data": {
      "text/plain": [
       "[('유지태', 0.9277904033660889),\n",
       " ('겁니다', 0.9203526973724365),\n",
       " ('빛', 0.8930075168609619),\n",
       " ('단연', 0.8927716612815857),\n",
       " ('조니뎁', 0.8895019292831421),\n",
       " ('바랍니다', 0.8871263265609741),\n",
       " ('이민호', 0.8846578001976013),\n",
       " ('지났', 0.8827442526817322),\n",
       " ('나루토', 0.8818188905715942),\n",
       " ('기독교인', 0.8779119253158569)]"
      ]
     },
     "execution_count": 20,
     "metadata": {},
     "output_type": "execute_result"
    }
   ],
   "source": [
    "word_vectors.similar_by_word(\"좋아\") # '좋아'라는 단어와 유사한 단어, 그리고 유하도를 확인합니다.\n"
   ]
  },
  {
   "cell_type": "code",
   "execution_count": 21,
   "id": "8d9d5261",
   "metadata": {},
   "outputs": [
    {
     "data": {
      "text/plain": [
       "[('약', 0.8446627259254456),\n",
       " ('다큐멘터리', 0.8347374796867371),\n",
       " ('바랬', 0.8329272866249084),\n",
       " ('욱', 0.8256258368492126),\n",
       " ('허구', 0.8232550621032715),\n",
       " ('~~~~~', 0.8160954117774963),\n",
       " ('웃', 0.8135363459587097),\n",
       " ('과도', 0.8054661154747009),\n",
       " ('모양', 0.7997688055038452),\n",
       " ('나요', 0.7962436079978943)]"
      ]
     },
     "execution_count": 21,
     "metadata": {},
     "output_type": "execute_result"
    }
   ],
   "source": [
    "word_vectors.similar_by_word(\"극장\") # '극장'이란 단어와 유사한 단어, 그리고 유하도를 확인합니다.\n"
   ]
  },
  {
   "cell_type": "markdown",
   "id": "0a88ccad",
   "metadata": {},
   "source": [
    "### 8. 한국어 word2vec 임베딩 활용해 성능 개선"
   ]
  },
  {
   "cell_type": "markdown",
   "id": "ae96ad5f",
   "metadata": {},
   "source": [
    "#### 8.1. 한국어 word2vec 임베딩 모델 호출 및 벡터 확인"
   ]
  },
  {
   "cell_type": "code",
   "execution_count": 22,
   "id": "e8eb0b42",
   "metadata": {},
   "outputs": [],
   "source": [
    "kword2vec_path = os.getenv('HOME') + '/data/word2vec_ko.model'\n",
    "kword2vec = Word2VecKeyedVectors.load(kword2vec_path)\n",
    "kword2vec = kword2vec.wv # 한국어 word2vec의 단어 벡터는 .wv에 저장되어 있어 변수를 다시 지정합니다.\n"
   ]
  },
  {
   "cell_type": "code",
   "execution_count": 23,
   "id": "7686e1fc",
   "metadata": {},
   "outputs": [
    {
     "name": "stdout",
     "output_type": "stream",
     "text": [
      "[-1.8007389  -1.1790098  -2.4066596   2.1384156  -0.3537603   1.3749527\n",
      " -4.894612   -3.6517198   0.4411444   0.78153926 -2.696888   -1.7812852\n",
      " -2.1514654  -4.813236    2.7465918  -2.1620324  -0.11467794 -1.2431171\n",
      "  2.3979309  -1.1060628  -0.41043055  1.9500391   0.7821002   1.5899978\n",
      "  1.6447444  -2.1265035  -1.7981595   1.7535795   0.53717697 -1.212121\n",
      " -4.466316    4.5488324   1.334441   -0.9070271   1.1931889   4.1563215\n",
      "  1.9758307  -0.9437562  -0.2592725   0.34935686  1.8562875  -3.3249645\n",
      "  1.1221625   1.2836524   3.9211376   3.8023994   2.766269    0.67293745\n",
      "  2.2853644  -5.1131716   0.32525915 -3.3079958   5.3043513  -3.8813758\n",
      " -0.32960036 -1.9527504   3.8865075  -3.5470378  -0.21991685  0.82119733\n",
      " -0.9492492   3.5472107   1.322048   -0.70640826  0.52253807  1.4683235\n",
      " -1.1018689   2.262941   -0.7204685  -1.766201    5.2237577   3.0748682\n",
      "  1.0977576   3.3191733  -0.4100423  -1.7022891  -0.78379875  0.82586575\n",
      " -0.54520637  1.2355382   2.02674    -0.652447    1.0866054   0.8977641\n",
      "  0.7928342   3.7770627   3.0274863   5.1660023   2.6461644   2.8926868\n",
      "  1.970944   -3.3746543  -5.2656593  -1.1041485   2.357547   -2.3570824\n",
      " -4.8172383   3.7290223   4.62329     1.5004613 ]\n"
     ]
    },
    {
     "data": {
      "text/plain": [
       "(100,)"
      ]
     },
     "execution_count": 23,
     "metadata": {},
     "output_type": "execute_result"
    }
   ],
   "source": [
    "vector = kword2vec['영화']\n",
    "print(vector)\n",
    "\n",
    "vector.shape # dim=100의 단어 벡터\n"
   ]
  },
  {
   "cell_type": "code",
   "execution_count": 24,
   "id": "dc6ed378",
   "metadata": {},
   "outputs": [
    {
     "data": {
      "text/plain": [
       "[('괜찮', 0.7750421762466431),\n",
       " ('많', 0.7747864127159119),\n",
       " ('높', 0.7699527740478516),\n",
       " ('낮', 0.7429317831993103),\n",
       " ('귀찮', 0.715669572353363),\n",
       " ('밝', 0.7056754231452942),\n",
       " ('알맞', 0.6912494897842407),\n",
       " ('나쁘', 0.6896841526031494),\n",
       " ('언짢', 0.6774056553840637),\n",
       " ('짧', 0.6383933424949646)]"
      ]
     },
     "execution_count": 24,
     "metadata": {},
     "output_type": "execute_result"
    }
   ],
   "source": [
    "kword2vec.similar_by_word('좋') # '좋아'가 key에 없기 때문에 어근 '좋'을 입력\n"
   ]
  },
  {
   "cell_type": "code",
   "execution_count": 25,
   "id": "1256af1f",
   "metadata": {},
   "outputs": [
    {
     "data": {
      "text/plain": [
       "[('공연장', 0.734738826751709),\n",
       " ('영화관', 0.7285679578781128),\n",
       " ('오페라단', 0.7239658832550049),\n",
       " ('오페라', 0.7214334607124329),\n",
       " ('소극장', 0.7028483152389526),\n",
       " ('콘서트홀', 0.6995508074760437),\n",
       " ('살롱', 0.6894219517707825),\n",
       " ('음악당', 0.6769198775291443),\n",
       " ('발레단', 0.6662783622741699),\n",
       " ('관현악단', 0.6594403982162476)]"
      ]
     },
     "execution_count": 25,
     "metadata": {},
     "output_type": "execute_result"
    }
   ],
   "source": [
    "kword2vec.similar_by_word('극장') # 극장과 단어 유사도 확인\n"
   ]
  },
  {
   "cell_type": "markdown",
   "id": "1f97c6c0",
   "metadata": {},
   "source": [
    "#### 8.2. 모델 구성 및 적용"
   ]
  },
  {
   "cell_type": "code",
   "execution_count": 26,
   "id": "30f64ed3",
   "metadata": {},
   "outputs": [],
   "source": [
    "vocab_size = 10000    # 어휘 사전의 크기입니다(10,000개의 단어)\n",
    "word_vector_dim = 100  # 워드 벡터의 차원수\n",
    "embedding_matrix = np.random.rand(vocab_size, word_vector_dim)\n",
    "\n",
    "# embedding_matrix에 Word2Vec 워드 벡터를 단어 하나씩마다 차례차례 카피한다.\n",
    "for i in range(4,vocab_size):\n",
    "    if index_to_word[i] in kword2vec:\n",
    "        embedding_matrix[i] = kword2vec[index_to_word[i]]"
   ]
  },
  {
   "cell_type": "code",
   "execution_count": 50,
   "id": "624a49ce",
   "metadata": {},
   "outputs": [
    {
     "name": "stdout",
     "output_type": "stream",
     "text": [
      "Model: \"model_rnn_kword2vec\"\n",
      "_________________________________________________________________\n",
      "Layer (type)                 Output Shape              Param #   \n",
      "=================================================================\n",
      "embedding_5 (Embedding)      (None, 54, 100)           1000000   \n",
      "_________________________________________________________________\n",
      "lstm_3 (LSTM)                (None, 64)                42240     \n",
      "_________________________________________________________________\n",
      "dense_10 (Dense)             (None, 8)                 520       \n",
      "_________________________________________________________________\n",
      "dense_11 (Dense)             (None, 1)                 9         \n",
      "=================================================================\n",
      "Total params: 1,042,769\n",
      "Trainable params: 1,042,769\n",
      "Non-trainable params: 0\n",
      "_________________________________________________________________\n"
     ]
    }
   ],
   "source": [
    "from tensorflow.keras.initializers import Constant\n",
    "\n",
    "# 모델 구성 - RNN\n",
    "model_rnn_kword2vec = tf.keras.Sequential(name='model_rnn_kword2vec')\n",
    "model_rnn_kword2vec.add(tf.keras.layers.Embedding(vocab_size, \n",
    "                                             word_vector_dim, \n",
    "                                             embeddings_initializer=Constant(embedding_matrix),  # 카피한 임베딩을 여기서 활용\n",
    "                                             input_length=maxlen, \n",
    "                                             trainable=True))\n",
    "model_rnn_kword2vec.add(tf.keras.layers.LSTM(64))   # 가장 널리 쓰이는 RNN인 LSTM 레이어를 사용하였습니다. 이때 LSTM state 벡터의 차원수는 8로 하였습니다. (변경 가능)\n",
    "model_rnn_kword2vec.add(tf.keras.layers.Dense(8, activation='relu'))\n",
    "model_rnn_kword2vec.add(tf.keras.layers.Dense(1, activation='sigmoid'))  # 최종 출력은 긍정/부정을 나타내는 1dim 입니다.\n",
    "\n",
    "model_rnn_kword2vec.summary()\n"
   ]
  },
  {
   "cell_type": "code",
   "execution_count": 51,
   "id": "4b26ec09",
   "metadata": {},
   "outputs": [
    {
     "name": "stdout",
     "output_type": "stream",
     "text": [
      "Epoch 1/10\n",
      "276/276 [==============================] - 4s 9ms/step - loss: 0.6737 - accuracy: 0.5410 - val_loss: 0.5530 - val_accuracy: 0.7218\n",
      "Epoch 2/10\n",
      "276/276 [==============================] - 2s 8ms/step - loss: 0.4341 - accuracy: 0.8018 - val_loss: 0.3905 - val_accuracy: 0.8256\n",
      "Epoch 3/10\n",
      "276/276 [==============================] - 2s 8ms/step - loss: 0.3443 - accuracy: 0.8504 - val_loss: 0.3346 - val_accuracy: 0.8518\n",
      "Epoch 4/10\n",
      "276/276 [==============================] - 2s 8ms/step - loss: 0.3052 - accuracy: 0.8695 - val_loss: 0.3233 - val_accuracy: 0.8612\n",
      "Epoch 5/10\n",
      "276/276 [==============================] - 2s 8ms/step - loss: 0.2809 - accuracy: 0.8823 - val_loss: 0.3236 - val_accuracy: 0.8604\n",
      "Epoch 6/10\n",
      "276/276 [==============================] - 2s 8ms/step - loss: 0.2628 - accuracy: 0.8906 - val_loss: 0.3191 - val_accuracy: 0.8638\n",
      "Epoch 7/10\n",
      "276/276 [==============================] - 2s 8ms/step - loss: 0.2473 - accuracy: 0.8981 - val_loss: 0.3173 - val_accuracy: 0.8656\n",
      "Epoch 8/10\n",
      "276/276 [==============================] - 2s 8ms/step - loss: 0.2322 - accuracy: 0.9053 - val_loss: 0.3272 - val_accuracy: 0.8680\n",
      "Epoch 9/10\n",
      "276/276 [==============================] - 2s 8ms/step - loss: 0.2191 - accuracy: 0.9119 - val_loss: 0.3357 - val_accuracy: 0.8630\n",
      "Epoch 10/10\n",
      "276/276 [==============================] - 2s 8ms/step - loss: 0.2071 - accuracy: 0.9175 - val_loss: 0.3472 - val_accuracy: 0.8648\n"
     ]
    }
   ],
   "source": [
    "# 학습의 진행\n",
    "model_rnn_kword2vec.compile(optimizer='adam',\n",
    "              loss='binary_crossentropy',\n",
    "              metrics=['accuracy'])\n",
    "              \n",
    "epochs = 10  # 몇 epoch를 훈련하면 좋을지 결과를 보면서 바꾸어 봅시다. \n",
    "\n",
    "history = model_rnn_kword2vec.fit(partial_X_train,\n",
    "                    partial_y_train,\n",
    "                    epochs=epochs,\n",
    "                    batch_size=512,\n",
    "                    validation_data=(X_val, y_val),\n",
    "                    verbose=1)"
   ]
  },
  {
   "cell_type": "code",
   "execution_count": 52,
   "id": "0e217ced",
   "metadata": {},
   "outputs": [
    {
     "name": "stdout",
     "output_type": "stream",
     "text": [
      "1537/1537 - 4s - loss: 0.3605 - accuracy: 0.8596\n",
      "[0.36054518818855286, 0.8595520257949829]\n"
     ]
    }
   ],
   "source": [
    "# 테스트셋을 통한 모델 평가\n",
    "results = model_rnn_kword2vec.evaluate(X_test, y_test, verbose=2)\n",
    "\n",
    "print(results)"
   ]
  },
  {
   "cell_type": "code",
   "execution_count": 45,
   "id": "3dc5460c",
   "metadata": {},
   "outputs": [],
   "source": [
    "history = history.history\n",
    "    \n",
    "acc = history['accuracy']\n",
    "val_acc = history['val_accuracy']\n",
    "loss = history['loss']\n",
    "val_loss = history['val_loss']\n",
    "\n",
    "epochs = range(1, len(acc) + 1)\n"
   ]
  },
  {
   "cell_type": "code",
   "execution_count": 46,
   "id": "bb68e05a",
   "metadata": {},
   "outputs": [
    {
     "data": {
      "image/png": "[encoded data removed]",
      "text/plain": [
       "<Figure size 432x288 with 1 Axes>"
      ]
     },
     "metadata": {
      "needs_background": "light"
     },
     "output_type": "display_data"
    }
   ],
   "source": [
    "plt.title(\"Accuracy (green) & Loss (blue) - Training (line) and Validation (dots)\")\n",
    "\n",
    "plt.plot(epochs, acc, 'g', label='Train Accuracy')  \n",
    "plt.plot(epochs, val_acc, 'go', label = 'Validation Accuracy')\n",
    "plt.plot(epochs, loss, 'b', label='Train Loss')\n",
    "plt.plot(epochs, val_loss, 'bo', label='Validation loss')\n",
    "\n",
    "plt.xlabel('Epochs')\n",
    "plt.ylabel('Loss')\n",
    "\n",
    "plt.legend()\n",
    "plt.show()\n"
   ]
  },
  {
   "cell_type": "markdown",
   "id": "63d0ff37",
   "metadata": {},
   "source": [
    "#### "
   ]
  }
 ],
 "metadata": {
  "kernelspec": {
   "display_name": "Python 3 (ipykernel)",
   "language": "python",
   "name": "python3"
  },
  "language_info": {
   "codemirror_mode": {
    "name": "ipython",
    "version": 3
   },
   "file_extension": ".py",
   "mimetype": "text/x-python",
   "name": "python",
   "nbconvert_exporter": "python",
   "pygments_lexer": "ipython3",
   "version": "3.9.7"
  }
 },
 "nbformat": 4,
 "nbformat_minor": 5
}
