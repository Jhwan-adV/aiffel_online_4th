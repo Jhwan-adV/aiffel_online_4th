{
 "cells": [
  {
   "cell_type": "markdown",
   "id": "3eb6b2bd",
   "metadata": {},
   "source": [
    "## TOY PROJECT 04 - 네이버 영화 감성분석\n",
    "네이버 영화 사이트의 영화 리뷰 감성을 분석합니다. \n"
   ]
  },
  {
   "cell_type": "markdown",
   "id": "1be59c62",
   "metadata": {},
   "source": [
    "### 1. 라이브러리 및 데이터 불러오기\n",
    "데이터 핸들링을 위해 `pandas`,   \n",
    "한국어 자연어처리를 위해 `konlpy`,    \n",
    "__를 위해 `gensim` 라이브러리를 활용합니다."
   ]
  },
  {
   "cell_type": "code",
   "execution_count": 3,
   "id": "90bb4e3e",
   "metadata": {},
   "outputs": [
    {
     "name": "stdout",
     "output_type": "stream",
     "text": [
      "pandas: 1.3.3\n",
      "konlpy: 0.5.2\n",
      "gensim: 4.1.2\n",
      "tensorflow: 2.6.0\n"
     ]
    }
   ],
   "source": [
    "def print_lib_ver(lib):\n",
    "    print(f\"{lib.__name__}: {lib.__version__}\")\n",
    "\n",
    "import numpy as np\n",
    "import pandas as pd\n",
    "import konlpy\n",
    "import gensim\n",
    "\n",
    "import tensorflow as tf\n",
    "import matplotlib.pyplot as plt\n",
    "\n",
    "print_lib_ver(pd)\n",
    "print_lib_ver(konlpy)\n",
    "print_lib_ver(gensim)\n",
    "print_lib_ver(tf)\n"
   ]
  },
  {
   "cell_type": "code",
   "execution_count": 4,
   "id": "0a8aff95",
   "metadata": {},
   "outputs": [
    {
     "name": "stdout",
     "output_type": "stream",
     "text": [
      "150000 50000\n"
     ]
    },
    {
     "data": {
      "text/html": [
       "<div>\n",
       "<style scoped>\n",
       "    .dataframe tbody tr th:only-of-type {\n",
       "        vertical-align: middle;\n",
       "    }\n",
       "\n",
       "    .dataframe tbody tr th {\n",
       "        vertical-align: top;\n",
       "    }\n",
       "\n",
       "    .dataframe thead th {\n",
       "        text-align: right;\n",
       "    }\n",
       "</style>\n",
       "<table border=\"1\" class=\"dataframe\">\n",
       "  <thead>\n",
       "    <tr style=\"text-align: right;\">\n",
       "      <th></th>\n",
       "      <th>id</th>\n",
       "      <th>document</th>\n",
       "      <th>label</th>\n",
       "    </tr>\n",
       "  </thead>\n",
       "  <tbody>\n",
       "    <tr>\n",
       "      <th>0</th>\n",
       "      <td>9976970</td>\n",
       "      <td>아 더빙.. 진짜 짜증나네요 목소리</td>\n",
       "      <td>0</td>\n",
       "    </tr>\n",
       "    <tr>\n",
       "      <th>1</th>\n",
       "      <td>3819312</td>\n",
       "      <td>흠...포스터보고 초딩영화줄....오버연기조차 가볍지 않구나</td>\n",
       "      <td>1</td>\n",
       "    </tr>\n",
       "    <tr>\n",
       "      <th>2</th>\n",
       "      <td>10265843</td>\n",
       "      <td>너무재밓었다그래서보는것을추천한다</td>\n",
       "      <td>0</td>\n",
       "    </tr>\n",
       "  </tbody>\n",
       "</table>\n",
       "</div>"
      ],
      "text/plain": [
       "         id                           document  label\n",
       "0   9976970                아 더빙.. 진짜 짜증나네요 목소리      0\n",
       "1   3819312  흠...포스터보고 초딩영화줄....오버연기조차 가볍지 않구나      1\n",
       "2  10265843                  너무재밓었다그래서보는것을추천한다      0"
      ]
     },
     "execution_count": 4,
     "metadata": {},
     "output_type": "execute_result"
    }
   ],
   "source": [
    "import os\n",
    "\n",
    "def data_path(data_name):\n",
    "    return f\"{os.getcwd()}/data/{data_name}\"\n",
    "\n",
    "train_data = pd.read_table(data_path('ratings_train.txt'))\n",
    "test_data = pd.read_table(data_path('ratings_test.txt'))\n",
    "\n",
    "print(len(train_data), len(test_data))\n",
    "train_data.head(3)\n"
   ]
  },
  {
   "cell_type": "markdown",
   "id": "fae58c26",
   "metadata": {},
   "source": [
    "### 2. 데이터 로더 - 형태소 전환 및 단어 인덱스로 변환"
   ]
  },
  {
   "cell_type": "code",
   "execution_count": 42,
   "id": "c3fa150b",
   "metadata": {},
   "outputs": [],
   "source": [
    "from konlpy.tag import Mecab\n",
    "from collections import Counter\n",
    "\n",
    "tokenizer = Mecab()\n",
    "stopwords = ['의','가','이','은','들','는','좀','잘','걍','과','도','를','으로','자','에','와','한','하다']\n",
    "\n",
    "def load_data(train_data, test_data, num_words=10000):\n",
    "    \n",
    "    # 훈련 데이터의 중복&결측 데이터 제거\n",
    "    train_data.drop_duplicates(subset=['document'], inplace=True) \n",
    "    train_data = train_data.dropna(how = 'any') \n",
    "    \n",
    "    # 테스트 데이터의 중복&결측 데이터 제거\n",
    "    test_data.drop_duplicates(subset=['document'], inplace=True)\n",
    "    test_data = test_data.dropna(how = 'any') \n",
    "    \n",
    "    # 훈련 데이터 토큰화 및 불용어 제거\n",
    "    X_train = []\n",
    "    for sentence in train_data['document']:\n",
    "        temp_X = tokenizer.morphs(sentence) \n",
    "        temp_X = [word for word in temp_X if not word in stopwords] \n",
    "        X_train.append(temp_X)\n",
    "\n",
    "    # 테스트 데이터 토큰화 및 불용어 제거\n",
    "    X_test = []\n",
    "    for sentence in test_data['document']:\n",
    "        temp_X = tokenizer.morphs(sentence) \n",
    "        temp_X = [word for word in temp_X if not word in stopwords]\n",
    "        X_test.append(temp_X)\n",
    "    \n",
    "    # 사전 word_to_index 구성\n",
    "    words = np.concatenate(X_train).tolist()\n",
    "    counter = Counter(words)\n",
    "    counter = counter.most_common(10000-4)\n",
    "    vocab = ['<PAD>', '<BOS>', '<UNK>', ''] + [key for key, _ in counter]\n",
    "    word_to_index = {word:index for index, word in enumerate(vocab)}\n",
    "    \n",
    "    # 단어 텍스트 리스트를 사전 인덱스 스트링으로 변환\n",
    "    def wordlist_to_indexlist(wordlist):\n",
    "        return [word_to_index[word] if word in word_to_index else word_to_index[''] for word in wordlist]\n",
    "    \n",
    "    # 정제된 X_train, X_test 데이터\n",
    "    X_train = list(map(wordlist_to_indexlist, X_train))\n",
    "    X_test = list(map(wordlist_to_indexlist, X_test))\n",
    "    \n",
    "    # 각각 X_train, y_train, X_test, y_test, word_to_index → 전처리 후 데이터 반환   \n",
    "    return X_train, np.array(list(train_data['label'])), X_test, np.array(list(test_data['label'])), word_to_index\n",
    "    \n",
    "\n",
    "X_train, y_train, X_test, y_test, word_to_index = load_data(train_data, test_data) \n",
    "\n",
    "index_to_word = {index:word for word, index in word_to_index.items()}\n"
   ]
  },
  {
   "cell_type": "markdown",
   "id": "8d51666f",
   "metadata": {},
   "source": [
    "### 3. 모델 구성을 위한 데이터 분석 및 가공\n",
    "\n",
    "- 데이터 셋 내부 문장 길이 분포 확인  \n",
    "- 적절한 최대 문장 길이 지정  \n",
    "- keras ~ pad_sequence를 활용한 패딩 추가 \n"
   ]
  },
  {
   "cell_type": "code",
   "execution_count": 6,
   "id": "b4dea3d5",
   "metadata": {},
   "outputs": [
    {
     "name": "stdout",
     "output_type": "stream",
     "text": [
      "문장길이 평균 :  15.96940191154864\n",
      "문장길이 최대 :  116\n",
      "문장길이 표준편차 :  12.843571191092\n"
     ]
    }
   ],
   "source": [
    "total_data_text = list(X_train) + list(X_test)\n",
    "num_tokens = [len(tokens) for tokens in total_data_text]\n",
    "num_tokens = np.array(num_tokens)\n",
    "\n",
    "print('문장길이 평균 : ', np.mean(num_tokens))\n",
    "print('문장길이 최대 : ', np.max(num_tokens))\n",
    "print('문장길이 표준편차 : ', np.std(num_tokens))\n"
   ]
  },
  {
   "cell_type": "markdown",
   "id": "25b47837",
   "metadata": {},
   "source": [
    "#### 적절한 최대 문장 길이는 무엇을 기준으로 판단하는가?"
   ]
  },
  {
   "cell_type": "code",
   "execution_count": 7,
   "id": "486d852f",
   "metadata": {},
   "outputs": [
    {
     "name": "stdout",
     "output_type": "stream",
     "text": [
      "pad_sequences maxlen:  54\n",
      "전체 문장의 97.209%가 maxlen 설정값 이내에 포함됩니다.\n"
     ]
    }
   ],
   "source": [
    "max_tokens = np.mean(num_tokens) + 3 * np.std(num_tokens)\n",
    "maxlen = int(max_tokens)\n",
    "\n",
    "print('pad_sequences maxlen: ', maxlen)\n",
    "print(f'전체 문장의 {round(np.sum(num_tokens < max_tokens) / len(num_tokens), 5) * 100}%가 maxlen 설정값 이내에 포함됩니다.')\n"
   ]
  },
  {
   "cell_type": "markdown",
   "id": "363cfd96",
   "metadata": {},
   "source": [
    "#### pad_sequence로 padding 적용"
   ]
  },
  {
   "cell_type": "code",
   "execution_count": 44,
   "id": "6cb7d14b",
   "metadata": {},
   "outputs": [
    {
     "name": "stdout",
     "output_type": "stream",
     "text": [
      "(146182, 54)\n"
     ]
    }
   ],
   "source": [
    "X_train = tf.keras.preprocessing.sequence.pad_sequences(X_train,\n",
    "                                                        value=word_to_index[\"<PAD>\"],\n",
    "                                                        padding='post', # 혹은 'pre'\n",
    "                                                        maxlen=maxlen)\n",
    "\n",
    "X_test = tf.keras.preprocessing.sequence.pad_sequences(X_test,\n",
    "                                                       value=word_to_index[\"<PAD>\"],\n",
    "                                                       padding='post', # 혹은 'pre'\n",
    "                                                       maxlen=maxlen)\n",
    "\n",
    "print(x_train.shape)"
   ]
  },
  {
   "cell_type": "markdown",
   "id": "e69fb6cc",
   "metadata": {},
   "source": [
    "### 4. 모델 구성 및 validation set 구성  "
   ]
  },
  {
   "cell_type": "code",
   "execution_count": 9,
   "id": "ffa05a27",
   "metadata": {},
   "outputs": [],
   "source": [
    "vocab_size = 10000    # 어휘 사전의 크기입니다(10,000개의 단어)\n",
    "word_vector_dim = 16  # 워드 벡터의 차원 수 (변경 가능한 하이퍼파라미터)"
   ]
  },
  {
   "cell_type": "markdown",
   "id": "bc5c0d20",
   "metadata": {},
   "source": [
    "#### 4.1. CNN"
   ]
  },
  {
   "cell_type": "code",
   "execution_count": 52,
   "id": "82fd7a65",
   "metadata": {},
   "outputs": [
    {
     "name": "stdout",
     "output_type": "stream",
     "text": [
      "Model: \"model_cnn\"\n",
      "_________________________________________________________________\n",
      "Layer (type)                 Output Shape              Param #   \n",
      "=================================================================\n",
      "embedding_12 (Embedding)     (None, None, 16)          160000    \n",
      "_________________________________________________________________\n",
      "conv1d_6 (Conv1D)            (None, None, 16)          1808      \n",
      "_________________________________________________________________\n",
      "max_pooling1d_3 (MaxPooling1 (None, None, 16)          0         \n",
      "_________________________________________________________________\n",
      "conv1d_7 (Conv1D)            (None, None, 16)          1808      \n",
      "_________________________________________________________________\n",
      "global_max_pooling1d_7 (Glob (None, 16)                0         \n",
      "_________________________________________________________________\n",
      "dense_24 (Dense)             (None, 8)                 136       \n",
      "_________________________________________________________________\n",
      "dense_25 (Dense)             (None, 1)                 9         \n",
      "=================================================================\n",
      "Total params: 163,761\n",
      "Trainable params: 163,761\n",
      "Non-trainable params: 0\n",
      "_________________________________________________________________\n"
     ]
    }
   ],
   "source": [
    "model_cnn = tf.keras.Sequential(name = \"model_cnn\")\n",
    "model_cnn.add(tf.keras.layers.Embedding(vocab_size, word_vector_dim, input_shape=(None,)))\n",
    "model_cnn.add(tf.keras.layers.Conv1D(16, 7, activation='relu'))\n",
    "model_cnn.add(tf.keras.layers.MaxPooling1D(5))\n",
    "model_cnn.add(tf.keras.layers.Conv1D(16, 7, activation='relu'))\n",
    "model_cnn.add(tf.keras.layers.GlobalMaxPooling1D())\n",
    "model_cnn.add(tf.keras.layers.Dense(8, activation='relu'))\n",
    "model_cnn.add(tf.keras.layers.Dense(1, activation='sigmoid'))  # 최종 출력은 긍정/부정을 나타내는 1dim 입니다.\n",
    "\n",
    "model_cnn.summary()"
   ]
  },
  {
   "cell_type": "markdown",
   "id": "9a0cc96c",
   "metadata": {},
   "source": [
    "#### 4.2. CNN - Global Maxpooling"
   ]
  },
  {
   "cell_type": "code",
   "execution_count": 51,
   "id": "cd3b8b59",
   "metadata": {},
   "outputs": [
    {
     "name": "stdout",
     "output_type": "stream",
     "text": [
      "Model: \"model_cnn_global\"\n",
      "_________________________________________________________________\n",
      "Layer (type)                 Output Shape              Param #   \n",
      "=================================================================\n",
      "embedding_11 (Embedding)     (None, None, 16)          160000    \n",
      "_________________________________________________________________\n",
      "global_max_pooling1d_6 (Glob (None, 16)                0         \n",
      "_________________________________________________________________\n",
      "dense_22 (Dense)             (None, 8)                 136       \n",
      "_________________________________________________________________\n",
      "dense_23 (Dense)             (None, 1)                 9         \n",
      "=================================================================\n",
      "Total params: 160,145\n",
      "Trainable params: 160,145\n",
      "Non-trainable params: 0\n",
      "_________________________________________________________________\n"
     ]
    }
   ],
   "source": [
    "model_cnnglobal = tf.keras.Sequential(name = \"model_cnn_global\")\n",
    "model_cnnglobal.add(tf.keras.layers.Embedding(vocab_size, word_vector_dim, input_shape=(None,)))\n",
    "model_cnnglobal.add(tf.keras.layers.GlobalMaxPooling1D())\n",
    "model_cnnglobal.add(tf.keras.layers.Dense(8, activation='relu'))\n",
    "model_cnnglobal.add(tf.keras.layers.Dense(1, activation='sigmoid'))  # 최종 출력은 긍정/부정을 나타내는 1dim 입니다.\n",
    "\n",
    "model_cnnglobal.summary()"
   ]
  },
  {
   "cell_type": "markdown",
   "id": "6414d34b",
   "metadata": {},
   "source": [
    "#### 4.3. RNN"
   ]
  },
  {
   "cell_type": "code",
   "execution_count": 50,
   "id": "535e2a43",
   "metadata": {},
   "outputs": [
    {
     "name": "stdout",
     "output_type": "stream",
     "text": [
      "Model: \"model_rnn\"\n",
      "_________________________________________________________________\n",
      "Layer (type)                 Output Shape              Param #   \n",
      "=================================================================\n",
      "embedding_10 (Embedding)     (None, None, 16)          160000    \n",
      "_________________________________________________________________\n",
      "lstm_4 (LSTM)                (None, 8)                 800       \n",
      "_________________________________________________________________\n",
      "dense_20 (Dense)             (None, 8)                 72        \n",
      "_________________________________________________________________\n",
      "dense_21 (Dense)             (None, 1)                 9         \n",
      "=================================================================\n",
      "Total params: 160,881\n",
      "Trainable params: 160,881\n",
      "Non-trainable params: 0\n",
      "_________________________________________________________________\n"
     ]
    }
   ],
   "source": [
    "vocab_size = 10000    # 어휘 사전의 크기입니다(10,000개의 단어)\n",
    "word_vector_dim = 16  # 워드 벡터의 차원 수 (변경 가능한 하이퍼파라미터)\n",
    "\n",
    "\n",
    "model_rnn = tf.keras.Sequential(name='model_rnn')\n",
    "model_rnn.add(tf.keras.layers.Embedding(vocab_size, word_vector_dim, input_shape=(None,)))\n",
    "model_rnn.add(tf.keras.layers.LSTM(8))   # 가장 널리 쓰이는 RNN인 LSTM 레이어를 사용하였습니다. 이때 LSTM state 벡터의 차원수는 8로 하였습니다. (변경 가능)\n",
    "model_rnn.add(tf.keras.layers.Dense(8, activation='relu'))\n",
    "model_rnn.add(tf.keras.layers.Dense(1, activation='sigmoid'))  # 최종 출력은 긍정/부정을 나타내는 1dim 입니다.\n",
    "\n",
    "model_rnn.summary()\n"
   ]
  },
  {
   "cell_type": "markdown",
   "id": "8ff88074",
   "metadata": {},
   "source": [
    "### 5. 모델 훈련 개시\n"
   ]
  },
  {
   "cell_type": "code",
   "execution_count": 78,
   "id": "dac8f2eb",
   "metadata": {},
   "outputs": [
    {
     "name": "stdout",
     "output_type": "stream",
     "text": [
      "(136182, 54)\n",
      "(136182,)\n"
     ]
    }
   ],
   "source": [
    "# validation set 10000건 분리\n",
    "X_val = X_train[:10000]\n",
    "y_val = y_train[:10000]\n",
    "\n",
    "# validation set을 제외한 나머지 136182 건\n",
    "partial_X_train = X_train[10000:]\n",
    "partial_y_train = y_train[10000:]\n",
    "\n",
    "print(partial_X_train.shape)\n",
    "print(partial_y_train.shape)"
   ]
  },
  {
   "cell_type": "code",
   "execution_count": 79,
   "id": "0887e1ce",
   "metadata": {},
   "outputs": [
    {
     "name": "stdout",
     "output_type": "stream",
     "text": [
      "==== ==== ==== ==== ==== ==== ==== ====\n",
      "model name: model_cnn fit start!!\n",
      "Epoch 1/20\n",
      "266/266 [==============================] - 2s 6ms/step - loss: 0.2074 - accuracy: 0.9407 - val_loss: 0.4795 - val_accuracy: 0.8319\n",
      "Epoch 2/20\n",
      "266/266 [==============================] - 1s 5ms/step - loss: 0.1506 - accuracy: 0.9526 - val_loss: 0.4945 - val_accuracy: 0.8305\n",
      "Epoch 3/20\n",
      "266/266 [==============================] - 1s 5ms/step - loss: 0.1243 - accuracy: 0.9617 - val_loss: 0.5329 - val_accuracy: 0.8274\n",
      "Epoch 4/20\n",
      "266/266 [==============================] - 1s 5ms/step - loss: 0.1045 - accuracy: 0.9682 - val_loss: 0.5912 - val_accuracy: 0.8280\n",
      "Epoch 5/20\n",
      "266/266 [==============================] - 1s 5ms/step - loss: 0.0893 - accuracy: 0.9728 - val_loss: 0.6324 - val_accuracy: 0.8225\n",
      "Epoch 6/20\n",
      "266/266 [==============================] - 1s 5ms/step - loss: 0.0773 - accuracy: 0.9766 - val_loss: 0.7014 - val_accuracy: 0.8253\n",
      "Epoch 7/20\n",
      "266/266 [==============================] - 1s 5ms/step - loss: 0.0676 - accuracy: 0.9796 - val_loss: 0.7698 - val_accuracy: 0.8229\n",
      "Epoch 8/20\n",
      "266/266 [==============================] - 1s 5ms/step - loss: 0.0607 - accuracy: 0.9816 - val_loss: 0.8080 - val_accuracy: 0.8208\n",
      "Epoch 9/20\n",
      "266/266 [==============================] - 1s 5ms/step - loss: 0.0542 - accuracy: 0.9839 - val_loss: 0.8644 - val_accuracy: 0.8191\n",
      "Epoch 10/20\n",
      "266/266 [==============================] - 1s 5ms/step - loss: 0.0498 - accuracy: 0.9853 - val_loss: 0.9142 - val_accuracy: 0.8167\n",
      "Epoch 11/20\n",
      "266/266 [==============================] - 1s 5ms/step - loss: 0.0459 - accuracy: 0.9864 - val_loss: 0.9591 - val_accuracy: 0.8205\n",
      "Epoch 12/20\n",
      "266/266 [==============================] - 1s 5ms/step - loss: 0.0431 - accuracy: 0.9869 - val_loss: 1.0323 - val_accuracy: 0.8163\n",
      "Epoch 13/20\n",
      "266/266 [==============================] - 1s 5ms/step - loss: 0.0413 - accuracy: 0.9876 - val_loss: 1.0524 - val_accuracy: 0.8190\n",
      "Epoch 14/20\n",
      "266/266 [==============================] - 1s 5ms/step - loss: 0.0399 - accuracy: 0.9878 - val_loss: 1.1156 - val_accuracy: 0.8184\n",
      "Epoch 15/20\n",
      "266/266 [==============================] - 1s 5ms/step - loss: 0.0386 - accuracy: 0.9878 - val_loss: 1.1534 - val_accuracy: 0.8160\n",
      "Epoch 16/20\n",
      "266/266 [==============================] - 1s 5ms/step - loss: 0.0365 - accuracy: 0.9885 - val_loss: 1.2274 - val_accuracy: 0.8175\n",
      "Epoch 17/20\n",
      "266/266 [==============================] - 1s 5ms/step - loss: 0.0341 - accuracy: 0.9896 - val_loss: 1.2212 - val_accuracy: 0.8149\n",
      "Epoch 18/20\n",
      "266/266 [==============================] - 1s 5ms/step - loss: 0.0325 - accuracy: 0.9899 - val_loss: 1.3417 - val_accuracy: 0.8139\n",
      "Epoch 19/20\n",
      "266/266 [==============================] - 1s 5ms/step - loss: 0.0324 - accuracy: 0.9898 - val_loss: 1.2790 - val_accuracy: 0.8120\n",
      "Epoch 20/20\n",
      "266/266 [==============================] - 1s 5ms/step - loss: 0.0322 - accuracy: 0.9894 - val_loss: 1.3522 - val_accuracy: 0.8136\n",
      "==== ==== ==== ==== ==== ==== ==== ====\n",
      "model name: model_cnn_global fit start!!\n",
      "Epoch 1/20\n",
      "266/266 [==============================] - 1s 4ms/step - loss: 0.2277 - accuracy: 0.9214 - val_loss: 0.4442 - val_accuracy: 0.8326\n",
      "Epoch 2/20\n",
      "266/266 [==============================] - 1s 3ms/step - loss: 0.2066 - accuracy: 0.9272 - val_loss: 0.4393 - val_accuracy: 0.8343\n",
      "Epoch 3/20\n",
      "266/266 [==============================] - 1s 4ms/step - loss: 0.1953 - accuracy: 0.9311 - val_loss: 0.4430 - val_accuracy: 0.8342\n",
      "Epoch 4/20\n",
      "266/266 [==============================] - 1s 3ms/step - loss: 0.1858 - accuracy: 0.9352 - val_loss: 0.4523 - val_accuracy: 0.8333\n",
      "Epoch 5/20\n",
      "266/266 [==============================] - 1s 3ms/step - loss: 0.1777 - accuracy: 0.9386 - val_loss: 0.4613 - val_accuracy: 0.8332\n",
      "Epoch 6/20\n",
      "266/266 [==============================] - 1s 3ms/step - loss: 0.1707 - accuracy: 0.9410 - val_loss: 0.4730 - val_accuracy: 0.8311\n",
      "Epoch 7/20\n",
      "266/266 [==============================] - 1s 3ms/step - loss: 0.1640 - accuracy: 0.9435 - val_loss: 0.4840 - val_accuracy: 0.8319\n",
      "Epoch 8/20\n",
      "266/266 [==============================] - 1s 3ms/step - loss: 0.1582 - accuracy: 0.9455 - val_loss: 0.4959 - val_accuracy: 0.8322\n",
      "Epoch 9/20\n",
      "266/266 [==============================] - 1s 3ms/step - loss: 0.1526 - accuracy: 0.9486 - val_loss: 0.5055 - val_accuracy: 0.8308\n",
      "Epoch 10/20\n",
      "266/266 [==============================] - 1s 3ms/step - loss: 0.1476 - accuracy: 0.9503 - val_loss: 0.5173 - val_accuracy: 0.8310\n",
      "Epoch 11/20\n",
      "266/266 [==============================] - 1s 3ms/step - loss: 0.1431 - accuracy: 0.9517 - val_loss: 0.5289 - val_accuracy: 0.8322\n",
      "Epoch 12/20\n",
      "266/266 [==============================] - 1s 3ms/step - loss: 0.1390 - accuracy: 0.9536 - val_loss: 0.5405 - val_accuracy: 0.8276\n",
      "Epoch 13/20\n",
      "266/266 [==============================] - 1s 3ms/step - loss: 0.1351 - accuracy: 0.9551 - val_loss: 0.5566 - val_accuracy: 0.8307\n",
      "Epoch 14/20\n",
      "266/266 [==============================] - 1s 3ms/step - loss: 0.1314 - accuracy: 0.9566 - val_loss: 0.5654 - val_accuracy: 0.8287\n",
      "Epoch 15/20\n",
      "266/266 [==============================] - 1s 3ms/step - loss: 0.1279 - accuracy: 0.9581 - val_loss: 0.5758 - val_accuracy: 0.8298\n",
      "Epoch 16/20\n",
      "266/266 [==============================] - 1s 3ms/step - loss: 0.1251 - accuracy: 0.9596 - val_loss: 0.5880 - val_accuracy: 0.8253\n",
      "Epoch 17/20\n",
      "266/266 [==============================] - 1s 3ms/step - loss: 0.1221 - accuracy: 0.9601 - val_loss: 0.6009 - val_accuracy: 0.8255\n",
      "Epoch 18/20\n",
      "266/266 [==============================] - 1s 4ms/step - loss: 0.1195 - accuracy: 0.9613 - val_loss: 0.6064 - val_accuracy: 0.8266\n",
      "Epoch 19/20\n",
      "266/266 [==============================] - 1s 3ms/step - loss: 0.1171 - accuracy: 0.9624 - val_loss: 0.6217 - val_accuracy: 0.8228\n",
      "Epoch 20/20\n",
      "266/266 [==============================] - 1s 3ms/step - loss: 0.1145 - accuracy: 0.9631 - val_loss: 0.6296 - val_accuracy: 0.8251\n",
      "==== ==== ==== ==== ==== ==== ==== ====\n",
      "model name: model_rnn fit start!!\n",
      "Epoch 1/20\n",
      "266/266 [==============================] - 3s 7ms/step - loss: 0.2553 - accuracy: 0.8967 - val_loss: 0.3924 - val_accuracy: 0.8428\n",
      "Epoch 2/20\n",
      "266/266 [==============================] - 2s 6ms/step - loss: 0.2391 - accuracy: 0.9031 - val_loss: 0.3952 - val_accuracy: 0.8423\n",
      "Epoch 3/20\n",
      "266/266 [==============================] - 2s 6ms/step - loss: 0.2299 - accuracy: 0.9073 - val_loss: 0.3974 - val_accuracy: 0.8439\n",
      "Epoch 4/20\n",
      "266/266 [==============================] - 2s 6ms/step - loss: 0.2208 - accuracy: 0.9115 - val_loss: 0.4024 - val_accuracy: 0.8454\n",
      "Epoch 5/20\n",
      "266/266 [==============================] - 2s 6ms/step - loss: 0.2134 - accuracy: 0.9144 - val_loss: 0.4159 - val_accuracy: 0.8451\n",
      "Epoch 6/20\n",
      "266/266 [==============================] - 1s 6ms/step - loss: 0.2088 - accuracy: 0.9167 - val_loss: 0.4181 - val_accuracy: 0.8451\n",
      "Epoch 7/20\n",
      "266/266 [==============================] - 1s 6ms/step - loss: 0.2016 - accuracy: 0.9203 - val_loss: 0.4298 - val_accuracy: 0.8484\n",
      "Epoch 8/20\n",
      "266/266 [==============================] - 2s 6ms/step - loss: 0.1975 - accuracy: 0.9223 - val_loss: 0.4334 - val_accuracy: 0.8443\n",
      "Epoch 9/20\n",
      "266/266 [==============================] - 2s 6ms/step - loss: 0.1924 - accuracy: 0.9250 - val_loss: 0.4387 - val_accuracy: 0.8436\n",
      "Epoch 10/20\n",
      "266/266 [==============================] - 1s 6ms/step - loss: 0.1898 - accuracy: 0.9260 - val_loss: 0.4481 - val_accuracy: 0.8418\n",
      "Epoch 11/20\n",
      "266/266 [==============================] - 2s 6ms/step - loss: 0.1861 - accuracy: 0.9276 - val_loss: 0.4387 - val_accuracy: 0.8417\n",
      "Epoch 12/20\n",
      "266/266 [==============================] - 2s 6ms/step - loss: 0.1809 - accuracy: 0.9305 - val_loss: 0.4473 - val_accuracy: 0.8416\n",
      "Epoch 13/20\n",
      "266/266 [==============================] - 2s 6ms/step - loss: 0.1777 - accuracy: 0.9325 - val_loss: 0.4542 - val_accuracy: 0.8417\n",
      "Epoch 14/20\n",
      "266/266 [==============================] - 2s 6ms/step - loss: 0.1749 - accuracy: 0.9337 - val_loss: 0.4641 - val_accuracy: 0.8413\n",
      "Epoch 15/20\n",
      "266/266 [==============================] - 2s 6ms/step - loss: 0.1738 - accuracy: 0.9343 - val_loss: 0.4608 - val_accuracy: 0.8363\n",
      "Epoch 16/20\n",
      "266/266 [==============================] - 2s 6ms/step - loss: 0.1722 - accuracy: 0.9353 - val_loss: 0.4685 - val_accuracy: 0.8363\n",
      "Epoch 17/20\n",
      "266/266 [==============================] - 2s 6ms/step - loss: 0.1707 - accuracy: 0.9361 - val_loss: 0.4674 - val_accuracy: 0.8387\n",
      "Epoch 18/20\n",
      "266/266 [==============================] - 2s 6ms/step - loss: 0.1649 - accuracy: 0.9392 - val_loss: 0.4756 - val_accuracy: 0.8385\n",
      "Epoch 19/20\n",
      "266/266 [==============================] - 2s 6ms/step - loss: 0.1614 - accuracy: 0.9404 - val_loss: 0.4903 - val_accuracy: 0.8435\n",
      "Epoch 20/20\n",
      "266/266 [==============================] - 2s 6ms/step - loss: 0.1593 - accuracy: 0.9417 - val_loss: 0.4896 - val_accuracy: 0.8328\n"
     ]
    }
   ],
   "source": [
    "epochs = 20\n",
    "models = [model_cnn, model_cnnglobal, model_rnn]\n",
    "\n",
    "list_history = []\n",
    "for model in models:\n",
    "    model.compile(optimizer='adam',\n",
    "          loss='binary_crossentropy',\n",
    "          metrics=['accuracy'])\n",
    "    \n",
    "    print(\"==== ==== ==== ==== ==== ==== ==== ====\")\n",
    "    print(f\"model name: {model._name} fit start!!\")\n",
    "    history = model.fit(partial_X_train,\n",
    "                        partial_y_train,\n",
    "                        epochs=epochs,\n",
    "                        batch_size=512,\n",
    "                        validation_data=(X_val, y_val),\n",
    "                        verbose=1)\n",
    "    \n",
    "    list_history.append(history)\n",
    "    "
   ]
  },
  {
   "cell_type": "code",
   "execution_count": 80,
   "id": "3db35cc0",
   "metadata": {},
   "outputs": [
    {
     "data": {
      "text/plain": [
       "{'model 1': {'loss': [0.20735780894756317,\n",
       "   0.1506299376487732,\n",
       "   0.1243237629532814,\n",
       "   0.10451369732618332,\n",
       "   0.0892816036939621,\n",
       "   0.07727459818124771,\n",
       "   0.06763991713523865,\n",
       "   0.0606984905898571,\n",
       "   0.05416037142276764,\n",
       "   0.049811434000730515,\n",
       "   0.0459340363740921,\n",
       "   0.04308614134788513,\n",
       "   0.0412629134953022,\n",
       "   0.0399002879858017,\n",
       "   0.038629598915576935,\n",
       "   0.03653697669506073,\n",
       "   0.03411947563290596,\n",
       "   0.03249696269631386,\n",
       "   0.032409925013780594,\n",
       "   0.03216072544455528],\n",
       "  'accuracy': [0.9406749606132507,\n",
       "   0.9525707960128784,\n",
       "   0.9617130160331726,\n",
       "   0.968218982219696,\n",
       "   0.9727864265441895,\n",
       "   0.976575493812561,\n",
       "   0.9795787930488586,\n",
       "   0.9816495776176453,\n",
       "   0.9838892221450806,\n",
       "   0.9852550029754639,\n",
       "   0.986422598361969,\n",
       "   0.9868999123573303,\n",
       "   0.9875901341438293,\n",
       "   0.9878104329109192,\n",
       "   0.9878250956535339,\n",
       "   0.9884859919548035,\n",
       "   0.9896461963653564,\n",
       "   0.9899399280548096,\n",
       "   0.9898003935813904,\n",
       "   0.989433228969574],\n",
       "  'val_loss': [0.4794645607471466,\n",
       "   0.49449750781059265,\n",
       "   0.5329122543334961,\n",
       "   0.5912212133407593,\n",
       "   0.6324032545089722,\n",
       "   0.7014080286026001,\n",
       "   0.7698143720626831,\n",
       "   0.808038055896759,\n",
       "   0.8643624782562256,\n",
       "   0.9141596555709839,\n",
       "   0.9590683579444885,\n",
       "   1.0322715044021606,\n",
       "   1.0523548126220703,\n",
       "   1.1156104803085327,\n",
       "   1.1533536911010742,\n",
       "   1.2273616790771484,\n",
       "   1.2211639881134033,\n",
       "   1.3416537046432495,\n",
       "   1.279035210609436,\n",
       "   1.3521941900253296],\n",
       "  'val_accuracy': [0.8319000005722046,\n",
       "   0.8305000066757202,\n",
       "   0.8274000287055969,\n",
       "   0.828000009059906,\n",
       "   0.8224999904632568,\n",
       "   0.8252999782562256,\n",
       "   0.8228999972343445,\n",
       "   0.8208000063896179,\n",
       "   0.819100022315979,\n",
       "   0.8166999816894531,\n",
       "   0.8205000162124634,\n",
       "   0.8162999749183655,\n",
       "   0.8190000057220459,\n",
       "   0.8184000253677368,\n",
       "   0.8159999847412109,\n",
       "   0.8174999952316284,\n",
       "   0.8148999810218811,\n",
       "   0.8138999938964844,\n",
       "   0.8119999766349792,\n",
       "   0.8136000037193298]},\n",
       " 'model 2': {'loss': [0.2276599407196045,\n",
       "   0.20661750435829163,\n",
       "   0.19530871510505676,\n",
       "   0.18579667806625366,\n",
       "   0.1776552051305771,\n",
       "   0.17067335546016693,\n",
       "   0.16399668157100677,\n",
       "   0.15821929275989532,\n",
       "   0.1526288241147995,\n",
       "   0.14764201641082764,\n",
       "   0.14310716092586517,\n",
       "   0.13895608484745026,\n",
       "   0.13505086302757263,\n",
       "   0.1313726305961609,\n",
       "   0.12787355482578278,\n",
       "   0.12510575354099274,\n",
       "   0.12209997326135635,\n",
       "   0.11952095478773117,\n",
       "   0.11706000566482544,\n",
       "   0.11450307816267014],\n",
       "  'accuracy': [0.9213552474975586,\n",
       "   0.927170991897583,\n",
       "   0.9311069250106812,\n",
       "   0.935211718082428,\n",
       "   0.9385969042778015,\n",
       "   0.9409540295600891,\n",
       "   0.9435314536094666,\n",
       "   0.9455140829086304,\n",
       "   0.9486422538757324,\n",
       "   0.9503385424613953,\n",
       "   0.9516896605491638,\n",
       "   0.9536429047584534,\n",
       "   0.9551041722297668,\n",
       "   0.9566242098808289,\n",
       "   0.958078145980835,\n",
       "   0.9596202373504639,\n",
       "   0.9601195454597473,\n",
       "   0.9612944722175598,\n",
       "   0.9623885750770569,\n",
       "   0.9631155133247375],\n",
       "  'val_loss': [0.4441540539264679,\n",
       "   0.43932875990867615,\n",
       "   0.4429718852043152,\n",
       "   0.4523230493068695,\n",
       "   0.4613199234008789,\n",
       "   0.47298726439476013,\n",
       "   0.4839525520801544,\n",
       "   0.4959088861942291,\n",
       "   0.5055415630340576,\n",
       "   0.5172508358955383,\n",
       "   0.5288944244384766,\n",
       "   0.5404772758483887,\n",
       "   0.5565948486328125,\n",
       "   0.56536465883255,\n",
       "   0.5757729411125183,\n",
       "   0.5879539847373962,\n",
       "   0.600852906703949,\n",
       "   0.6063840389251709,\n",
       "   0.6216608881950378,\n",
       "   0.6295581459999084],\n",
       "  'val_accuracy': [0.8325999975204468,\n",
       "   0.8342999815940857,\n",
       "   0.8342000246047974,\n",
       "   0.833299994468689,\n",
       "   0.8331999778747559,\n",
       "   0.8310999870300293,\n",
       "   0.8319000005722046,\n",
       "   0.8321999907493591,\n",
       "   0.8307999968528748,\n",
       "   0.8309999704360962,\n",
       "   0.8321999907493591,\n",
       "   0.8276000022888184,\n",
       "   0.8306999802589417,\n",
       "   0.8287000060081482,\n",
       "   0.829800009727478,\n",
       "   0.8252999782562256,\n",
       "   0.8255000114440918,\n",
       "   0.8266000151634216,\n",
       "   0.8227999806404114,\n",
       "   0.8251000046730042]},\n",
       " 'model 3': {'loss': [0.25530877709388733,\n",
       "   0.2390885204076767,\n",
       "   0.2298581749200821,\n",
       "   0.22078059613704681,\n",
       "   0.21336086094379425,\n",
       "   0.2088344246149063,\n",
       "   0.20160053670406342,\n",
       "   0.19753336906433105,\n",
       "   0.19241060316562653,\n",
       "   0.18975716829299927,\n",
       "   0.18609707057476044,\n",
       "   0.18093277513980865,\n",
       "   0.17772221565246582,\n",
       "   0.17486712336540222,\n",
       "   0.17381423711776733,\n",
       "   0.1722024530172348,\n",
       "   0.17070768773555756,\n",
       "   0.1649281233549118,\n",
       "   0.16143937408924103,\n",
       "   0.15925611555576324],\n",
       "  'accuracy': [0.8966897130012512,\n",
       "   0.9031149744987488,\n",
       "   0.907271146774292,\n",
       "   0.9115008115768433,\n",
       "   0.9144233465194702,\n",
       "   0.9166997075080872,\n",
       "   0.9202537536621094,\n",
       "   0.9222511053085327,\n",
       "   0.9250194430351257,\n",
       "   0.9260401725769043,\n",
       "   0.927574872970581,\n",
       "   0.9305341243743896,\n",
       "   0.9325167536735535,\n",
       "   0.9336549639701843,\n",
       "   0.9342644214630127,\n",
       "   0.9353291988372803,\n",
       "   0.9360928535461426,\n",
       "   0.9391623139381409,\n",
       "   0.9404253363609314,\n",
       "   0.9416882991790771],\n",
       "  'val_loss': [0.392391175031662,\n",
       "   0.3951871991157532,\n",
       "   0.39742448925971985,\n",
       "   0.4024291932582855,\n",
       "   0.415881484746933,\n",
       "   0.4180898070335388,\n",
       "   0.42982056736946106,\n",
       "   0.4333879053592682,\n",
       "   0.4387332499027252,\n",
       "   0.4481116831302643,\n",
       "   0.4387109875679016,\n",
       "   0.4472796320915222,\n",
       "   0.45423242449760437,\n",
       "   0.4640946388244629,\n",
       "   0.4608204960823059,\n",
       "   0.46854233741760254,\n",
       "   0.4673579931259155,\n",
       "   0.47559854388237,\n",
       "   0.4903094172477722,\n",
       "   0.48962876200675964],\n",
       "  'val_accuracy': [0.8428000211715698,\n",
       "   0.8422999978065491,\n",
       "   0.8439000248908997,\n",
       "   0.8453999757766724,\n",
       "   0.8450999855995178,\n",
       "   0.8450999855995178,\n",
       "   0.8483999967575073,\n",
       "   0.8442999720573425,\n",
       "   0.8435999751091003,\n",
       "   0.8417999744415283,\n",
       "   0.84170001745224,\n",
       "   0.8416000008583069,\n",
       "   0.84170001745224,\n",
       "   0.8413000106811523,\n",
       "   0.8363000154495239,\n",
       "   0.8363000154495239,\n",
       "   0.838699996471405,\n",
       "   0.8385000228881836,\n",
       "   0.843500018119812,\n",
       "   0.8327999711036682]}}"
      ]
     },
     "execution_count": 80,
     "metadata": {},
     "output_type": "execute_result"
    }
   ],
   "source": [
    "dict_history = {f'model {i+1}': dict(history.history) for i, history in enumerate(list_history)}\n",
    "dict_history"
   ]
  },
  {
   "cell_type": "markdown",
   "id": "21d451db",
   "metadata": {},
   "source": [
    "### 6. Loss, Accuracy 그래프 시각화\n"
   ]
  },
  {
   "cell_type": "code",
   "execution_count": 81,
   "id": "25ee832e",
   "metadata": {},
   "outputs": [
    {
     "data": {
      "text/plain": [
       "dict_keys(['model 1', 'model 2', 'model 3'])"
      ]
     },
     "execution_count": 81,
     "metadata": {},
     "output_type": "execute_result"
    }
   ],
   "source": [
    "dict_history.keys()"
   ]
  },
  {
   "cell_type": "code",
   "execution_count": 86,
   "id": "a4fcabc1",
   "metadata": {
    "scrolled": true
   },
   "outputs": [
    {
     "data": {
      "image/png": "[encoded data removed]",
      "text/plain": [
       "<Figure size 1008x360 with 3 Axes>"
      ]
     },
     "metadata": {
      "needs_background": "light"
     },
     "output_type": "display_data"
    }
   ],
   "source": [
    "import matplotlib.pyplot as plt\n",
    "\n",
    "fig, axes = plt.subplots(1, 3, figsize=(14, 5))\n",
    "\n",
    "plt.suptitle(\"Accuracy & Loss - Training and Validation\")\n",
    "\n",
    "for ax, key in zip(axes, dict_history.keys()):    \n",
    "    history = dict_history[key]\n",
    "    \n",
    "    acc = history['accuracy']\n",
    "    val_acc = history['val_accuracy']\n",
    "    loss = history['loss']\n",
    "    val_loss = history['val_loss']\n",
    "    \n",
    "    epochs = range(1, len(acc) + 1)\n",
    "    \n",
    "    ax.plot(epochs, acc, 'g', label='Train Accuracy')  \n",
    "    ax.plot(epochs, loss, 'bo', label='Train Loss')\n",
    "    ax.plot(epochs, val_acc, 'go', label = 'Validation Accuracy')\n",
    "    ax.plot(epochs, val_loss, 'b', label='Validation loss')\n",
    "    \n",
    "    ax.set_title(key)\n",
    "    ax.set_xlabel('Epochs')\n",
    "    ax.set_ylabel('Loss')\n",
    "    \n",
    "\n",
    "plt.show()"
   ]
  },
  {
   "cell_type": "markdown",
   "id": "b63c1b62",
   "metadata": {},
   "source": [
    "### 7. 학습된 Embedding Layer 분석\n"
   ]
  },
  {
   "cell_type": "markdown",
   "id": "7395b9d7",
   "metadata": {},
   "source": [
    "### 8. 한국어 word2vec 임베딩 활용해 성능 개선"
   ]
  },
  {
   "cell_type": "code",
   "execution_count": null,
   "id": "75702ea3",
   "metadata": {},
   "outputs": [],
   "source": []
  }
 ],
 "metadata": {
  "kernelspec": {
   "display_name": "Python 3 (ipykernel)",
   "language": "python",
   "name": "python3"
  },
  "language_info": {
   "codemirror_mode": {
    "name": "ipython",
    "version": 3
   },
   "file_extension": ".py",
   "mimetype": "text/x-python",
   "name": "python",
   "nbconvert_exporter": "python",
   "pygments_lexer": "ipython3",
   "version": "3.9.7"
  }
 },
 "nbformat": 4,
 "nbformat_minor": 5
}
