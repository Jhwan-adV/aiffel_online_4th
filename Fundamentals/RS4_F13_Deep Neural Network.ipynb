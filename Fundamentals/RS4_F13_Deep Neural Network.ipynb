{
 "cells": [
  {
   "attachments": {},
   "cell_type": "markdown",
   "metadata": {},
   "source": [
    "## F13. Deep Network"
   ]
  },
  {
   "attachments": {},
   "cell_type": "markdown",
   "metadata": {},
   "source": [
    "### ILSVRC 2010\n",
    "\n",
    "이미지 분류기 (Image Classification) Task에 11개 팀 참여.  \n",
    "\n",
    "NEC-UIUC - `Descriptor Coding` + `SVM` = 오류율 28%로 1등 달성 (2010)  \n",
    "Xerox Research Centre Europe = 오류율 26%로 1등 (2011)  \n",
    "Supervision (by Geoffrey Hinton) = 오류율 16%로 1등 (2012)"
   ]
  },
  {
   "attachments": {},
   "cell_type": "markdown",
   "metadata": {},
   "source": []
  }
 ],
 "metadata": {
  "language_info": {
   "name": "python"
  },
  "orig_nbformat": 4
 },
 "nbformat": 4,
 "nbformat_minor": 2
}
