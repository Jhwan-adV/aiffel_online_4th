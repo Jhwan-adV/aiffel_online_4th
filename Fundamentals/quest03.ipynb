{
 "cells": [
  {
<<<<<<< HEAD
   "attachments": {},
   "cell_type": "markdown",
   "metadata": {},
   "source": [
    "### 7-3. 결측치 보완 방법\n",
    "https://daebaq27.tistory.com/43 \n",
    "\n",
    "#### 연속형 데이터\n",
    "1. 특정 값을 지정한다.\n",
    "2. 평균, 중앙값 등의 통계값을 활용한다. \n",
    "3. 과거의 데이터를 활용, 예측 값으로 대체한다.  \n",
    "4. 시계열 데이터의 경우 결측이 일어난 곳의 전후 데이터의 평균으로 보완한다. \n",
    "\n",
    "#### 범주형 데이터\n",
    "1. 특정 값을 지정한다\n",
    "2. 최빈값 등으로 대체한다\n",
    "3. 다른 데이터를 이용한 예측값을 대입한다\n",
    "4. 앞뒤 데이터가 같다면 해당 값으로, 아니라면 둘 중 하나를 선택하여"
   ]
  },
  {
   "attachments": {},
   "cell_type": "markdown",
   "metadata": {},
   "source": [
    "### 7-4. 이상치\n",
    "\n",
    "#### 판별 기준\n",
    "`z score` 계산 → 특정 수치 이상일 때 이상치 판단\n",
    "\n",
    "#### 판단 후 조치\n",
    "1. 이상치 삭제\n",
    "2. 다른 값으로 대체\n",
    "3. 결측치와 마찬가지로 예측 모델을 만들어 예측값 활용\n",
    "4. `binning`으로 수치형 데이터를 범주화\n",
    "\n",
    "#### 판별 방법 3가지\n",
    "1. **z-score**  \n",
    "\n",
    "    일반적으로는 -3 이하 혹은 3 초과일 때 이상치로 판단  \n",
    "    데이터의 중심 경향성과 산포도를 고려한 기준이지만,  \n",
    "    역으로 평균과 표준편차가 이상치의 영향을 굉장히 많이 받기 때문에 적절하지 못하다  \n",
    "\n",
    "    데이터 수가 적은 데이터셋에서 잘 작동하지 않는다.  \n",
    "    일반적으로 12개 미만 레코드에서는 이상치를 발견하지 못함.  \n",
    "\n",
    "2. **modified z-score**  \n",
    "\n",
    "    평균과 표준편차가 아닌, 중앙값과 중앙값 절대편차(MAD: Median Absolute Deviation)을 활용한다\n",
    "\n",
    "3. **IQR (Inter Quartile Range)**\n"
   ]
  },
  {
   "attachments": {},
   "cell_type": "markdown",
   "metadata": {},
   "source": [
    "### 7-5 정규화\n",
    "\n",
    "1. Standardization  \n",
    "\n",
    "    평균은 0, 분산은 1  \n",
    "    데이터 분포가 가우시안 분포를 따를 때  \n",
    "\n",
    "2. Min-Max Scaling  \n",
    "\n",
    "    최솟값은 0, 최댓값은 1  \n",
    "    feature의 범위가 제각각이고, 확률 분포를 모를 때"
   ]
  },
  {
   "attachments": {},
   "cell_type": "markdown",
   "metadata": {},
   "source": [
    "### 7-6 One-hot & Multi-hot\n",
    "\n",
    "One-hot이 데이터 전처리에 필요한 이유는?"
   ]
  },
  {
   "attachments": {},
   "cell_type": "markdown",
   "metadata": {},
   "source": [
    "### 8-14 Counter\n",
    "\n",
    "Q. my_list = ['a', 'd', 'c', 'a', 'b']라는 리스트를 가지고 있을 경우, my_counter = collections.Counter(my_list)로 Counter 객체를 생성하면 my_counter에는 어떤 결과가 담기나요?"
   ]
  },
  {
   "cell_type": "code",
   "execution_count": 8,
   "metadata": {},
   "outputs": [],
   "source": [
    "import collections\n",
    "\n",
    "my_list = ['a', 'd', 'c', 'a', 'b']\n",
    "\n",
    "my_counter = collections.Counter(my_list)"
=======
   "cell_type": "code",
   "execution_count": 2,
   "metadata": {},
   "outputs": [],
   "source": [
    "# Q1 - 데이터 전처리 이유 & 기법\n",
    "\n",
    "## 결측과 왜곡에 대해 오류에 대한 조정 -> 정합성 유지한 상태로 머신러닝/딥러닝을 돌려야 함\n",
    "## 결과물이 더 나아지도록. \n",
    "## 이상치 제거, 정규화, One-Hot Encoding, 구간화"
>>>>>>> c3adba224463ebecae90da311b8759130bed2bf8
   ]
  },
  {
   "cell_type": "code",
<<<<<<< HEAD
   "execution_count": 9,
   "metadata": {},
   "outputs": [
    {
     "data": {
      "text/plain": [
       "Counter({'a': 2, 'd': 1, 'c': 1, 'b': 1})"
      ]
     },
     "execution_count": 9,
     "metadata": {},
     "output_type": "execute_result"
    }
   ],
   "source": [
    "my_counter"
   ]
  },
  {
   "cell_type": "code",
   "execution_count": null,
   "metadata": {},
   "outputs": [],
   "source": []
=======
   "execution_count": 1,
   "metadata": {},
   "outputs": [],
   "source": [
    "# Q2 - 이상치 판단\n",
    "\n",
    "## z-score & IQR"
   ]
  },
  {
   "cell_type": "code",
   "execution_count": 3,
   "metadata": {},
   "outputs": [],
   "source": [
    "# Q3 - Accuracy\n",
    "\n",
    "## TP + FN / All"
   ]
>>>>>>> c3adba224463ebecae90da311b8759130bed2bf8
  }
 ],
 "metadata": {
  "kernelspec": {
<<<<<<< HEAD
   "display_name": "Python 3",
=======
   "display_name": ".venv",
>>>>>>> c3adba224463ebecae90da311b8759130bed2bf8
   "language": "python",
   "name": "python3"
  },
  "language_info": {
   "codemirror_mode": {
    "name": "ipython",
    "version": 3
   },
   "file_extension": ".py",
   "mimetype": "text/x-python",
   "name": "python",
   "nbconvert_exporter": "python",
   "pygments_lexer": "ipython3",
<<<<<<< HEAD
   "version": "3.10.8"
=======
   "version": "3.10.10"
>>>>>>> c3adba224463ebecae90da311b8759130bed2bf8
  },
  "orig_nbformat": 4
 },
 "nbformat": 4,
 "nbformat_minor": 2
}
