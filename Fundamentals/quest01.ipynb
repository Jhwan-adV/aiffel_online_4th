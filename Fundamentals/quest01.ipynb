{
 "cells": [
  {
   "cell_type": "code",
   "execution_count": null,
   "metadata": {},
   "outputs": [],
   "source": [
    "# List & Array\n",
    "\n",
    "# https://wayhome25.github.io/cs/2017/04/17/cs-18-1/\n",
    "\n",
    "# https://www.geeksforgeeks.org/difference-between-list-and-array-in-python/ \n",
    "\n",
    "# https://ongveloper.tistory.com/403 "
   ]
  },
  {
   "cell_type": "code",
   "execution_count": 12,
   "metadata": {},
   "outputs": [
    {
     "name": "stdout",
     "output_type": "stream",
     "text": [
      "arr: 1, 1882805434160\n",
      "list: 1, 1882328662256\n",
      "arr: 2, 1882805422288\n",
      "list: 2, 1882328662288\n",
      "arr: 3, 1882782710256\n",
      "list: 3, 1882328662320\n"
     ]
    },
    {
     "data": {
      "text/plain": [
       "array([1, 2, 3])"
      ]
     },
     "execution_count": 12,
     "metadata": {},
     "output_type": "execute_result"
    }
   ],
   "source": [
    "import numpy as np\n",
    "\n",
    "arr_1 = np.array([1,2,3])\n",
    "list = [1,2,3]\n",
    "\n",
    "for x, y in zip(arr_1, list):\n",
    "    print(f\"arr: {x}, {id(x)}\")\n",
    "    print(f\"list: {y}, {id(y)}\")\n",
    "    \n",
    "arr_1"
   ]
  },
  {
   "cell_type": "code",
   "execution_count": 7,
   "metadata": {},
   "outputs": [],
   "source": [
    "import array as arr"
   ]
  },
  {
   "cell_type": "code",
   "execution_count": 15,
   "metadata": {},
   "outputs": [
    {
     "data": {
      "text/plain": [
       "array('i', [1, 2, 3])"
      ]
     },
     "execution_count": 15,
     "metadata": {},
     "output_type": "execute_result"
    }
   ],
   "source": [
    "arr_2 = arr.array('i', [1, 2, 3])\n",
    "arr_2\n"
   ]
  },
  {
   "cell_type": "code",
   "execution_count": 16,
   "metadata": {},
   "outputs": [
    {
     "data": {
      "text/plain": [
       "array('i', [1, 2, 3, 2])"
      ]
     },
     "execution_count": 16,
     "metadata": {},
     "output_type": "execute_result"
    }
   ],
   "source": [
    "arr_2.append(2)\n",
    "arr_2"
   ]
  },
  {
   "cell_type": "code",
   "execution_count": 18,
   "metadata": {},
   "outputs": [
    {
     "data": {
      "text/plain": [
       "array([[0.4842079 , 0.32994786, 0.7565803 , 0.33639744],\n",
       "       [0.94805996, 0.87891423, 0.35167948, 0.12360374],\n",
       "       [0.12010822, 0.36375521, 0.51194565, 0.53469564],\n",
       "       [0.44479092, 0.87717956, 0.51310665, 0.07945988],\n",
       "       [0.27805142, 0.66749066, 0.09604279, 0.96721827],\n",
       "       [0.64215473, 0.39031173, 0.41761097, 0.05159626]])"
      ]
     },
     "execution_count": 18,
     "metadata": {},
     "output_type": "execute_result"
    }
   ],
   "source": [
    "np.random.rand(6,4)"
   ]
  },
  {
   "cell_type": "code",
   "execution_count": null,
   "metadata": {},
   "outputs": [],
   "source": []
  }
 ],
 "metadata": {
  "kernelspec": {
   "display_name": "Python 3",
   "language": "python",
   "name": "python3"
  },
  "language_info": {
   "codemirror_mode": {
    "name": "ipython",
    "version": 3
   },
   "file_extension": ".py",
   "mimetype": "text/x-python",
   "name": "python",
   "nbconvert_exporter": "python",
   "pygments_lexer": "ipython3",
   "version": "3.10.10"
  },
  "orig_nbformat": 4
 },
 "nbformat": 4,
 "nbformat_minor": 2
}
