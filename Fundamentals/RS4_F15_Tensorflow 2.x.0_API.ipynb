{
 "cells": [
  {
   "cell_type": "code",
   "execution_count": 3,
   "metadata": {},
   "outputs": [],
   "source": [
    "import tensorflow as tf\n",
    "\n",
    "tape = tf.GradientTape()"
   ]
  },
  {
   "cell_type": "code",
   "execution_count": 16,
   "metadata": {},
   "outputs": [
    {
     "data": {
      "text/plain": [
       "['__class__',\n",
       " '__delattr__',\n",
       " '__dict__',\n",
       " '__dir__',\n",
       " '__doc__',\n",
       " '__enter__',\n",
       " '__eq__',\n",
       " '__exit__',\n",
       " '__format__',\n",
       " '__ge__',\n",
       " '__getattribute__',\n",
       " '__gt__',\n",
       " '__hash__',\n",
       " '__init__',\n",
       " '__init_subclass__',\n",
       " '__le__',\n",
       " '__lt__',\n",
       " '__module__',\n",
       " '__ne__',\n",
       " '__new__',\n",
       " '__reduce__',\n",
       " '__reduce_ex__',\n",
       " '__repr__',\n",
       " '__setattr__',\n",
       " '__sizeof__',\n",
       " '__str__',\n",
       " '__subclasshook__',\n",
       " '__weakref__',\n",
       " '_ensure_recording',\n",
       " '_persistent',\n",
       " '_pop_tape',\n",
       " '_push_tape',\n",
       " '_recording',\n",
       " '_tape',\n",
       " '_tf_api_names',\n",
       " '_tf_api_names_v1',\n",
       " '_watch_accessed_variables',\n",
       " '_watched_variables',\n",
       " 'batch_jacobian',\n",
       " 'gradient',\n",
       " 'jacobian',\n",
       " 'reset',\n",
       " 'stop_recording',\n",
       " 'watch',\n",
       " 'watched_variables']"
      ]
     },
     "execution_count": 16,
     "metadata": {},
     "output_type": "execute_result"
    }
   ],
   "source": [
    "\"\"\" 5 Methods in GradientTape()\n",
    "'batch_jacobian',\n",
    "'gradient',\n",
    "'jacobian',\n",
    "'reset',\n",
    "'stop_recording',\n",
    "'watch',\n",
    "'watched_variables'\n",
    "\"\"\"\n",
    "\n",
    "dir(tape)"
   ]
  },
  {
   "cell_type": "code",
   "execution_count": 17,
   "metadata": {},
   "outputs": [
    {
     "name": "stdout",
     "output_type": "stream",
     "text": [
      "Help on method gradient in module tensorflow.python.eager.backprop:\n",
      "\n",
      "gradient(target, sources, output_gradients=None, unconnected_gradients=<UnconnectedGradients.NONE: 'none'>) method of tensorflow.python.eager.backprop.GradientTape instance\n",
      "    Computes the gradient using operations recorded in context of this tape.\n",
      "    \n",
      "    Note: Unless you set `persistent=True` a GradientTape can only be used to\n",
      "    compute one set of gradients (or jacobians).\n",
      "    \n",
      "    In addition to Tensors, gradient also supports RaggedTensors. For example,\n",
      "    \n",
      "    >>> x = tf.ragged.constant([[1.0, 2.0], [3.0]])\n",
      "    >>> with tf.GradientTape() as g:\n",
      "    ...   g.watch(x)\n",
      "    ...   y = x * x\n",
      "    >>> g.gradient(y, x)\n",
      "    <tf.RaggedTensor [[2.0, 4.0], [6.0]]>\n",
      "    \n",
      "    Args:\n",
      "      target: a list or nested structure of Tensors or Variables or\n",
      "        CompositeTensors to be differentiated.\n",
      "      sources: a list or nested structure of Tensors or Variables or\n",
      "        CompositeTensors. `target` will be differentiated against elements in\n",
      "        `sources`.\n",
      "      output_gradients: a list of gradients, one for each differentiable\n",
      "        element of target. Defaults to None.\n",
      "      unconnected_gradients: a value which can either hold 'none' or 'zero' and\n",
      "        alters the value which will be returned if the target and sources are\n",
      "        unconnected. The possible values and effects are detailed in\n",
      "        'UnconnectedGradients' and it defaults to 'none'.\n",
      "    \n",
      "    Returns:\n",
      "      a list or nested structure of Tensors (or IndexedSlices, or None, or\n",
      "      CompositeTensor), one for each element in `sources`. Returned structure\n",
      "      is the same as the structure of `sources`.\n",
      "    \n",
      "    Raises:\n",
      "      RuntimeError: If called on a used, non-persistent tape.\n",
      "      RuntimeError: If called inside the context of the tape.\n",
      "      TypeError: If the target is a None object.\n",
      "      ValueError: If the target is a variable or if unconnected gradients is\n",
      "       called with an unknown value.\n",
      "\n"
     ]
    }
   ],
   "source": [
    "help(tape.gradient)"
   ]
  },
  {
   "cell_type": "code",
   "execution_count": 1,
   "metadata": {},
   "outputs": [
    {
     "data": {
      "text/plain": [
       "1"
      ]
     },
     "execution_count": 1,
     "metadata": {},
     "output_type": "execute_result"
    }
   ],
   "source": [
    "3 % 2"
   ]
  },
  {
   "cell_type": "code",
   "execution_count": 3,
   "metadata": {},
   "outputs": [
    {
     "name": "stdout",
     "output_type": "stream",
     "text": [
      "0\n",
      "1\n",
      "2\n",
      "3\n",
      "4\n",
      "5\n",
      "6\n",
      "7\n",
      "8\n",
      "9\n",
      "10\n",
      "11\n",
      "12\n",
      "13\n",
      "14\n",
      "15\n",
      "16\n",
      "17\n",
      "18\n",
      "19\n",
      "20\n",
      "21\n",
      "22\n",
      "23\n",
      "24\n",
      "25\n",
      "26\n",
      "27\n",
      "28\n",
      "29\n",
      "30\n",
      "31\n"
     ]
    }
   ],
   "source": [
    "batch_size = 32\n",
    "\n",
    "for step in range(batch_size):\n",
    "    print(step)"
   ]
  },
  {
   "cell_type": "code",
   "execution_count": null,
   "metadata": {},
   "outputs": [],
   "source": []
  }
 ],
 "metadata": {
  "kernelspec": {
   "display_name": ".venv",
   "language": "python",
   "name": "python3"
  },
  "language_info": {
   "codemirror_mode": {
    "name": "ipython",
    "version": 3
   },
   "file_extension": ".py",
   "mimetype": "text/x-python",
   "name": "python",
   "nbconvert_exporter": "python",
   "pygments_lexer": "ipython3",
   "version": "3.10.10"
  },
  "orig_nbformat": 4
 },
 "nbformat": 4,
 "nbformat_minor": 2
}
