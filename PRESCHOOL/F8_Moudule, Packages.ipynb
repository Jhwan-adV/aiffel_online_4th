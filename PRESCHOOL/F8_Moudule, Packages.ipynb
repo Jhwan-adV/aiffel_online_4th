{
 "cells": [
  {
   "attachments": {},
   "cell_type": "markdown",
   "metadata": {},
   "source": [
    "# Foundation 8. Module, Package, Library\n",
    "\n",
    "**핵심, 추가 학습 위주로 구성**"
   ]
  },
  {
   "attachments": {},
   "cell_type": "markdown",
   "metadata": {},
   "source": [
    "### 8.1. 기본 개념\n",
    "\n",
    "- 모듈(module): .py 확장자의 파일. 파일 안에 변수나 함수, 클래스 등을 저장할 수도 있고, 모듈 자체가 실행할 수 있는 코드일 수도 있다.\n",
    "\n",
    "- 패키지(package): 모듈 여러 개를 묶은 것\n",
    "\n",
    "- 라이브러리(library): 여러 패키지와 모듈을 모아둔 것\n"
   ]
  },
  {
   "attachments": {},
   "cell_type": "markdown",
   "metadata": {},
   "source": [
    "### 8.2. Random.seed()\n",
    "랜덤을 생성하는 알고리즘을 고정시키는 random 모듈의 seed() 함수  \n",
    "\n",
    "##### 컴퓨터 알고리즘은 어떻게 랜덤을 생성할까?"
   ]
  },
  {
   "attachments": {},
   "cell_type": "markdown",
   "metadata": {},
   "source": [
    "### 8.3. time.localtime()\n",
    "현재 시간을 9개 내용이 담긴 튜플로 출력한다\n",
    "- 연도 (tm_year)\n",
    "- 월 (tm_mon)\n",
    "- 일 (tm_day)\n",
    "- 시 (tm_hour)\n",
    "- 분 (tm_min)\n",
    "- 초 (tm_sec)\n",
    "- 요일 (tm_wday)\n",
    "- 몇번째 날 (tm_yday)\n",
    "- Summer time 여부 (tm_isdst: -1, 0, 1)"
   ]
  },
  {
   "cell_type": "code",
   "execution_count": 1,
   "metadata": {},
   "outputs": [
    {
     "data": {
      "text/plain": [
       "time.struct_time(tm_year=2023, tm_mon=4, tm_mday=18, tm_hour=1, tm_min=16, tm_sec=51, tm_wday=1, tm_yday=108, tm_isdst=0)"
      ]
     },
     "execution_count": 1,
     "metadata": {},
     "output_type": "execute_result"
    }
   ],
   "source": [
    "import time\n",
    "\n",
    "time.localtime()"
   ]
  },
  {
   "attachments": {},
   "cell_type": "markdown",
   "metadata": {},
   "source": [
    "### Keyword 모듈\n"
   ]
  }
 ],
 "metadata": {
  "kernelspec": {
   "display_name": "Python 3",
   "language": "python",
   "name": "python3"
  },
  "language_info": {
   "codemirror_mode": {
    "name": "ipython",
    "version": 3
   },
   "file_extension": ".py",
   "mimetype": "text/x-python",
   "name": "python",
   "nbconvert_exporter": "python",
   "pygments_lexer": "ipython3",
   "version": "3.10.10"
  },
  "orig_nbformat": 4
 },
 "nbformat": 4,
 "nbformat_minor": 2
}
