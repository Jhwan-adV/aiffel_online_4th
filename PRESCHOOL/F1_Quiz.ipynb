{
 "cells": [
  {
   "attachments": {},
   "cell_type": "markdown",
   "metadata": {},
   "source": [
    "# Fundamental Node 1. Python 시작하기"
   ]
  },
  {
   "cell_type": "markdown",
   "metadata": {},
   "source": [
    "## 1-7 실습 퀴즈"
   ]
  },
  {
   "cell_type": "markdown",
   "metadata": {},
   "source": [
    "### 1. 복합 대입 연산자\n",
    "10을 4로 나눈 나머지가 c에 할당되도록 하는 복합 대입연산자를 작성"
   ]
  },
  {
   "cell_type": "code",
   "execution_count": 13,
   "metadata": {},
   "outputs": [
    {
     "name": "stdout",
     "output_type": "stream",
     "text": [
      "2\n"
     ]
    }
   ],
   "source": [
    "c = 10\n",
    "c = c // 4\n",
    "\n",
    "print(c)\n"
   ]
  },
  {
   "attachments": {},
   "cell_type": "markdown",
   "metadata": {},
   "source": [
    "### 2. 숫자형 연산과 복합 대입 연산자\n",
    "2의 8승을 d에 할당하는 복합 대입 연산자를 작성"
   ]
  },
  {
   "cell_type": "code",
   "execution_count": 14,
   "metadata": {},
   "outputs": [
    {
     "name": "stdout",
     "output_type": "stream",
     "text": [
      "256\n"
     ]
    }
   ],
   "source": [
    "d = 2\n",
    "d = d ** 8\n",
    "\n",
    "print(d)\n"
   ]
  },
  {
   "attachments": {},
   "cell_type": "markdown",
   "metadata": {},
   "source": [
    "### 3. 문자열 인덱싱\n",
    "인덱싱 값이 'o', '\\t', 'p'가 되도록 문자열 c를 인덱싱 후 이유 작성"
   ]
  },
  {
   "cell_type": "code",
   "execution_count": 16,
   "metadata": {},
   "outputs": [
    {
     "name": "stdout",
     "output_type": "stream",
     "text": [
      "3개 문자를 구분하여 출력: ['o', '\\t', 'p']\n",
      "3개 문자를 연속되게 출력: o\tp\n"
     ]
    },
    {
     "data": {
      "text/plain": [
       "'o, \"\\t\", p가 연속된 문자이므로 구간을 지정해 출력하도록 했습니다.'"
      ]
     },
     "execution_count": 16,
     "metadata": {},
     "output_type": "execute_result"
    }
   ],
   "source": [
    "c = 'hello\\tpython'\n",
    "\n",
    "print(f\"3개 문자를 구분하여 출력: {list(c[4:7])}\")\n",
    "print(f\"3개 문자를 연속되게 출력: {c[4:7]}\")\n",
    "\n",
    "'''o, \"\\t\", p가 연속된 문자이므로 구간을 지정해 출력하도록 했습니다.'''\n"
   ]
  },
  {
   "attachments": {},
   "cell_type": "markdown",
   "metadata": {},
   "source": [
    "### 4. 뒤에서 시작하는 인덱싱\n",
    "뒤에서부터 인덱싱을 하여 'n', 'p', 'e'를 출력"
   ]
  },
  {
   "cell_type": "code",
   "execution_count": 17,
   "metadata": {},
   "outputs": [
    {
     "name": "stdout",
     "output_type": "stream",
     "text": [
      "출력: ('n', 'p', 'e')\n"
     ]
    }
   ],
   "source": [
    "print(f\"출력: {c[-1], c[-6], c[-11]}\")\n"
   ]
  },
  {
   "attachments": {},
   "cell_type": "markdown",
   "metadata": {},
   "source": [
    "### 5. 좋아하는 음식이 담긴 리스트 만들기\n",
    "좋아하는 음식이 담긴 리스트 만들기"
   ]
  },
  {
   "cell_type": "code",
   "execution_count": 18,
   "metadata": {},
   "outputs": [
    {
     "name": "stdout",
     "output_type": "stream",
     "text": [
      "좋아하는 음식은: ['막국수', '빵', '김치찌개', '양갱', '에너지바', '삼계탕']입니다.\n"
     ]
    }
   ],
   "source": [
    "favorite_foods = ['막국수', '빵', '김치찌개', '양갱', '에너지바', '삼계탕']\n",
    "print(f'좋아하는 음식은: {favorite_foods}입니다.')\n"
   ]
  },
  {
   "attachments": {},
   "cell_type": "markdown",
   "metadata": {},
   "source": [
    "### 6. 리스트의 인덱싱과 연산\n",
    "다음 리스트에서 '자란다자란다파이썬'을 출력"
   ]
  },
  {
   "cell_type": "code",
   "execution_count": 21,
   "metadata": {},
   "outputs": [
    {
     "data": {
      "text/plain": [
       "'f-string을 활용해 더하기 연산자 없이 출력하는 것이 조금 더 편했습니다!'"
      ]
     },
     "execution_count": 21,
     "metadata": {},
     "output_type": "execute_result"
    }
   ],
   "source": [
    "quiz_list = ['잘잔다', '잘한다', '자란다', '잘할까', '화이팅', '힘내자']\n",
    "python_list = ['파이썬', 'PYTHON', 'python']\n",
    "\n",
    "target_str = f\"{quiz_list[2]*2}{python_list[0]}\"\n",
    "target_str\n",
    "\n",
    "'''f-string을 활용해 더하기 연산자 없이 출력하는 것이 조금 더 편했습니다.'''\n"
   ]
  },
  {
   "attachments": {},
   "cell_type": "markdown",
   "metadata": {},
   "source": [
    "### 7. 배타적 차집합 구현\n",
    "A와 B, 두 사람 모두가 좋아하지는 않는 음식을 출력  \n",
    "\n",
    "<img src = '.././img/1-7_7.png' width=\"30%\" height=\"30%\">"
   ]
  },
  {
   "cell_type": "code",
   "execution_count": 25,
   "metadata": {},
   "outputs": [
    {
     "data": {
      "text/plain": [
       "{'민트초코', '파인애플피자', '페퍼로니피자', '화이트초코'}"
      ]
     },
     "execution_count": 25,
     "metadata": {},
     "output_type": "execute_result"
    }
   ],
   "source": [
    "set_a = {'치킨', '민트초코', '파인애플피자'}\n",
    "set_b = {'치킨', '화이트초코', '페퍼로니피자'}\n",
    "\n",
    "(set_a | set_b) - (set_a & set_b)\n"
   ]
  },
  {
   "attachments": {},
   "cell_type": "markdown",
   "metadata": {},
   "source": [
    "### 8. 딕셔너리\n",
    "아이펠의 몸무게 정보를 삭제"
   ]
  },
  {
   "cell_type": "code",
   "execution_count": 28,
   "metadata": {},
   "outputs": [
    {
     "name": "stdout",
     "output_type": "stream",
     "text": [
      "***\n"
     ]
    },
    {
     "data": {
      "text/plain": [
       "{'이름': '아이펠', '나이': 35, 'MBTI': 'ESFJ'}"
      ]
     },
     "execution_count": 28,
     "metadata": {},
     "output_type": "execute_result"
    }
   ],
   "source": [
    "quiz_dic = {'이름':'아이펠', '나이':35, 'MBTI':'ESFJ','몸무게':80}\n",
    "\n",
    "# Key에 할당된 Value만 암호화\n",
    "quiz_dic['몸무게'] = '***'\n",
    "print(quiz_dic['몸무게'])\n",
    "\n",
    "# 딕셔너리 멤버 자체를 삭제\n",
    "del quiz_dic['몸무게']\n",
    "quiz_dic\n"
   ]
  }
 ],
 "metadata": {
  "kernelspec": {
   "display_name": ".venv",
   "language": "python",
   "name": "python3"
  },
  "language_info": {
   "codemirror_mode": {
    "name": "ipython",
    "version": 3
   },
   "file_extension": ".py",
   "mimetype": "text/x-python",
   "name": "python",
   "nbconvert_exporter": "python",
   "pygments_lexer": "ipython3",
   "version": "3.10.10"
  },
  "orig_nbformat": 4
 },
 "nbformat": 4,
 "nbformat_minor": 2
}
