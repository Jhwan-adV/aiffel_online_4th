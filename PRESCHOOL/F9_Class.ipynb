{
 "cells": [
  {
   "cell_type": "code",
   "execution_count": 6,
   "metadata": {},
   "outputs": [],
   "source": [
    "# 실습퀴즈4. 클래스 3  \n",
    "# 모두의연구소를 소개하는 클래스를 만들어 보세요.\n",
    "\n",
    "class Modulabs:\n",
    "    def __init__(self, name, value):\n",
    "        self.name = name\n",
    "        self.value = value\n",
    "\n",
    "    def describe(self):\n",
    "        return f\"{self.name}은 {self.value}.\"\n",
    "\n",
    "class FlippedSchool(Modulabs): \n",
    "    def __init__(self, name, value):\n",
    "        super().__init__(name, value)\n",
    "\n",
    "    def describe(self):\n",
    "        return f\"{super().describe()}\"\n",
    "\n",
    "class Aiffel(Modulabs): \n",
    "    def __init__(self, name, value):\n",
    "        super().__init__(name, value)\n",
    "\n",
    "\n",
    "    def describe(self):\n",
    "        return f\"{super().describe()}\"\n",
    "\n",
    "class Lab(Modulabs): \n",
    "    def __init__(self, name, value):\n",
    "        super().__init__(name, value)\n",
    "\n",
    "    def describe(self):\n",
    "        return f\"{super().describe()}\"\n",
    "\n",
    "class Modu:\n",
    "    def __init__(self, name, modulabs):\n",
    "        self.name = name\n",
    "        self.modulabs = modulabs\n",
    "\n",
    "    def describe(self):\n",
    "        modulabs_descriptions = [modulabs.describe() for modulabs in self.modulabs]\n",
    "        return f\"{self.name}에는 다음과 같은 프로그램들이 있습니다 :\\n\" + \"\\n\".join(modulabs_descriptions)"
   ]
  },
  {
   "cell_type": "code",
   "execution_count": 7,
   "metadata": {},
   "outputs": [
    {
     "name": "stdout",
     "output_type": "stream",
     "text": [
      "모두연에는 다음과 같은 프로그램들이 있습니다 :\n",
      "모두연은 지식을 공유하며 경험을 통해 배우는 열린 연구소.\n",
      "풀잎스쿨은 함께 성장하는 플립 러닝 기반 스터디 모임.\n",
      "아이펠은 함께 탐험하며 성장하는 AI 학교.\n",
      "LAB은 연구하며 논문도 쓸 수 있는 연구 모임.\n"
     ]
    }
   ],
   "source": [
    "# 결과 확인\n",
    "modulabs1 = Modulabs(\"모두연\", \"지식을 공유하며 경험을 통해 배우는 열린 연구소\")\n",
    "modulabs2 = FlippedSchool(\"풀잎스쿨\", \"함께 성장하는 플립 러닝 기반 스터디 모임\")\n",
    "modulabs3 = Aiffel(\"아이펠\", \"함께 탐험하며 성장하는 AI 학교\")\n",
    "modulabs4 = Lab(\"LAB\",\"연구하며 논문도 쓸 수 있는 연구 모임\")\n",
    "\n",
    "modu = Modu(\"모두연\", [modulabs1, modulabs2, modulabs3, modulabs4])\n",
    "print(modu.describe())"
   ]
  },
  {
   "cell_type": "code",
   "execution_count": 2,
   "metadata": {},
   "outputs": [],
   "source": [
    "class Parent: \n",
    "    # 속성\n",
    "    name = '모두연'\n",
    "    city = '서울'\n",
    "\n",
    "    # 메서드\n",
    "    def identify(self):\n",
    "         print('저를 소개하겠습니다:')\n",
    "\n",
    "class Child(Parent):\n",
    "    def __init__(self, name):\n",
    "         self.name = name\n",
    "    def identify_name(self):\n",
    "        print('이름은', self.name, '입니다.')\n",
    "    def identify_city(self):\n",
    "         print('고향은', self.city, '입니다.')"
   ]
  },
  {
   "cell_type": "code",
   "execution_count": 3,
   "metadata": {},
   "outputs": [
    {
     "name": "stdout",
     "output_type": "stream",
     "text": [
      "저를 소개하겠습니다:\n",
      "이름은 아이펠 입니다.\n",
      "고향은 서울 입니다.\n"
     ]
    }
   ],
   "source": [
    "c = Child('아이펠') \n",
    "c.identify()\n",
    "c.identify_name()\n",
    "c.identify_city()"
   ]
  },
  {
   "cell_type": "code",
   "execution_count": null,
   "metadata": {},
   "outputs": [],
   "source": []
  }
 ],
 "metadata": {
  "kernelspec": {
   "display_name": ".venv",
   "language": "python",
   "name": "python3"
  },
  "language_info": {
   "codemirror_mode": {
    "name": "ipython",
    "version": 3
   },
   "file_extension": ".py",
   "mimetype": "text/x-python",
   "name": "python",
   "nbconvert_exporter": "python",
   "pygments_lexer": "ipython3",
   "version": "3.10.10"
  },
  "orig_nbformat": 4
 },
 "nbformat": 4,
 "nbformat_minor": 2
}
