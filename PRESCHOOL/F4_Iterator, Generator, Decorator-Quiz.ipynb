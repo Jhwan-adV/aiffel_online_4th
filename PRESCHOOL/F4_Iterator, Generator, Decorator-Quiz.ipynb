{
 "cells": [
  {
   "attachments": {},
   "cell_type": "markdown",
   "metadata": {},
   "source": [
    "# Foundation 4. 이터레이터, 제네레이터, 데코레이터 [퀴즈]"
   ]
  },
  {
   "attachments": {},
   "cell_type": "markdown",
   "metadata": {},
   "source": [
    "## 1 & 2. 리스트와 제너레이터의 메모리 사이즈 비교\n",
    "제너레이터 표현식을 활용해 두 객체의 메모리 사이즈를 비교하고,\n",
    "메모리 사이즈가 왜 다른지 적어봅시다"
   ]
  },
  {
   "cell_type": "code",
   "execution_count": 4,
   "metadata": {},
   "outputs": [
    {
     "name": "stdout",
     "output_type": "stream",
     "text": [
      "472\n",
      "4216\n",
      "104\n",
      "104\n",
      "104\n"
     ]
    }
   ],
   "source": [
    "# 실습퀴즈1. 제너레이터\n",
    "\n",
    "import sys\n",
    "\n",
    "# list\n",
    "print(sys.getsizeof( [i for i in range(100) if i % 2] ))\n",
    "print(sys.getsizeof( [i for i in range(1000) if i % 2] ))\n",
    "\n",
    "# generator\n",
    "print(sys.getsizeof( (x for x in range(100) if x % 2) ))\n",
    "print(sys.getsizeof( (x for x in range(1000) if x % 2) ))\n",
    "\n",
    "# generator 추가\n",
    "print(sys.getsizeof( (x for x in range(10**10) if x % 2) ))\n"
   ]
  },
  {
   "attachments": {},
   "cell_type": "markdown",
   "metadata": {},
   "source": [
    "### 🐠1 & 2 설명🐠\n",
    "리스트와 제너레이터 두 객체는 각각 100과 1000까지의 홀수에 대한 표현식입니다.  \n",
    "___\n",
    "**차이점**  \n",
    "\n",
    "리스트는 <u>표현식의 내용이 실행되며 생성된 자료 전체가 메모리에 할당</u>되고,  \n",
    "제너레이터는 <u>표현식 자체가 객체로서 메모리에 할당</u>되는 방식입니다. \n",
    "\n",
    "그렇기 때문에 리스트의 경우 100까지와 1000까지의 메모리 값의 차이가 10배에 달하는 반면, 제너레이터의 경우 100이든 1000이든 메모리 값에는 차이가 나지 않는 것을 확인할 수 있습니다. 값을 10의 10승으로 올려 생성한 객체 역시 메모리는 동일함을 확인할 수 있었습니다."
   ]
  },
  {
   "attachments": {},
   "cell_type": "markdown",
   "metadata": {},
   "source": [
    "## 3. 데코레이터\n",
    "\n",
    "클래스 사용 시에도 데코레이터를 활용할 수 있습니다.  \n",
    "코드를 채우고 클래스에서 데코레이터가 실행되는 원리가 무엇인지 생각해봅시다."
   ]
  },
  {
   "cell_type": "code",
   "execution_count": 18,
   "metadata": {},
   "outputs": [
    {
     "name": "stdout",
     "output_type": "stream",
     "text": [
      "🐠🐟🐡🐬🦈🦭🐳🐋🐙🦑🦞🦀🦐\n",
      "peace\n",
      "🐆🐅🐃🐂🐄🦬🐪🐫🦙🐘🦏🦛🦣\n"
     ]
    }
   ],
   "source": [
    "# 실습퀴즈3. 데코레이터 \n",
    "\n",
    "class ThisisDecorator: \n",
    "    def __init__(self, f):\n",
    "        self.func = f\n",
    "        \n",
    "    def __call__(self, *args, **kwargs):\n",
    "        print('🐠🐟🐡🐬🦈🦭🐳🐋🐙🦑🦞🦀🦐')\n",
    "        self.func()\n",
    "        print('🐆🐅🐃🐂🐄🦬🐪🐫🦙🐘🦏🦛🦣')\n",
    "\n",
    "class Peace:\n",
    "    @ThisisDecorator\n",
    "    def peace_function():\n",
    "        print('peace')\n",
    "\n",
    "peace = Peace()\n",
    "peace.peace_function()\n"
   ]
  },
  {
   "cell_type": "code",
   "execution_count": 19,
   "metadata": {},
   "outputs": [
    {
     "name": "stdout",
     "output_type": "stream",
     "text": [
      "🐠🐟🐡🐬🦈🦭🐳🐋🐙🦑🦞🦀🦐\n",
      "hi\n",
      "🐆🐅🐃🐂🐄🦬🐪🐫🦙🐘🦏🦛🦣\n"
     ]
    }
   ],
   "source": [
    "def hi():\n",
    "    print('hi')\n",
    "\n",
    "ThisisDecorator(hi)()\n"
   ]
  },
  {
   "attachments": {},
   "cell_type": "markdown",
   "metadata": {},
   "source": [
    "### 🐠3 설명🐠\n",
    "\n",
    "- 클래스는 속성과 기능으로 이루어짐  \n",
    "- init 메서드는 클래스의 속성을 정의하는 함수  \n",
    "- call 메서드는 클래스를 기능을 정의하는 함수 (정의한 클래스에 '()'를 붙이면 함수처럼 기능이 작동한다)\n",
    "\n",
    "1. 앞뒤로 꾸며주고자 하는 **출력 함수를 f로 받으며** `ThisisDecorator 클래스의 속성을 정의`한다.  \n",
    "    ```python\n",
    "    def hi():\n",
    "        print('hi')\n",
    "\n",
    "    ThisisDecorator(hi) # 함수명인 hi가 f로 전달되어 클래스 속성이 정의된다\n",
    "    ```\n",
    "\n",
    "2. 클래스명 뒤에 **()**를 붙여 `ThisisDecorator의 기능을 작동`시킨다.  \n",
    "    ```python\n",
    "    ThisisDecorator(hi)() # ()이 붙어 call 메서드가 작동한다\n",
    "    ```\n",
    "\n",
    "3. 해당 기능을 @를 사용해 Peace 클래스의 peace_function() 기능에 데코레이터로 부착(?)한다.  \n",
    "4. Peace는 **기능만 예약**된 클래스이므로, 클래스를 정의하고 기능을 작동시킨다.\n",
    "\n"
   ]
  },
  {
   "cell_type": "markdown",
   "metadata": {},
   "source": []
  }
 ],
 "metadata": {
  "kernelspec": {
   "display_name": ".venv",
   "language": "python",
   "name": "python3"
  },
  "language_info": {
   "codemirror_mode": {
    "name": "ipython",
    "version": 3
   },
   "file_extension": ".py",
   "mimetype": "text/x-python",
   "name": "python",
   "nbconvert_exporter": "python",
   "pygments_lexer": "ipython3",
   "version": "3.10.10"
  },
  "orig_nbformat": 4,
  "vscode": {
   "interpreter": {
    "hash": "5fa40fdef84a69287da70d35c90a3ad2d65a1d861695e33c3ef2724852ee7be2"
   }
  }
 },
 "nbformat": 4,
 "nbformat_minor": 2
}
