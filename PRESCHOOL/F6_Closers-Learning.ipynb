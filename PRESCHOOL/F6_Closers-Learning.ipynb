{
 "cells": [
  {
   "attachments": {},
   "cell_type": "markdown",
   "metadata": {},
   "source": [
    "# Foundation 6. 클로저 (학습)"
   ]
  },
  {
   "attachments": {},
   "cell_type": "markdown",
   "metadata": {},
   "source": [
    "## 6.1.변수(variable)와 범위(scope)  \n",
    "\n",
    "### 용어\n",
    "\n",
    "함수 밖에서 정의된 변수를 **전역 변수**,  \n",
    "\n",
    "함수 안에서 정의된 변수를 **지역 변수**,  \n",
    "\n",
    "각 변수가 적용되는 영역을 **범위**라고 한다.  "
   ]
  },
  {
   "attachments": {},
   "cell_type": "markdown",
   "metadata": {},
   "source": [
    "### 특성\n",
    "\n",
    "각 범위에 따른 변수의 기본적인 특징이다.\n",
    "\n",
    "전역 변수는 `함수 밖에서만 수정`이 가능하다.  \n",
    "\n",
    "지역 변수는 `함수 안에서만 적용`되고 `수정`되어, 함수 밖에서는 사용할 수 없다.  \n",
    "\n",
    "### 각 변수에 대한 수정 방법  \n",
    "\n",
    "함수 안에서 전역 변수 정의·수정하기: 함수 안에서 `global` 명령어를 사용\n",
    "\n",
    "지역 변수 범위를 전역으로 설정: 함수 안에서 `nonlocal` 명령어 사용  \n",
    "\n",
    "지역 변수의 범위"
   ]
  },
  {
   "cell_type": "code",
   "execution_count": 4,
   "metadata": {},
   "outputs": [
    {
     "name": "stdout",
     "output_type": "stream",
     "text": [
      "hello 아이펠!\n"
     ]
    },
    {
     "data": {
      "text/plain": [
       "\"hello2()에서 nonlocal로 who2를 함수 밖에서도 사용하도록 조정했기 때문에 who2에 '아이펠'이 할당되었다.\""
      ]
     },
     "execution_count": 4,
     "metadata": {},
     "output_type": "execute_result"
    }
   ],
   "source": [
    "def hello():\n",
    "    who2 = '인유'  # 지역 변수 생성\n",
    "    def hello2():\n",
    "        nonlocal who2  # 주석을 씌우고 돌려봅시다!\n",
    "        who2 = '아이펠'\n",
    "\n",
    "    hello2()  # 안에 있던 hello2() 함수 실행\n",
    "    print(f'hello {who2}!')\n",
    "\n",
    "\n",
    "hello()\n",
    "\n",
    "\"\"\"hello2()에서 nonlocal로 who2를 함수 밖에서도 사용하도록 조정했기 때문에 who2에 '아이펠'이 할당되었다.\"\"\"\n"
   ]
  },
  {
   "attachments": {},
   "cell_type": "markdown",
   "metadata": {},
   "source": [
    "### 전역 변수 - nonlocal의 우선순위  \n",
    "\n",
    "가까운 함수부터 지역 변수를 찾는다. 할당되지 않은 변수에 대해서는 그 바깥 가장 가까운 변수를 불러온다."
   ]
  },
  {
   "cell_type": "code",
   "execution_count": 9,
   "metadata": {},
   "outputs": [
    {
     "name": "stdout",
     "output_type": "stream",
     "text": [
      "x(before) = 30\n",
      "y(before) = 20\n",
      "\n",
      "x(after) = 70\n",
      "y(after) = 70\n"
     ]
    },
    {
     "data": {
      "text/plain": [
       "'x는 가장 가까운 B()에서 정의된 30이, y는 그 다음 A()에서 정의된 20이 적용되었다.'"
      ]
     },
     "execution_count": 9,
     "metadata": {},
     "output_type": "execute_result"
    }
   ],
   "source": [
    "def A(): \n",
    "    x = 10\n",
    "    y = 20\n",
    "    def B():\n",
    "        x = 30\n",
    "        def C():\n",
    "            nonlocal x  # 10을 바인딩할지, 30을 바인딩 할지\n",
    "            nonlocal y  # 함수 하나를 건너 뛰어서 y와 바인딩이 가능할지\n",
    "            print(f\"x(before) = {x}\"); print(f\"y(before) = {y}\")\n",
    "            x = x + 40\n",
    "            y = y + 50\n",
    "            print(f\"\\nx(after) = {x}\"); print(f\"y(after) = {y}\")\n",
    "\n",
    "        C()\n",
    "\n",
    "    B()\n",
    "\n",
    "A()\n",
    "\n",
    "\n",
    "\"\"\"x는 가장 가까운 B()에서 정의된 30이, y는 그 다음 A()에서 정의된 20이 적용되었다.\"\"\"\n"
   ]
  },
  {
   "attachments": {},
   "cell_type": "markdown",
   "metadata": {},
   "source": [
    "## 6.2. 클로저(Closure)\n",
    "\n",
    "어떤 함수의 **내부 함수**가 외부 함수의 변수(*프리변수)를 참조할 때,  \n",
    "\n",
    "외부 함수가 **종료된 후**에도 내부 함수가 **외부 함수의 변수를 참조**할 수 있도록 **어딘가에 저장**하는 함수\n",
    "\n",
    "`프리 변수`: 실제로 사용되지만, 내부에 선언되지는 않은 변수\n",
    "\n",
    "아래 세 조건을 만족해야 한다.  \n",
    "1. 어떤 함수의 내부 함수일 것  \n",
    "2. 해당 내부함수가 외부 함수의 변수를 참조할 것  \n",
    "3. 외부 함수가 내부 함수를 `return`할 것"
   ]
  },
  {
   "cell_type": "code",
   "execution_count": 10,
   "metadata": {},
   "outputs": [],
   "source": [
    "# 클로저 함수의 예시 - my()가 클로저 함수\n",
    "def intro(home):\n",
    "    introduction = 'My hometown is '+home+'.'\n",
    "\n",
    "    def my():  # 조건 1 충족 - my()는 intro()의 내부함수이다\n",
    "        print(introduction)  # 조건 2 충족 - 외부함수 intro()의 변수, introduction을 참조한다\n",
    "    \n",
    "    return my  # 조건 3 충족 - 외부함수 intro()가 내부 함수 my를 return한다"
   ]
  },
  {
   "attachments": {},
   "cell_type": "markdown",
   "metadata": {},
   "source": [
    "### 특징 \n",
    "\n",
    "자신을 둘러싼 스코프(*네임스페이스)의 상태 값을 기억한다  \n",
    "- `스코프(네임스페이스)`: 내부 식별자를 구분하는 범위  \n",
    "\n",
    "클로저는 길이가 1인 튜플이다.  \n",
    "클로저가 기억하는 스코프의 상태는 `함수명.__closure__[0].cell_contents`에 담겨있다\n",
    "\n",
    "#### 장점\n",
    "1. 외부 함수가 삭제되어도 데이터가 클로저에 연결되기 때문에 장점 활용 가능\n",
    "2. 전역 변수 남용을 방지, 변수가 많은 상황에서 섞이는 상황을 방지할 수 있다\n",
    "\n",
    "#### 단점 \n",
    "1. 스코프 유지를 위한 메모리 사용량이 상대적으로 많은 편이다"
   ]
  },
  {
   "cell_type": "code",
   "execution_count": 21,
   "metadata": {},
   "outputs": [
    {
     "name": "stdout",
     "output_type": "stream",
     "text": [
      "<function test_func at 0x000002A25AFDEA70>\n",
      "abc\n",
      "Executed Function\n"
     ]
    }
   ],
   "source": [
    "def test_func(input='abc'):\n",
    "    print(input)\n",
    "    return 'Executed Function'\n",
    "\n",
    "\n",
    "print(test_func) # 정의된 함수명만 출력하면 함수 객체가 출력\n",
    "print(test_func()) # ()로 실행하면 함수 내용이 출력. return 값이 없으면 None 출력\n"
   ]
  },
  {
   "cell_type": "code",
   "execution_count": 11,
   "metadata": {},
   "outputs": [
    {
     "name": "stdout",
     "output_type": "stream",
     "text": [
      "My hometown is Yeosu.\n"
     ]
    }
   ],
   "source": [
    "def intro(home):\n",
    "# --------------- my() 함수의 클로저 영역 ---------------- # \n",
    "\n",
    "    introduction = 'My hometown is '+home+'.'\n",
    "\n",
    "    def my():  \n",
    "        print(introduction)  \n",
    "\n",
    "# --------------- my() 함수의 클로저 영역 ---------------- #     \n",
    "    return my  \n",
    "\n",
    "\n",
    "f = intro('Yeosu')  # 1 'Yeosu'를 인수로 전달한 intro 함수\n",
    "del intro  # 2 intro 함수 자체를 제거하더라도\n",
    "f()  # 3 내부함수의 기능이 실행된다\n"
   ]
  },
  {
   "cell_type": "code",
   "execution_count": 13,
   "metadata": {},
   "outputs": [
    {
     "data": {
      "text/plain": [
       "<function __main__.intro.<locals>.my()>"
      ]
     },
     "execution_count": 13,
     "metadata": {},
     "output_type": "execute_result"
    }
   ],
   "source": [
    "f\n",
    "\n",
    "'''intro() 함수가 my() 함수를 return하므로 f의 본체는 my()'''\n"
   ]
  },
  {
   "cell_type": "code",
   "execution_count": 15,
   "metadata": {},
   "outputs": [
    {
     "ename": "NameError",
     "evalue": "name 'intro' is not defined",
     "output_type": "error",
     "traceback": [
      "\u001b[1;31m---------------------------------------------------------------------------\u001b[0m",
      "\u001b[1;31mNameError\u001b[0m                                 Traceback (most recent call last)",
      "Cell \u001b[1;32mIn[15], line 1\u001b[0m\n\u001b[1;32m----> 1\u001b[0m intro\n",
      "\u001b[1;31mNameError\u001b[0m: name 'intro' is not defined"
     ]
    }
   ],
   "source": [
    "intro\n",
    "\n",
    "'''f를 실행하면 my() 기능이 동작하지만, intro 함수 자체는 사라졌다'''\n"
   ]
  },
  {
   "cell_type": "code",
   "execution_count": 27,
   "metadata": {},
   "outputs": [
    {
     "data": {
      "text/plain": [
       "tuple"
      ]
     },
     "execution_count": 27,
     "metadata": {},
     "output_type": "execute_result"
    }
   ],
   "source": [
    "dir(f)[:5] # f 함수의 4번째에 closure이 있다.\n",
    "\n",
    "# closure의 타입 = 튜플\n",
    "type(f.__closure__)\n"
   ]
  },
  {
   "cell_type": "code",
   "execution_count": 32,
   "metadata": {},
   "outputs": [
    {
     "data": {
      "text/plain": [
       "1"
      ]
     },
     "execution_count": 32,
     "metadata": {},
     "output_type": "execute_result"
    }
   ],
   "source": [
    "# closure 객체의 길이 = 1\n",
    "len(f.__closure__)\n"
   ]
  },
  {
   "cell_type": "code",
   "execution_count": 41,
   "metadata": {},
   "outputs": [
    {
     "data": {
      "text/plain": [
       "['__class__',\n",
       " '__delattr__',\n",
       " '__dir__',\n",
       " '__doc__',\n",
       " '__eq__',\n",
       " '__format__',\n",
       " '__ge__',\n",
       " '__getattribute__',\n",
       " '__gt__',\n",
       " '__hash__',\n",
       " '__init__',\n",
       " '__init_subclass__',\n",
       " '__le__',\n",
       " '__lt__',\n",
       " '__ne__',\n",
       " '__new__',\n",
       " '__reduce__',\n",
       " '__reduce_ex__',\n",
       " '__repr__',\n",
       " '__setattr__',\n",
       " '__sizeof__',\n",
       " '__str__',\n",
       " '__subclasshook__',\n",
       " 'cell_contents']"
      ]
     },
     "execution_count": 41,
     "metadata": {},
     "output_type": "execute_result"
    }
   ],
   "source": [
    "# closure 객체 내부 확인\n",
    "dir(f.__closure__[0])\n"
   ]
  },
  {
   "cell_type": "code",
   "execution_count": 47,
   "metadata": {},
   "outputs": [
    {
     "data": {
      "text/plain": [
       "'My hometown is Yeosu.'"
      ]
     },
     "execution_count": 47,
     "metadata": {},
     "output_type": "execute_result"
    }
   ],
   "source": [
    "# closure 객체 내부 확인\n",
    "f.__closure__[0].cell_contents\n"
   ]
  },
  {
   "attachments": {},
   "cell_type": "markdown",
   "metadata": {},
   "source": []
  }
 ],
 "metadata": {
  "kernelspec": {
   "display_name": ".venv",
   "language": "python",
   "name": "python3"
  },
  "language_info": {
   "codemirror_mode": {
    "name": "ipython",
    "version": 3
   },
   "file_extension": ".py",
   "mimetype": "text/x-python",
   "name": "python",
   "nbconvert_exporter": "python",
   "pygments_lexer": "ipython3",
   "version": "3.10.10"
  },
  "orig_nbformat": 4
 },
 "nbformat": 4,
 "nbformat_minor": 2
}
