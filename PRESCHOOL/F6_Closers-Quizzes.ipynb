{
 "cells": [
  {
   "cell_type": "markdown",
   "metadata": {},
   "source": [
    "# Foundation 6. 클로저 (퀴즈)"
   ]
  },
  {
   "attachments": {},
   "cell_type": "markdown",
   "metadata": {},
   "source": [
    "## 1. nonlocal 키워드\n",
    "\n",
    "실행 결과가 hello 인유! 가 나오도록 코드를 추가"
   ]
  },
  {
   "cell_type": "code",
   "execution_count": 1,
   "metadata": {},
   "outputs": [
    {
     "name": "stdout",
     "output_type": "stream",
     "text": [
      "hello 인유!\n"
     ]
    }
   ],
   "source": [
    "def hello(): \n",
    "    who = '아이펠'\n",
    "    def hello2():\n",
    "        nonlocal who # 가장 가까운 변수인 who = '인유'를 변수로 활용\n",
    "        who = '인유'\n",
    "\n",
    "    hello2()\n",
    "    print(f'hello {who}!')\n",
    "\n",
    "hello()\n"
   ]
  },
  {
   "attachments": {},
   "cell_type": "markdown",
   "metadata": {},
   "source": [
    "## 2. 클로저  \n",
    "지역변수와 클로저의 역할을 생각해봅시다. 코드의 결과를 예측하고 결과에 대한 이유를 확인합시다."
   ]
  },
  {
   "cell_type": "code",
   "execution_count": 22,
   "metadata": {},
   "outputs": [
    {
     "ename": "SyntaxError",
     "evalue": "'return' outside function (294690382.py, line 12)",
     "output_type": "error",
     "traceback": [
      "\u001b[1;36m  Cell \u001b[1;32mIn[22], line 12\u001b[1;36m\u001b[0m\n\u001b[1;33m    return introduction\u001b[0m\n\u001b[1;37m    ^\u001b[0m\n\u001b[1;31mSyntaxError\u001b[0m\u001b[1;31m:\u001b[0m 'return' outside function\n"
     ]
    }
   ],
   "source": [
    "## 2. 클로저\n",
    "def intro(name):\n",
    "    introduction = 'My name is ' + name + '. '  \n",
    "\n",
    "    def my(wish):\n",
    "        nonlocal introduction\n",
    "        introduction = introduction + 'And I want to be ' + wish + '. '\n",
    "        print(introduction)  \n",
    "    \n",
    "    return my  \n",
    "\n",
    "f = intro('인유')\n",
    "\n",
    "\n",
    "# f('a teacher')\n",
    "# f('a programmer')\n",
    "# f('rich')"
   ]
  },
  {
   "attachments": {},
   "cell_type": "markdown",
   "metadata": {},
   "source": [
    "### 예상 및 실행 결과"
   ]
  },
  {
   "cell_type": "code",
   "execution_count": 3,
   "metadata": {},
   "outputs": [
    {
     "name": "stdout",
     "output_type": "stream",
     "text": [
      "My name is 인유. And I want to be a good person. \n"
     ]
    }
   ],
   "source": [
    "f('a good person')"
   ]
  },
  {
   "attachments": {},
   "cell_type": "markdown",
   "metadata": {},
   "source": [
    "`intro()` 함수의 본체가 `my()` 함수라 했다. \n",
    "\n",
    "`intro()` 함수를 돌리기 위해 f() 안에 매개변수를 넣어줘야 한다.  \n",
    "\n",
    "해당 매개변수로 'teacher', 'programmer', 'rich'를 넣기로 예약되어 있다.  \n",
    "\n",
    "각 줄마다 wish가 입력된 하나의 문장이 나올 것이라 예상한다. "
   ]
  },
  {
   "cell_type": "code",
   "execution_count": 4,
   "metadata": {},
   "outputs": [
    {
     "name": "stdout",
     "output_type": "stream",
     "text": [
      "My name is 인유. And I want to be a good person. And I want to be a teacher. \n"
     ]
    }
   ],
   "source": [
    "f('a teacher')"
   ]
  },
  {
   "attachments": {},
   "cell_type": "markdown",
   "metadata": {},
   "source": [
    "예상을 깨고, 확인을 위해 입력했던 첫 문장에 이어져 출력되었다.  \n",
    "\n",
    "nonlocal이 없다면 한 줄씩 출력되겠지만, nonlocal을 통해 introduction 변수가 수정되었으므로  \n",
    "\n",
    "수정된 소개문에 하나씩 더 추가되어 출력되는 것으로 보인다."
   ]
  },
  {
   "cell_type": "code",
   "execution_count": 5,
   "metadata": {},
   "outputs": [
    {
     "name": "stdout",
     "output_type": "stream",
     "text": [
      "My name is 인유. And I want to be a good person. And I want to be a teacher. And I want to be a programmer. \n",
      "My name is 인유. And I want to be a good person. And I want to be a teacher. And I want to be a programmer. And I want to be rich. \n"
     ]
    },
    {
     "data": {
      "text/plain": [
       "'문장에 계속 이어 출력된다.'"
      ]
     },
     "execution_count": 5,
     "metadata": {},
     "output_type": "execute_result"
    }
   ],
   "source": [
    "f('a programmer')\n",
    "f('rich')\n",
    "\n",
    "\"\"\"문장에 계속 이어 출력된다.\"\"\""
   ]
  },
  {
   "attachments": {},
   "cell_type": "markdown",
   "metadata": {},
   "source": [
    "### 추가 실험"
   ]
  },
  {
   "attachments": {},
   "cell_type": "markdown",
   "metadata": {},
   "source": [
    "#### 1. nonlocal이 없을 때 어떤 결과가 출력되는지 확인한다.  \n",
    "\n",
    "`introduction` 변수가 `my()` 함수 내에서 사용되고 소멸되는지 확인하기 위함.  \n",
    "___\n",
    "예상 결과: 이름(name)만 유지한 채 꿈(wish)은 다른 문장이 출력될 것이다.\n",
    "\n",
    "실행 결과: `introduction`변수 미지정 에러 발생\n",
    "\n",
    "이유: `intro()`함수의 `introduction`변수가 `my()`함수 내부로 전달되지 않았다"
   ]
  },
  {
   "cell_type": "code",
   "execution_count": 9,
   "metadata": {},
   "outputs": [
    {
     "ename": "UnboundLocalError",
     "evalue": "local variable 'introduction' referenced before assignment",
     "output_type": "error",
     "traceback": [
      "\u001b[1;31m---------------------------------------------------------------------------\u001b[0m",
      "\u001b[1;31mUnboundLocalError\u001b[0m                         Traceback (most recent call last)",
      "Cell \u001b[1;32mIn[9], line 15\u001b[0m\n\u001b[0;32m     10\u001b[0m     \u001b[39mreturn\u001b[39;00m my  \n\u001b[0;32m     13\u001b[0m f \u001b[39m=\u001b[39m intro_nonlocal(\u001b[39m'\u001b[39m\u001b[39m인유\u001b[39m\u001b[39m'\u001b[39m)\n\u001b[1;32m---> 15\u001b[0m f(\u001b[39m'\u001b[39;49m\u001b[39ma teacher\u001b[39;49m\u001b[39m'\u001b[39;49m)\n\u001b[0;32m     16\u001b[0m f(\u001b[39m'\u001b[39m\u001b[39ma programmer\u001b[39m\u001b[39m'\u001b[39m)\n",
      "Cell \u001b[1;32mIn[9], line 7\u001b[0m, in \u001b[0;36mintro_nonlocal.<locals>.my\u001b[1;34m(wish)\u001b[0m\n\u001b[0;32m      5\u001b[0m \u001b[39mdef\u001b[39;00m \u001b[39mmy\u001b[39m(wish):\n\u001b[0;32m      6\u001b[0m     \u001b[39m# nonlocal 삭제\u001b[39;00m\n\u001b[1;32m----> 7\u001b[0m     introduction \u001b[39m=\u001b[39m introduction \u001b[39m+\u001b[39m \u001b[39m'\u001b[39m\u001b[39mAnd I want to be \u001b[39m\u001b[39m'\u001b[39m \u001b[39m+\u001b[39m wish \u001b[39m+\u001b[39m \u001b[39m'\u001b[39m\u001b[39m. \u001b[39m\u001b[39m'\u001b[39m\n\u001b[0;32m      8\u001b[0m     \u001b[39mprint\u001b[39m(introduction)\n",
      "\u001b[1;31mUnboundLocalError\u001b[0m: local variable 'introduction' referenced before assignment"
     ]
    }
   ],
   "source": [
    "## 2. 클로저\n",
    "def intro_nonlocal(name):\n",
    "    introduction = 'My name is ' + name + '. '  \n",
    "\n",
    "    def my(wish):\n",
    "        # nonlocal 삭제\n",
    "        introduction = introduction + 'And I want to be ' + wish + '. '\n",
    "        print(introduction)  \n",
    "        \n",
    "    return my  \n",
    "\n",
    "\n",
    "f = intro_nonlocal('인유')\n",
    "\n",
    "f('a teacher')\n",
    "f('a programmer')\n"
   ]
  },
  {
   "attachments": {},
   "cell_type": "markdown",
   "metadata": {},
   "source": [
    "#### 2. nonlocal을 유지한 채 intro() 함수를 매번 재정의하면 어떤 결과가 출력되는지 확인한다.\n",
    "\n",
    "매번 `name` 변수를 포함한 `introduction` 변수가 재지정되는지 확인하기 위함\n",
    "___\n",
    "\n",
    "예상 결과: 꿈만 다른 문장이 출력될 것이다.\n",
    "\n",
    "실행 결과: 예상 결과와 동일하다. 매번 함수를 재실행하면서 `introduction` 변수가 재정의되는 것"
   ]
  },
  {
   "cell_type": "code",
   "execution_count": 10,
   "metadata": {},
   "outputs": [
    {
     "name": "stdout",
     "output_type": "stream",
     "text": [
      "My name is 기철. And I want to be a teacher. \n",
      "My name is 기철. And I want to be an accelerator. \n"
     ]
    }
   ],
   "source": [
    "intro('기철')('a teacher')\n",
    "intro('기철')('an accelerator')\n"
   ]
  },
  {
   "attachments": {},
   "cell_type": "markdown",
   "metadata": {},
   "source": [
    "#### 3. intro() 함수를 삭제한 뒤 어떤 결과가 출력되는지 확인한다.\n",
    "클로저에 변수가 남아 명령에 따라 계속 갱신되는지 확인하기 위함\n",
    "___\n",
    "예상 결과: 기존 실행 결과와 같은 문장이 출력될 것이다.  \n",
    "\n",
    "실행 결과: 예상 결과와 동일하다. 클로저는 남아 계속 데이터가 갱신된다. "
   ]
  },
  {
   "cell_type": "code",
   "execution_count": 30,
   "metadata": {},
   "outputs": [
    {
     "data": {
      "text/plain": [
       "'질문: 함수 비교출력을 위해 데코레이터를 사용해보고 싶은데, 지금까지 배웠던 데코레이터는 텍스트 출력은 잘 되는데'"
      ]
     },
     "execution_count": 30,
     "metadata": {},
     "output_type": "execute_result"
    }
   ],
   "source": [
    "# 클로저에서 출력한다는 메시지 추가 (데코레이터)\n",
    "def deco_cls(fn): \n",
    "\n",
    "    def add_func(): \n",
    "        \n",
    "        print('\\n==== Data Inside Closure ====') \n",
    "        print(fn.__closure__[0].cell_contents)\n",
    "        print('')\n",
    "\n",
    "    return add_func \n",
    "\n",
    "'''질문: 함수 비교출력을 위해 데코레이터를 사용해보고 싶은데, 지금까지 배웠던 데코레이터는 텍스트 출력은 잘 되는데'''"
   ]
  },
  {
   "cell_type": "code",
   "execution_count": 31,
   "metadata": {},
   "outputs": [],
   "source": [
    "# 데코레이터 활용이 가능하도록 return 값을 변경\n",
    "def intro_deco_test(name):\n",
    "    introduction = 'My name is ' + name + '. '  \n",
    "\n",
    "    def my(wish):\n",
    "        nonlocal introduction\n",
    "        introduction = introduction + 'And I want to be ' + wish + '. '\n",
    "\n",
    "        return introduction \n",
    "        \n",
    "    return my  \n"
   ]
  },
  {
   "cell_type": "code",
   "execution_count": 39,
   "metadata": {},
   "outputs": [
    {
     "name": "stdout",
     "output_type": "stream",
     "text": [
      "My name is 기철. And I want to be a teacher. \n",
      "\n",
      "==== Data Inside Closure ====\n",
      "My name is 기철. And I want to be a teacher. \n",
      "\n",
      "=================== ==================== ==================== ===================\n",
      "\n",
      "My name is 기철. And I want to be a teacher. And I want to be a programmer. \n",
      "\n",
      "==== Data Inside Closure ====\n",
      "My name is 기철. And I want to be a teacher. And I want to be a programmer. \n",
      "\n"
     ]
    }
   ],
   "source": [
    "f = intro_deco_test('기철')\n",
    "\n",
    "# 세미콜론 활용, 정의 후 실행\n",
    "a = f('a teacher'); \n",
    "print(a)\n",
    "deco_cls(f)()\n",
    "\n",
    "print('=================== ==================== ==================== ===================\\n')\n",
    "\n",
    "b = f('a programmer'); \n",
    "print(b)\n",
    "deco_cls(f)()\n"
   ]
  },
  {
   "attachments": {},
   "cell_type": "markdown",
   "metadata": {},
   "source": [
    "### 결론\n",
    "\n",
    "특정 함수 내부에 함수를 추가로 두며 변수를 정의하면, 해당 변수는 내부 함수 범위에 해당하는 클로저에 저장된다.  "
   ]
  }
 ],
 "metadata": {
  "kernelspec": {
   "display_name": ".venv",
   "language": "python",
   "name": "python3"
  },
  "language_info": {
   "codemirror_mode": {
    "name": "ipython",
    "version": 3
   },
   "file_extension": ".py",
   "mimetype": "text/x-python",
   "name": "python",
   "nbconvert_exporter": "python",
   "pygments_lexer": "ipython3",
   "version": "3.10.10"
  },
  "orig_nbformat": 4
 },
 "nbformat": 4,
 "nbformat_minor": 2
}
