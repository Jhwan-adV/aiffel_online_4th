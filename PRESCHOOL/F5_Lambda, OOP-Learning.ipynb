{
 "cells": [
  {
   "attachments": {},
   "cell_type": "markdown",
   "metadata": {},
   "source": [
    "# Foundation 5. 람다, 일급 객체"
   ]
  },
  {
   "attachments": {},
   "cell_type": "markdown",
   "metadata": {},
   "source": [
    "## 5.0. 함수 복습 (노드 F2)\n",
    " \n",
    "- 매개변수: 함수에 입력된 전달된 값을 받는 변수  \n",
    "\n",
    "- 인수: 함수를 호출할 때 전달하는 입력값  \n",
    "\n",
    "- 4가지 인수 형식: **위치 인수** , 가변 인수, 키워드 인수, **키워드 가변 인수**\n"
   ]
  },
  {
   "cell_type": "code",
   "execution_count": 14,
   "metadata": {},
   "outputs": [
    {
     "name": "stdout",
     "output_type": "stream",
     "text": [
      "--- 리스트 ---\n",
      "20\n",
      "10\n",
      "--- 튜플 ---\n",
      "20\n",
      "10\n",
      "--- 셋(SET) ---\n",
      "20\n",
      "10\n"
     ]
    },
    {
     "data": {
      "text/plain": [
       "'객체를 언패킹(*)한 각 요소의 위치에 따라 출력됨'"
      ]
     },
     "execution_count": 14,
     "metadata": {},
     "output_type": "execute_result"
    }
   ],
   "source": [
    "# 위치 인수\n",
    "def print_nums(a, b):\n",
    "    print(b)\n",
    "    print(a)\n",
    "\n",
    "\n",
    "a = [10, 20]\n",
    "print('--- 리스트 ---')\n",
    "print_nums(*a)\n",
    "\n",
    "b = (10, 20)\n",
    "print('--- 튜플 ---')\n",
    "print_nums(*b)\n",
    "\n",
    "c = set(a)\n",
    "print('--- 셋(SET) ---')\n",
    "print_nums(*c)\n",
    "\n",
    "\"\"\"객체를 언패킹(*)한 각 요소의 위치에 따라 출력됨\"\"\"\n"
   ]
  },
  {
   "cell_type": "code",
   "execution_count": 28,
   "metadata": {},
   "outputs": [
    {
     "name": "stdout",
     "output_type": "stream",
     "text": [
      "name : 규봉이\n",
      "\n",
      "name : 규봉이\n",
      "age : 10\n",
      "gender : male\n",
      "\n",
      "name : 규봉이\n",
      "age : 10\n",
      "breed : 진돗개\n",
      "gender : male\n",
      "\n"
     ]
    },
    {
     "data": {
      "text/plain": [
       "'질문: 가변 인수는 args 앞에 별이 하나, 키워드 가변 인수는 args 앞에 별이 두개 붙는다. 왜?'"
      ]
     },
     "execution_count": 28,
     "metadata": {},
     "output_type": "execute_result"
    }
   ],
   "source": [
    "# 키워드 가변 인수 함수의 예\n",
    "def dog_info(**kwargs):\n",
    "    for kword, arg in kwargs.items():  # 딕셔너리 쌍을 얻는 items() 함수\n",
    "        print(kword, ':', arg)\n",
    "    print('')\n",
    "\n",
    "\n",
    "dog_info(name='규봉이')  # 인수가 1개\n",
    "\n",
    "dog_info(name='규봉이', age=10, gender='male')  # 인수가 3개\n",
    "\n",
    "# 딕셔너리 언팩킹\n",
    "a = {'name': '규봉이', 'age': 10, 'breed': '진돗개', 'gender': 'male'}\n",
    "\n",
    "dog_info(**a)\n",
    "\n",
    "'''질문: 가변 인수는 args 앞에 별이 하나, 키워드 가변 인수는 args 앞에 별이 두개 붙는다. 왜?'''\n"
   ]
  },
  {
   "attachments": {},
   "cell_type": "markdown",
   "metadata": {},
   "source": [
    "## 5.1. 람다 (Lambda Expression)\n",
    "### 람다 표현식 개요\n",
    "<u>\"(lambda 매개변수: 리턴값)(인수)\"</u>, 이 표현식으로 **익명**의 함수를 만들 수 있다. \n",
    "\n",
    "간단한 표현으로, **함수를 인수로 전달**하는 코드를 효율적으로 작성하게 해준다."
   ]
  },
  {
   "cell_type": "code",
   "execution_count": 33,
   "metadata": {},
   "outputs": [
    {
     "name": "stdout",
     "output_type": "stream",
     "text": [
      "일반함수\n",
      "4\n",
      "\n",
      "람다함수\n",
      "(lambda x: x+2)(2)\n"
     ]
    },
    {
     "data": {
      "text/plain": [
       "'def add_two(x)의 x가 lambda x, return x+2가 콜론(:) 뒤 x+2에 대응된다'"
      ]
     },
     "execution_count": 33,
     "metadata": {},
     "output_type": "execute_result"
    }
   ],
   "source": [
    "# 비교\n",
    "def add_two(x):\n",
    "    print('일반함수')\n",
    "    return x + 2\n",
    "\n",
    "\n",
    "print(add_two(2))\n",
    "\n",
    "print(f\"\\n람다함수\\n(lambda x: x+2)(2)\")\n",
    "\n",
    "\"\"\"def add_two(x)의 x가 lambda x, return x+2가 콜론(:) 뒤 x+2에 대응된다\"\"\"\n"
   ]
  },
  {
   "attachments": {},
   "cell_type": "markdown",
   "metadata": {},
   "source": [
    "### 람다 표현식의 변수\n",
    "\n",
    "새로운 변수를 지정할 수 없다.  \n",
    "\n",
    "(기존에 정의된) 외부 변수를 참조할 수 있다."
   ]
  },
  {
   "cell_type": "code",
   "execution_count": 76,
   "metadata": {},
   "outputs": [
    {
     "ename": "SyntaxError",
     "evalue": "invalid syntax (3535397376.py, line 3)",
     "output_type": "error",
     "traceback": [
      "\u001b[1;36m  Cell \u001b[1;32mIn[76], line 3\u001b[1;36m\u001b[0m\n\u001b[1;33m    (lambda x: y = '토끼와', x + y)('거북이')\u001b[0m\n\u001b[1;37m                 ^\u001b[0m\n\u001b[1;31mSyntaxError\u001b[0m\u001b[1;31m:\u001b[0m invalid syntax\n"
     ]
    }
   ],
   "source": [
    "# 새 변수 생성\n",
    "try:\n",
    "    (lambda x: y = '토끼와', x + y)('거북이')\n",
    "\n",
    "except Exception as e:\n",
    "    print(e + '\\n')\n",
    "    y = '토끼와'\n",
    "    print(lambda x: x + y)('거북이')\n"
   ]
  },
  {
   "attachments": {},
   "cell_type": "markdown",
   "metadata": {},
   "source": [
    "### 람다 표현식을 인수로 사용하는 map(), filter(), reduce() 함수\n",
    "\n",
    "- map(함수, 함수를 적용할 대상)  \n",
    ": 동일 작업을 반복할 때 사용하기 좋다.\n",
    "\n",
    "- filter(함수, 함수를 적용할 대상)  \n",
    ": 조건에 부합하는 대상을 가려낼 때 사용하기 좋다.  \n",
    "\n",
    "- reduce(함수, 함수를 적용할 대상)  \n",
    ": 반복 작업으로 누적된 결과를 얻을 때 사용하기 좋다. "
   ]
  },
  {
   "attachments": {},
   "cell_type": "markdown",
   "metadata": {},
   "source": [
    "#### map()"
   ]
  },
  {
   "cell_type": "code",
   "execution_count": 55,
   "metadata": {},
   "outputs": [
    {
     "name": "stdout",
     "output_type": "stream",
     "text": [
      "<map object at 0x0000020884661990>\n",
      "\n",
      "map() 함수 사용시 map 객체 생성. 자료형 변환 후 내용 출력\n",
      "(2, 3, 4, 5, 6, 7, 8, 9, 10, 11, 12)\n"
     ]
    }
   ],
   "source": [
    "# map()에 람다 표현식을 인수로 x = x+2를 반복\n",
    "nums_0_to_10 = list(range(11))\n",
    "\n",
    "nums_2_to_12 = map(lambda x: x + 2, nums_0_to_10)\n",
    "nums_2_to_12\n",
    "\n",
    "print(nums_2_to_12)\n",
    "\n",
    "print('\\nmap() 함수 사용시 map 객체 생성. 자료형 변환 후 내용 출력')\n",
    "print(tuple(nums_2_to_12))\n"
   ]
  },
  {
   "cell_type": "code",
   "execution_count": 59,
   "metadata": {},
   "outputs": [
    {
     "name": "stdout",
     "output_type": "stream",
     "text": [
      "[]\n"
     ]
    },
    {
     "data": {
      "text/plain": [
       "'map 객체를 한 번 리스트로 변환하면 객체에 아무것도 남지 않는다'"
      ]
     },
     "execution_count": 59,
     "metadata": {},
     "output_type": "execute_result"
    }
   ],
   "source": [
    "print(list(nums_2_to_12))\n",
    "\n",
    "'''map 객체를 한 번 리스트로 변환하면 객체에 아무것도 남지 않는다'''\n"
   ]
  },
  {
   "attachments": {},
   "cell_type": "markdown",
   "metadata": {},
   "source": [
    "#### filter()"
   ]
  },
  {
   "cell_type": "code",
   "execution_count": 62,
   "metadata": {},
   "outputs": [
    {
     "name": "stdout",
     "output_type": "stream",
     "text": [
      "[2, 4, 6, 8, 10, 12]\n"
     ]
    },
    {
     "data": {
      "text/plain": [
       "'map 객체를 재생성한 결과 값이 출력된다. 함수 적용에는 객체 자체를 활용해도 되는 모양'"
      ]
     },
     "execution_count": 62,
     "metadata": {},
     "output_type": "execute_result"
    }
   ],
   "source": [
    "# filter() 함수를 활용해 짝수를 출력\n",
    "even_2_to_12 = filter(lambda x: x % 2 == 0, map(lambda x: x + 2, nums_0_to_10))\n",
    "print(list(even_2_to_12))\n",
    "\n",
    "'''map 객체를 재생성한 결과 값이 출력된다. 함수 적용에는 객체 자체를 활용해도 되는 모양'''\n"
   ]
  },
  {
   "attachments": {},
   "cell_type": "markdown",
   "metadata": {},
   "source": [
    "#### reduce()"
   ]
  },
  {
   "cell_type": "code",
   "execution_count": 82,
   "metadata": {},
   "outputs": [
    {
     "data": {
      "text/plain": [
       "'map()과 filter()는 객체를 반환했는데, reduce()는 최종 결과를 반환한다'"
      ]
     },
     "execution_count": 82,
     "metadata": {},
     "output_type": "execute_result"
    }
   ],
   "source": [
    "# module import\n",
    "from functools import reduce\n",
    "\n",
    "# reduce() 함수를 활용해 누적합 출력\n",
    "running_sum = reduce(lambda x, y: x + y, nums_0_to_10)\n",
    "running_sum\n",
    "\n",
    "'''map()과 filter()는 객체를 반환했는데, reduce()는 최종 결과를 반환한다'''\n"
   ]
  },
  {
   "cell_type": "code",
   "execution_count": 83,
   "metadata": {},
   "outputs": [
    {
     "name": "stdout",
     "output_type": "stream",
     "text": [
      "initial(초기값) = 6, value(더할 값) = 6\n",
      "최종 값: 12\n"
     ]
    },
    {
     "data": {
      "text/plain": [
       "'reduce()의 인수가 되는 function()이 2개의 인수를 받는다.'"
      ]
     },
     "execution_count": 83,
     "metadata": {},
     "output_type": "execute_result"
    }
   ],
   "source": [
    "# reduce 함수 공식문서 - 다음 일반함수와 거의 비슷하다\n",
    "def reduce(function, iterable, initializer=None):\n",
    "    it = iter(iterable)\n",
    "\n",
    "    if initializer is None:  # initializer(초기값)이 없는 경우\n",
    "        value = next(it)  # iterable 객체의 첫 값을 value로 지정 (= it[0])\n",
    "    else:\n",
    "        value = initializer # 있는 경우, 초기값을 value로 지정\n",
    "\n",
    "    print(f'initial(초기값) = {initializer}, value(더할 값) = {value}')\n",
    "    for element in it:\n",
    "        value = function(value, element) # 주석 참조!\n",
    "\n",
    "    return value\n",
    "\n",
    "\n",
    "print(f'최종 값: {reduce(lambda x, y: x + y, [1, 2, 3], 6)}')\n",
    "\n",
    "'''reduce()의 인수가 되는 function()이 2개의 인수를 받는다.'''\n"
   ]
  },
  {
   "attachments": {},
   "cell_type": "markdown",
   "metadata": {},
   "source": [
    "#### itertools.accumulate()\n",
    "\n",
    "**accumulate(iterable 객체, func(적용 함수), initial=None (초기값))**  \n",
    "\n",
    "reduce()와 유사하게 누적합 과정을 거친다  \n",
    "\n",
    "다음과 같은 차이점을 가진다  \n",
    "- reduce() 과정의 중간 결과를 함께 출력한다  \n",
    "- 인수를 입력하는 순서가 반대로, iterable 객체부터 입력한다\n"
   ]
  },
  {
   "cell_type": "code",
   "execution_count": 88,
   "metadata": {},
   "outputs": [
    {
     "name": "stdout",
     "output_type": "stream",
     "text": [
      "대상 숫자 목록 \n",
      "[0, 1, 2, 3, 4, 5, 6, 7, 8, 9, 10]\n",
      "\n",
      "단계별 누적합 \n",
      "[0, 1, 3, 6, 10, 15, 21, 28, 36, 45, 55]\n"
     ]
    }
   ],
   "source": [
    "# module import\n",
    "from itertools import accumulate\n",
    "\n",
    "# 1부터 10까지의 누적합\n",
    "print(f\"대상 숫자 목록 \\n{nums_0_to_10}\\n\")\n",
    "print(f\"단계별 누적합 \\n{list(accumulate(nums_0_to_10, lambda x, y : x + y))}\")"
   ]
  },
  {
   "attachments": {},
   "cell_type": "markdown",
   "metadata": {},
   "source": [
    "## 5.2. 일급 객체\n"
   ]
  },
  {
   "attachments": {},
   "cell_type": "markdown",
   "metadata": {},
   "source": [
    "### 각종 용어 정리\n",
    "\n",
    "\n",
    "#### **객체(Object)**\n",
    "**속성(값)**과 **행동**을 갖고 있는 대상  \n",
    "프로그래밍으로 말하자면, **변수**와 **함수**를 갖고 있는 대상  \n",
    "\n",
    "#### **객체지향 프로그래밍(OOP: Object Oriented Programming)**\n",
    "프로그램을 구성하는 요소를 객체로 표현하고, 객체 간에 상호작용하도록 하는 기법  \n",
    "\n",
    "#### **절차지향 프로그래밍**\n",
    "연산이 순차적으로 진행되는 절차를 기반으로 하는 기법. 각 절차마다 속성과 행동을 새로 정의한다.\n",
    "\n",
    "#### **일급 객체(first-class object)**\n",
    "객체 일반에 적용되는 연산을 모두 지원하는 객체로, 다음 3가지 조건을 만족한다\n",
    "\n",
    "1. 변수에 할당하거나 데이터 구조 안에 담을 수 있는 객체  \n",
    "2. 매개변수로 전달할 수 있는 객체  \n",
    "3. 리턴값으로 사용될 수 있는 객체\n",
    "\n",
    "str, int, float, list 등 파이썬에서 다루는 대부분의 객체는 일급 객체이다.  "
   ]
  },
  {
   "attachments": {},
   "cell_type": "markdown",
   "metadata": {},
   "source": [
    "### 함수 == 일급 객체?\n",
    "위 세 가지 조건을 만족하는 예시를 확인해보자"
   ]
  },
  {
   "attachments": {},
   "cell_type": "markdown",
   "metadata": {},
   "source": [
    "#### 조건 1. 변수와 리스트에 함수 할당"
   ]
  },
  {
   "cell_type": "code",
   "execution_count": 97,
   "metadata": {},
   "outputs": [
    {
     "name": "stdout",
     "output_type": "stream",
     "text": [
      "<function add at 0x00000208855B7010>\n",
      "<function add at 0x00000208855B7010>\n",
      "\n",
      "add와 f1이 동일한 메모리 주소값을 갖는다. 같은 객체인가?  True\n",
      "15\n",
      "5\n"
     ]
    }
   ],
   "source": [
    "def add(a, b):   \n",
    "    return a + b  \n",
    "\n",
    "def minus(a, b):\n",
    "    return a - b\n",
    "\n",
    "\n",
    "# 변수에 함수 할당\n",
    "f1 = add         \n",
    "\n",
    "# add함수와 f1의 메모리 주소 출력\n",
    "print(add)      \n",
    "print(f1)          \n",
    "\n",
    "print('\\nadd와 f1이 동일한 메모리 주소값을 갖는다. 같은 객체인가?', end='  ')\n",
    "\n",
    "# is 함수로 비교\n",
    "print(add is f1)\n",
    "\n",
    "# 리스트에 함수 할당\n",
    "calc = [add, minus]\n",
    "\n",
    "for i in calc:\n",
    "    f\"\"\n",
    "    print(i(10, 5)) # 15(10+5)와 5(10-5)를 출력\n"
   ]
  },
  {
   "attachments": {},
   "cell_type": "markdown",
   "metadata": {},
   "source": [
    "#### 조건 2. 매개변수로 함수 전달\n",
    "앞서 배운 map(), filter(), reduce(), accumulate() 등에서 확인됨  \n",
    "\n",
    "함수가 또 다른 함수의 매개변수가 될 수 있다."
   ]
  },
  {
   "attachments": {},
   "cell_type": "markdown",
   "metadata": {},
   "source": [
    "#### 조건 3. 함수를 리턴 값으로 사용  \n",
    "중첩 함수: 함수 안에 함수를 선언하는 구조  \n",
    "\n",
    "외부 함수에서 전달받은 변수를, 내부 함수에서 사용할 수 있음  \n",
    "\n",
    "지난 노드에서 등장한 데코레이터도 비슷한 원리"
   ]
  },
  {
   "cell_type": "code",
   "execution_count": 112,
   "metadata": {},
   "outputs": [
    {
     "name": "stdout",
     "output_type": "stream",
     "text": [
      "<function hello.<locals>.printer at 0x00000208861F41F0>\n",
      "\n",
      "Hello AIFFEL!\n",
      "None\n"
     ]
    },
    {
     "data": {
      "text/plain": [
       "''"
      ]
     },
     "execution_count": 112,
     "metadata": {},
     "output_type": "execute_result"
    }
   ],
   "source": [
    "# 위의 함수 구조와 비교해서 보기\n",
    "def hello(name): \n",
    "    def printer():\n",
    "        print(f\"Hello {name}!\") \n",
    "\n",
    "    return printer              \n",
    "\n",
    "\n",
    "func = hello(\"AIFFEL\")\n",
    "\n",
    "print(f\"{func}\\n\")\n",
    "print(func())\n"
   ]
  },
  {
   "cell_type": "code",
   "execution_count": 115,
   "metadata": {},
   "outputs": [
    {
     "name": "stdout",
     "output_type": "stream",
     "text": [
      "Hello 파이썬!\n"
     ]
    },
    {
     "data": {
      "text/plain": [
       "'name 연유는 전역변수, name AIFFEL은 인수, name 파이썬은 지역변수. print() 명령에 가장 가깝게 정의된 name 파이썬이 사용됨'"
      ]
     },
     "execution_count": 115,
     "metadata": {},
     "output_type": "execute_result"
    }
   ],
   "source": [
    "# \"인유\", \"파이썬\", \"AIFFEL\" 중에 어떤 이름이 나올까요?\n",
    "name = \"인유\"\n",
    "def hello(name): \n",
    "    def printer():\n",
    "        name = \"파이썬\"\n",
    "        print(f\"Hello {name}!\") \n",
    "\n",
    "    return printer              \n",
    "\n",
    "func = hello(\"AIFFEL\")             \n",
    "func()\n",
    "\n",
    "\"name 연유는 전역변수, name AIFFEL은 인수, name 파이썬은 지역변수. print() 명령에 가장 가깝게 정의된 name 파이썬이 사용됨\""
   ]
  }
 ],
 "metadata": {
  "kernelspec": {
   "display_name": ".venv",
   "language": "python",
   "name": "python3"
  },
  "language_info": {
   "codemirror_mode": {
    "name": "ipython",
    "version": 3
   },
   "file_extension": ".py",
   "mimetype": "text/x-python",
   "name": "python",
   "nbconvert_exporter": "python",
   "pygments_lexer": "ipython3",
   "version": "3.10.10"
  },
  "orig_nbformat": 4
 },
 "nbformat": 4,
 "nbformat_minor": 2
}
