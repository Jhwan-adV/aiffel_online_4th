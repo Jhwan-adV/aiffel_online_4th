{
 "cells": [
  {
   "attachments": {},
   "cell_type": "markdown",
   "metadata": {},
   "source": [
    "# Foundation 4. 이터레이터, 제네레이터, 데코레이터 [학습]"
   ]
  },
  {
   "attachments": {},
   "cell_type": "markdown",
   "metadata": {},
   "source": [
    "## 1. 이터레이터 (Iterable)\n"
   ]
  },
  {
   "attachments": {},
   "cell_type": "markdown",
   "metadata": {},
   "source": [
    "### **iterate** - (계산, 컴퓨터 처리 절차를) 반복하다  \n",
    "\n",
    "먼저 **이터러블(iterable) 객체**를 알아보자.  \n",
    "반복 가능한 객체를 이터러블 객체라 한다."
   ]
  },
  {
   "cell_type": "code",
   "execution_count": 27,
   "metadata": {},
   "outputs": [
    {
     "name": "stdout",
     "output_type": "stream",
     "text": [
      "<class 'bool'>: True is not iterable\n",
      "<class 'float'>: 78.9 is not iterable\n",
      "<class 'int'>: 789 is not iterable\n",
      "<class 'str'>: 789 is iterable | <str_iterator object at 0x000001EFFC2CCF40>\n",
      "<class 'list'>: [7, 8, 9] is iterable | <list_iterator object at 0x000001EFFC2CCF40>\n",
      "<class 'set'>: {8, 9, 7} is iterable | <set_iterator object at 0x000001EFFD7B5500>\n",
      "<class 'tuple'>: (7, 8, 9) is iterable | <tuple_iterator object at 0x000001EFFC2CCF40>\n",
      "<class 'range'>: range(0, 5) is iterable | <range_iterator object at 0x000001EFFC4D20B0>\n",
      "<class 'dict'>: {'a': 7, 'b': 8, 'c': 9} is iterable | <dict_keyiterator object at 0x000001EFFD788220>\n"
     ]
    },
    {
     "data": {
      "text/plain": [
       "'iterable 객체: 문자열, 리스트, 셋, 튜플, range, 딕셔너리 | noniterable 객체: bool, 실수, 정수'"
      ]
     },
     "execution_count": 27,
     "metadata": {},
     "output_type": "execute_result"
    }
   ],
   "source": [
    "# 이터러블 객체 확인 메서드(method): 확인할 객체.__iter__()\n",
    "\n",
    "bool_01 = True\n",
    "float_01 = 78.9\n",
    "int_01 = 789\n",
    "str_01 = '789'\n",
    "list_01 = [7, 8, 9]\n",
    "set_01 = {7, 8, 9}\n",
    "tuple_01 = (7, 8, 9)\n",
    "range_01 = range(0,5)\n",
    "dict_01 = {'a': 7, 'b': 8, 'c': 9}\n",
    "\n",
    "for i in [bool_01, float_01, int_01, str_01, list_01, set_01, tuple_01, range_01, dict_01]:\n",
    "    try:\n",
    "        print(f\"{type(i)}: {i} is iterable | {i.__iter__()}\")\n",
    "    except:\n",
    "        print(f\"{type(i)}: {i} is not iterable\")\n",
    "\n",
    "\"\"\"iterable 객체: 문자열, 리스트, 셋, 튜플, range, 딕셔너리 | noniterable 객체: bool, 실수, 정수\"\"\"\n"
   ]
  },
  {
   "attachments": {},
   "cell_type": "markdown",
   "metadata": {},
   "source": [
    "### iterable과 iterator 객체는 다르다?\n",
    "\n",
    "iterator 객체는 값을 차레대로 꺼낼 수 있는 객체  \n",
    "iterable 객체에서 __iter__() 메서드로 iterator 객체를 생성한 후,  \n",
    "iterator 객체에서 __next__() 메서드로 값을 차례대로 호출한다"
   ]
  },
  {
   "cell_type": "code",
   "execution_count": 28,
   "metadata": {},
   "outputs": [
    {
     "name": "stdout",
     "output_type": "stream",
     "text": [
      "7\n",
      "8\n",
      "9\n"
     ]
    }
   ],
   "source": [
    "# 이터레이터 객체 확인 메서드: 확인할 객체.__next__()\n",
    "\n",
    "str_iter = str_01.__iter__()\n",
    "\n",
    "for i in range(len(str_01)):\n",
    "    print(str_iter.__next__())\n",
    "    "
   ]
  },
  {
   "cell_type": "code",
   "execution_count": 29,
   "metadata": {},
   "outputs": [
    {
     "name": "stdout",
     "output_type": "stream",
     "text": [
      "Iterated elements of list_01\n",
      "7\n",
      "8\n",
      "9\n",
      "\n",
      "Iterated elements of tuple_01\n",
      "7\n",
      "8\n",
      "9\n",
      "\n",
      "Iterated elements of range_01\n",
      "0\n",
      "1\n",
      "2\n",
      "3\n",
      "4\n"
     ]
    }
   ],
   "source": [
    "# 같은 원리로 list, tuple, range에 적용\n",
    "\n",
    "list_iter = list_01.__iter__()\n",
    "\n",
    "print(f\"Iterated elements of list_01\")\n",
    "for i in range(len(list_01)):\n",
    "    print(list_iter.__next__())\n",
    "\n",
    "\n",
    "tuple_iter = tuple_01.__iter__()\n",
    "\n",
    "print(f\"\\nIterated elements of tuple_01\")\n",
    "for i in range(len(tuple_01)):\n",
    "    print(tuple_iter.__next__())\n",
    "\n",
    "\n",
    "range_iter = range_01.__iter__()\n",
    "\n",
    "print(f\"\\nIterated elements of range_01\")\n",
    "for i in range(len(range_01)):\n",
    "    print(range_iter.__next__())\n"
   ]
  },
  {
   "cell_type": "code",
   "execution_count": 33,
   "metadata": {},
   "outputs": [
    {
     "name": "stdout",
     "output_type": "stream",
     "text": [
      "Iterated elements of dict_01\n",
      "a\n",
      "b\n",
      "c\n",
      "딕셔너리는 key값만 출력한다. | <dict_keyiterator object at 0x000001EFFD7BE930> - keyiterator라 그런듯 하다\n",
      "\n",
      "Iterated elements of set_01\n",
      "8\n",
      "9\n",
      "7\n"
     ]
    }
   ],
   "source": [
    "# set, dict에 적용\n",
    "\n",
    "dict_iter = dict_01.__iter__()\n",
    "\n",
    "print(f\"Iterated elements of dict_01\")\n",
    "for i in range(len(dict_01)):\n",
    "    print(dict_iter.__next__())\n",
    "print(f'딕셔너리는 key값만 출력한다. | {dict_01.__iter__()} - keyiterator라 그런듯 하다')\n",
    "\n",
    "\n",
    "set_iter = set_01.__iter__()\n",
    "\n",
    "print(f\"\\nIterated elements of set_01\")\n",
    "for i in range(len(set_01)):\n",
    "    print(set_iter.__next__())\n",
    "    "
   ]
  },
  {
   "attachments": {},
   "cell_type": "markdown",
   "metadata": {},
   "source": [
    "## 2. 제너레이터 (Generator)"
   ]
  },
  {
   "attachments": {},
   "cell_type": "markdown",
   "metadata": {},
   "source": [
    "### 2.1. **이터레이터**를 생성하는 함수\n",
    "\"필요한 데이터를 즉석에서 만들어내는 객체를 의미합니다\"  \n",
    "https://www.daleseo.com/python-yield/  \n",
    "___\n",
    "\n",
    "(예시) 옷 포장 작업 - 전체를 개고 한 번에 포장할지, 갠 것을 전달하며 포장할지  \n",
    "\n",
    "\n",
    "여러 작업이 연계되어 하나의 큰 과정을 이룰 때, 작업을 병렬적으로 처리하는 방식  \n",
    "규모가 있는 프로그램 개발 시 데이터(메모리) 병목 현상을 방지하기 위해 사용됨\n",
    "___\n",
    "\n",
    "이터레이터 객체를 생성하는 함수 자체이므로 객체만 출력하면 내부값 확인이 불가능하지만,  \n",
    "이터레이터를 읽어들이면 각 내부값에 접근이 가능하다\n"
   ]
  },
  {
   "cell_type": "code",
   "execution_count": 42,
   "metadata": {},
   "outputs": [
    {
     "name": "stdout",
     "output_type": "stream",
     "text": [
      "[0, 1, 2, 3, 4]\n",
      "<generator object <genexpr> at 0x000001EFFD81C120>\n",
      "(0, 1, 2, 3, 4)\n"
     ]
    }
   ],
   "source": [
    "# 표현식을 활용한 제너레이터 객체 생성 - 리스트 & 튜플 비교\n",
    "\n",
    "print([x for x in range(0, 5)])\n",
    "print((x for x in range(0, 5))) # 제네레이터 객체 생성\n",
    "print(tuple(x for x in range(0, 5))) # 튜플로 변환해 튜플 출력\n"
   ]
  },
  {
   "cell_type": "code",
   "execution_count": 43,
   "metadata": {},
   "outputs": [
    {
     "name": "stdout",
     "output_type": "stream",
     "text": [
      "['A', 'B', 'C']\n",
      "<generator object yield_abc at 0x000001EFFD81C120>\n"
     ]
    }
   ],
   "source": [
    "# yield를 활용해 제너레이터 객체 생성\n",
    "\n",
    "def yield_abc():\n",
    "    yield 'A'\n",
    "    yield 'B'\n",
    "    yield 'C'\n",
    "\n",
    "print(yield_abc())\n"
   ]
  },
  {
   "cell_type": "code",
   "execution_count": 1,
   "metadata": {},
   "outputs": [
    {
     "name": "stdout",
     "output_type": "stream",
     "text": [
      "A\n"
     ]
    }
   ],
   "source": [
    "# yield를 활용해 제너레이터 객체 생성\n",
    "\n",
    "def return_abc():\n",
    "    return 'A'\n",
    "    return 'B'\n",
    "    return 'C'\n",
    "\n",
    "print(return_abc())\n"
   ]
  },
  {
   "attachments": {},
   "cell_type": "markdown",
   "metadata": {},
   "source": [
    "### 2.2. return과 yield의 차이  \n",
    "앞서 소개된 작업의 병렬 전개와도 연관이 있다.  \n",
    "return의 경우 함수의 결과값을 한 번 제시하고 종료하는 데 반해  \n",
    "yield의 경우 명령어를 만날 때마다 결과값을 제시한다."
   ]
  },
  {
   "cell_type": "code",
   "execution_count": 64,
   "metadata": {},
   "outputs": [
    {
     "name": "stdout",
     "output_type": "stream",
     "text": [
      "=== RETURN ===\n",
      "A\n",
      "=== YIELD ===\n",
      "A\n",
      "B\n",
      "C\n"
     ]
    }
   ],
   "source": [
    "import time\n",
    "\n",
    "def return_abc():\n",
    "  for ch in \"ABC\":\n",
    "    time.sleep(1)\n",
    "    return ch\n",
    "\n",
    "# return을 만나 A만 반환하고 함수가 종료됨\\\n",
    "print(\"=== RETURN ===\")\n",
    "for ch in return_abc():\n",
    "  print(ch)\n",
    "\n",
    "\n",
    "def yield_abc():\n",
    "  for ch in \"ABC\":\n",
    "    time.sleep(1)\n",
    "    yield ch\n",
    "\n",
    "# yield를 만나 A, B, C를 차례로 반환함\n",
    "print(\"=== YIELD ===\")\n",
    "for ch in yield_abc():\n",
    "  print(ch)\n",
    "  "
   ]
  },
  {
   "cell_type": "code",
   "execution_count": 65,
   "metadata": {},
   "outputs": [
    {
     "name": "stdout",
     "output_type": "stream",
     "text": [
      "=== GENERATOR EXP ===\n",
      "A\n",
      "B\n",
      "C\n"
     ]
    }
   ],
   "source": [
    "# 같은 내용을 표현식을 활용해 구현\n",
    "print('=== GENERATOR EXP ===')\n",
    "for ch in (x for x in 'ABC'):\n",
    "    print(ch)\n",
    "    "
   ]
  },
  {
   "cell_type": "code",
   "execution_count": 3,
   "metadata": {},
   "outputs": [
    {
     "name": "stdout",
     "output_type": "stream",
     "text": [
      "0\n",
      "1\n",
      "2\n"
     ]
    }
   ],
   "source": [
    "# YIELD FROM을 사용해 리스트에서 제너레이터 객체 생성\n",
    "def yield_from_abc():\n",
    "    yield from (x for x in range(3))\n",
    "\n",
    "for num in yield_from_abc():\n",
    "    print(num)\n"
   ]
  },
  {
   "attachments": {},
   "cell_type": "markdown",
   "metadata": {},
   "source": [
    "### 2.3. 제너레이터 객체와 인덱싱\n",
    "\n",
    "제너레이터 객체 자체를 인덱싱할 수는 없다.  \n",
    "하지만 enumerate를 입히면 index가 확인된다."
   ]
  },
  {
   "cell_type": "code",
   "execution_count": 20,
   "metadata": {},
   "outputs": [
    {
     "name": "stdout",
     "output_type": "stream",
     "text": [
      "TypeError(\"'generator' object is not subscriptable\")\n",
      "[(0, 0), (1, 1), (2, 2)]\n"
     ]
    }
   ],
   "source": [
    "# 제너레이터 객체와 인덱싱\n",
    "try:\n",
    "    yield_from_abc()[0]\n",
    "except Exception as e:\n",
    "    print(e.__repr__())\n",
    "    print(list(enumerate(yield_from_abc())))\n"
   ]
  },
  {
   "cell_type": "code",
   "execution_count": null,
   "metadata": {},
   "outputs": [],
   "source": [
    "help(enumerate)"
   ]
  },
  {
   "cell_type": "code",
   "execution_count": 9,
   "metadata": {},
   "outputs": [
    {
     "data": {
      "text/plain": [
       "[(0, 0), (1, 1), (2, 2)]"
      ]
     },
     "execution_count": 9,
     "metadata": {},
     "output_type": "execute_result"
    }
   ],
   "source": []
  },
  {
   "cell_type": "code",
   "execution_count": 81,
   "metadata": {},
   "outputs": [
    {
     "name": "stdout",
     "output_type": "stream",
     "text": [
      "=== === === ===\n",
      "idx = 0\n",
      "num = 0\n",
      "=== === === ===\n",
      "idx = 1\n",
      "num = 1\n",
      "=== === === ===\n",
      "idx = 2\n",
      "num = 2\n"
     ]
    },
    {
     "data": {
      "text/plain": [
       "'왜 이렇게 되는 거지?라고 의문을 가졌으니, generator든 enumerate든 공식 문서를 찾아 보면 빨랐겠다.'"
      ]
     },
     "execution_count": 7,
     "metadata": {},
     "output_type": "execute_result"
    }
   ],
   "source": [
    "for idx, num in enumerate(yield_from_abc()):\n",
    "    print(\"=== === === ===\")\n",
    "    print(f\"idx = {idx}\")\n",
    "    print(f\"num = {num}\")\n",
    "\n",
    "\"\"\"왜 이렇게 되는 거지?라고 의문을 가졌으니, generator든 enumerate든 공식 문서를 찾아 보면 빨랐겠다.\"\"\"\n"
   ]
  },
  {
   "attachments": {},
   "cell_type": "markdown",
   "metadata": {},
   "source": [
    "### 2.4. 제너레이터 값의 호출 (feat. 이터러블과의 비교)\n",
    "\n",
    "제너레이터와 이터러블 모두 여러 값을 호출하는 기능을 갖지만,   \n",
    "제너레이터는 값을 <u>한 번만 호출</u>할 수 있는 데 반해 이터러블은 <u>값을 여러 번 호출</u>할 수 있다.  \n",
    "\n",
    "(+) next() 함수는 이터레이터와 제너레이터에는 작동하지만, 이터러블에는 작동하지 않는다."
   ]
  },
  {
   "cell_type": "code",
   "execution_count": 95,
   "metadata": {},
   "outputs": [
    {
     "name": "stdout",
     "output_type": "stream",
     "text": [
      "=== GENERATOR ===\n",
      "0\n",
      "1\n",
      "2\n",
      "\n",
      "=== ITERABLE ===\n",
      "'range' object is not an iterator\n",
      "\n",
      "=== ITERATOR ===\n",
      "0\n",
      "1\n",
      "2\n"
     ]
    }
   ],
   "source": [
    "g = yield_from_abc()  # 계속 사용할 제너레이터를 새로운 변수에 할당\n",
    "print('=== GENERATOR ===')\n",
    "print(next(g))  # 0 예상\n",
    "print(next(g))  # 1 예상\n",
    "print(next(g))  # 2 예상\n",
    "\n",
    "try: \n",
    "    h = range(3)\n",
    "\n",
    "    print('\\n=== ITERABLE ===')\n",
    "    print(next(h))  # 0 예상\n",
    "    print(next(h))  # 1 예상\n",
    "    print(next(h))  # 2 예상\n",
    "\n",
    "except Exception as e:\n",
    "    print(e)\n",
    "\n",
    "    h = range(3).__iter__()\n",
    "\n",
    "    print(f'\\n=== ITERATOR ===')\n",
    "    print(next(h))  # 0 예상\n",
    "    print(next(h))  # 1 예상\n",
    "    print(next(h))  # 2 예상\n"
   ]
  },
  {
   "cell_type": "code",
   "execution_count": 104,
   "metadata": {},
   "outputs": [
    {
     "name": "stdout",
     "output_type": "stream",
     "text": [
      "=== ITERABLE ===\n",
      "0\n",
      "1\n",
      "2\n",
      "0\n",
      "1\n",
      "2\n",
      "=== GENERATOR ===\n",
      "0\n",
      "1\n",
      "2\n"
     ]
    },
    {
     "data": {
      "text/plain": [
       "'제너레이터는 값을 넘기는 과정에서 값을 소비해 한 번 이상 출력이 불가능하다'"
      ]
     },
     "execution_count": 104,
     "metadata": {},
     "output_type": "execute_result"
    }
   ],
   "source": [
    "g = (x for x in range(3))\n",
    "h = [x for x in range(3)]\n",
    "\n",
    "print('=== ITERABLE ===')\n",
    "for i in range(2):\n",
    "    for item in h:\n",
    "        print(item)\n",
    "\n",
    "print('=== GENERATOR ===')\n",
    "for j in range(2):\n",
    "    for item in g:\n",
    "        print(item)\n",
    "\n",
    "\"\"\"제너레이터는 값을 넘기는 과정에서 값을 소비해 한 번 이상 출력이 불가능하다\"\"\"\n",
    "    "
   ]
  },
  {
   "attachments": {},
   "cell_type": "markdown",
   "metadata": {},
   "source": [
    "## 3. 데코레이터\n",
    "\n",
    "함수를 직접 수정하지 않고도 기능을 추가하기 위해 사용하는 개념  \n",
    "함수를 전달받고 해당 함수에 기능을 추가한 새로운 함수 객체를 반환하는 방식이다."
   ]
  },
  {
   "cell_type": "code",
   "execution_count": 105,
   "metadata": {},
   "outputs": [
    {
     "name": "stdout",
     "output_type": "stream",
     "text": [
      "hi\n"
     ]
    }
   ],
   "source": [
    "def hi():\n",
    "    print('hi')\n",
    "\n",
    "hi()"
   ]
  },
  {
   "cell_type": "code",
   "execution_count": 122,
   "metadata": {},
   "outputs": [],
   "source": [
    "def deco(fn): # 기능을 추가할 기존 함수를 입력받아\n",
    "\n",
    "    def add_func(): # '기능을 추가하겠다'는 함수를 선언하고\n",
    "        \n",
    "        print('====') # 기존 함수에 새로운 기능을 추가한 뒤\n",
    "        print(fn())\n",
    "        print('====')\n",
    "\n",
    "    return add_func # '기능을 추가하겠다'는 함수 객체를 출력한다\n"
   ]
  },
  {
   "cell_type": "code",
   "execution_count": null,
   "metadata": {},
   "outputs": [
    {
     "name": "stdout",
     "output_type": "stream",
     "text": [
      "=== PREVIOUS ===\n",
      "hi\n",
      "\n",
      "=== MODIFIED ===\n",
      "====\n",
      "hi\n",
      "None\n",
      "====\n"
     ]
    }
   ],
   "source": [
    "def compare(fn1, fn2): # 이전 함수와 이후 함수를 비교\n",
    "    print(f'--- PREVIOUS ---')\n",
    "    fn1()\n",
    "\n",
    "    print(f'\\n--- MODIFIED ---')\n",
    "    fn2()\n",
    "\n",
    "compare(hi, deco(hi))\n"
   ]
  },
  {
   "cell_type": "code",
   "execution_count": 138,
   "metadata": {},
   "outputs": [
    {
     "name": "stdout",
     "output_type": "stream",
     "text": [
      "<class 'function'>\n",
      "\n",
      "====\n",
      "['yellow', 'green', 'blue']\n",
      "====\n",
      "<class 'NoneType'>\n"
     ]
    }
   ],
   "source": [
    "# 앞서 정의한 데코레이터 함수를 @함수명으로 재사용 가능하다\n",
    "\n",
    "@deco\n",
    "def colors():\n",
    "    return ['yellow', 'green', 'blue']\n",
    "\n",
    "print(type(colors))\n",
    "print('')\n",
    "print(type(colors()))\n"
   ]
  },
  {
   "cell_type": "code",
   "execution_count": null,
   "metadata": {},
   "outputs": [],
   "source": []
  }
 ],
 "metadata": {
  "kernelspec": {
   "display_name": ".venv",
   "language": "python",
   "name": "python3"
  },
  "language_info": {
   "codemirror_mode": {
    "name": "ipython",
    "version": 3
   },
   "file_extension": ".py",
   "mimetype": "text/x-python",
   "name": "python",
   "nbconvert_exporter": "python",
   "pygments_lexer": "ipython3",
   "version": "3.10.10"
  },
  "orig_nbformat": 4
 },
 "nbformat": 4,
 "nbformat_minor": 2
}
