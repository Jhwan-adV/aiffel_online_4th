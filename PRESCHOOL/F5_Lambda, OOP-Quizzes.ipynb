{
 "cells": [
  {
   "attachments": {},
   "cell_type": "markdown",
   "metadata": {},
   "source": [
    "# Foundation 5. 람다, 일급 객체 (퀴즈)"
   ]
  },
  {
   "attachments": {},
   "cell_type": "markdown",
   "metadata": {},
   "source": [
    "## 1. map() 함수\n",
    "변수 numbers 안에 있는 값들을 모두 로그변환"
   ]
  },
  {
   "cell_type": "code",
   "execution_count": 2,
   "metadata": {},
   "outputs": [
    {
     "name": "stdout",
     "output_type": "stream",
     "text": [
      "0.6931471805599453\n",
      "1.0\n"
     ]
    }
   ],
   "source": [
    "import math \n",
    "\n",
    "# 자연로그 2 (= log2)\n",
    "print(math.log(2))\n",
    "\n",
    "# 밑이 2인 로그 2 (= log22)\n",
    "print(math.log(2,2))\n"
   ]
  },
  {
   "cell_type": "code",
   "execution_count": 8,
   "metadata": {},
   "outputs": [
    {
     "data": {
      "text/plain": [
       "[0.0,\n",
       " 0.6931471805599453,\n",
       " 1.0986122886681098,\n",
       " 1.3862943611198906,\n",
       " 1.6094379124341003,\n",
       " 1.791759469228055,\n",
       " 1.9459101490553132,\n",
       " 2.0794415416798357,\n",
       " 2.1972245773362196,\n",
       " 2.302585092994046]"
      ]
     },
     "execution_count": 8,
     "metadata": {},
     "output_type": "execute_result"
    }
   ],
   "source": [
    "# numbers 변수 정의\n",
    "numbers = list(range(1, 11))\n",
    "\n",
    "log_transformed_numbers = list(map(lambda x : math.log(x), numbers))\n",
    "log_transformed_numbers\n"
   ]
  },
  {
   "attachments": {},
   "cell_type": "markdown",
   "metadata": {},
   "source": [
    "## 2. 람다 표현식\n",
    "100 이하의 자연수 중 3의 배수가 아닌 숫자만 리스트에 담기"
   ]
  },
  {
   "cell_type": "code",
   "execution_count": 16,
   "metadata": {},
   "outputs": [
    {
     "data": {
      "text/plain": [
       "[1, 2, 4, 5, 7]"
      ]
     },
     "execution_count": 16,
     "metadata": {},
     "output_type": "execute_result"
    }
   ],
   "source": [
    "# numbers 변수 정의\n",
    "numbers = list(range(1, 101))\n",
    "\n",
    "filtered_numbers = list(filter(lambda x : x % 3 != 0, numbers))\n",
    "filtered_numbers[:5]\n"
   ]
  },
  {
   "cell_type": "code",
   "execution_count": 17,
   "metadata": {},
   "outputs": [
    {
     "name": "stdout",
     "output_type": "stream",
     "text": [
      "3의 배수 없음!!\n"
     ]
    }
   ],
   "source": [
    "# 검증\n",
    "for num in filtered_numbers:\n",
    "    if num % 3 == 0:\n",
    "        raise Exception\n",
    "\n",
    "print('3의 배수 없음!!')\n"
   ]
  },
  {
   "attachments": {},
   "cell_type": "markdown",
   "metadata": {},
   "source": [
    "## 3. 일급 객체 - 함수  \n",
    "reduce()를 사용해 함수를 전달하는 예시 코드 작성하기"
   ]
  },
  {
   "cell_type": "code",
   "execution_count": 25,
   "metadata": {},
   "outputs": [
    {
     "name": "stdout",
     "output_type": "stream",
     "text": [
      "다음 원소 - [1, 2, 4, 5, 7]에 대한 누적합을 구합니다.\n",
      "\n",
      "누적합 결과: 19\n",
      "\n",
      "누적합 과정이 담긴 리스트 [1, 3, 7, 12, 19]\n"
     ]
    }
   ],
   "source": [
    "# module import\n",
    "from functools import reduce\n",
    "from itertools import accumulate\n",
    "\n",
    "# filtered numbers 5개 원소의 누적합 구하기\n",
    "target_nums = filtered_numbers[:5]\n",
    "print(f\"다음 원소 - {target_nums}에 대한 누적합을 구합니다.\")\n",
    "\n",
    "# 누적합을 위한 lambda 표현식\n",
    "func_sum = lambda x, y : x + y\n",
    "\n",
    "# reduce 활용 누적합 결과 출력\n",
    "running_sum_red = reduce(func_sum, target_nums)\n",
    "print(f\"\\n누적합 결과: {running_sum_red}\")\n",
    "\n",
    "# accumulate 활용 누적합 과정 출력 - 매개변수 순서 주의\n",
    "running_sum_acc = list(accumulate(target_nums, func_sum))\n",
    "print(f\"\\n누적합 과정이 담긴 리스트 {running_sum_acc}\")\n"
   ]
  }
 ],
 "metadata": {
  "kernelspec": {
   "display_name": ".venv",
   "language": "python",
   "name": "python3"
  },
  "language_info": {
   "codemirror_mode": {
    "name": "ipython",
    "version": 3
   },
   "file_extension": ".py",
   "mimetype": "text/x-python",
   "name": "python",
   "nbconvert_exporter": "python",
   "pygments_lexer": "ipython3",
   "version": "3.10.10"
  },
  "orig_nbformat": 4
 },
 "nbformat": 4,
 "nbformat_minor": 2
}
