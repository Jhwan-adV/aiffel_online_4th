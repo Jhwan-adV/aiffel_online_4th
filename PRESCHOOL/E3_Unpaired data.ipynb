{
 "cells": [
  {
   "attachments": {},
   "cell_type": "markdown",
   "metadata": {},
   "source": [
    "# Exploration 3. Unpaired data\n",
    "실세계에서 항상 존재할 수만은 없는 paired data, paired data가 없을 때에는 어떻게 해야할까?  "
   ]
  },
  {
   "attachments": {},
   "cell_type": "markdown",
   "metadata": {},
   "source": [
    "## 3.1. Unpaired data란?  \n",
    "\n",
    "> 정답은 없지만, 정답 그룹의 데이터는 있다!\n",
    "\n",
    "예) 똑같이 움직이는 말과 얼룩말 영상  \n",
    "\n",
    "\n",
    "움직임을 100% 재현한 영상을 구할 수는 없지만,  \n",
    "말의 움직임 영상, 얼룩말의 움직임 영상 그룹을 오가며 만들어낼 수는 있다.  \n",
    "\n",
    "## 3.2. Unpaired data 활용  \n",
    "\n",
    "Deep Fake - 얼굴 특징, 움직임에 따라 나뉜 그룹 데이터로 실제 사람이 아닌 영상을 만드는 기술  \n",
    "\n",
    "Uinversal Music Translation - 지정한 형식의 음악 분위기로 바꾸어주는 기술\n",
    "\n",
    "## 3.3. 우리가 가진 Unpaired Data\n",
    "\n",
    "Tiktok Comic Filter - 사람 얼굴 이미지를 만화 풍으로 바꿔주기  \n",
    "\n",
    "## 3.4. U-GAT-IT 활용해 애니메이션 프로필 사진 만들기\n",
    "\n",
    "https://arxiv.org/abs/1907.10830  \n",
    "U-GAT-IT: Unsupervised Generative Attentional Networks with Adaptive Layer-Instance Normalization for Image-to-Image Translation"
   ]
  },
  {
   "cell_type": "code",
   "execution_count": 15,
   "metadata": {},
   "outputs": [
    {
     "ename": "AssertionError",
     "evalue": "Torch not compiled with CUDA enabled",
     "output_type": "error",
     "traceback": [
      "\u001b[1;31m---------------------------------------------------------------------------\u001b[0m",
      "\u001b[1;31mAssertionError\u001b[0m                            Traceback (most recent call last)",
      "Cell \u001b[1;32mIn[15], line 1\u001b[0m\n\u001b[1;32m----> 1\u001b[0m \u001b[39mimport\u001b[39;00m \u001b[39mdemo\u001b[39;00m\n",
      "File \u001b[1;32me:\\000_Git\\040_aiffel\\.venv\\lib\\site-packages\\demo.py:387\u001b[0m\n\u001b[0;32m    375\u001b[0m         \u001b[39mreturn\u001b[39;00m out, cam_logit, heatmap\n\u001b[0;32m    377\u001b[0m \u001b[39m##############################################################################################\u001b[39;00m\n\u001b[0;32m    378\u001b[0m \u001b[39m#   Generator와 Discriminator 선언\u001b[39;00m\n\u001b[0;32m    379\u001b[0m \n\u001b[1;32m   (...)\u001b[0m\n\u001b[0;32m    385\u001b[0m     \u001b[39m#   disLB: B domain을 판단하는 local discriminator\u001b[39;00m\n\u001b[0;32m    386\u001b[0m \u001b[39m##############################################################################################\u001b[39;00m\n\u001b[1;32m--> 387\u001b[0m gan\u001b[39m.\u001b[39mgenA2B \u001b[39m=\u001b[39m ResnetGenerator(input_nc\u001b[39m=\u001b[39;49m\u001b[39m3\u001b[39;49m, output_nc\u001b[39m=\u001b[39;49m\u001b[39m3\u001b[39;49m, ngf\u001b[39m=\u001b[39;49mgan\u001b[39m.\u001b[39;49mch, n_blocks\u001b[39m=\u001b[39;49mgan\u001b[39m.\u001b[39;49mn_res, img_size\u001b[39m=\u001b[39;49mgan\u001b[39m.\u001b[39;49mimg_size, light\u001b[39m=\u001b[39;49mgan\u001b[39m.\u001b[39;49mlight)\u001b[39m.\u001b[39;49mto(gan\u001b[39m.\u001b[39;49mdevice)\n\u001b[0;32m    388\u001b[0m gan\u001b[39m.\u001b[39mgenB2A \u001b[39m=\u001b[39m ResnetGenerator(input_nc\u001b[39m=\u001b[39m\u001b[39m3\u001b[39m, output_nc\u001b[39m=\u001b[39m\u001b[39m3\u001b[39m, ngf\u001b[39m=\u001b[39mgan\u001b[39m.\u001b[39mch, n_blocks\u001b[39m=\u001b[39mgan\u001b[39m.\u001b[39mn_res, img_size\u001b[39m=\u001b[39mgan\u001b[39m.\u001b[39mimg_size, light\u001b[39m=\u001b[39mgan\u001b[39m.\u001b[39mlight)\u001b[39m.\u001b[39mto(gan\u001b[39m.\u001b[39mdevice)\n\u001b[0;32m    389\u001b[0m gan\u001b[39m.\u001b[39mdisGA \u001b[39m=\u001b[39m Discriminator(input_nc\u001b[39m=\u001b[39m\u001b[39m3\u001b[39m, ndf\u001b[39m=\u001b[39mgan\u001b[39m.\u001b[39mch, n_layers\u001b[39m=\u001b[39m\u001b[39m7\u001b[39m)\u001b[39m.\u001b[39mto(gan\u001b[39m.\u001b[39mdevice)\n",
      "File \u001b[1;32me:\\000_Git\\040_aiffel\\.venv\\lib\\site-packages\\torch\\nn\\modules\\module.py:1145\u001b[0m, in \u001b[0;36mModule.to\u001b[1;34m(self, *args, **kwargs)\u001b[0m\n\u001b[0;32m   1141\u001b[0m         \u001b[39mreturn\u001b[39;00m t\u001b[39m.\u001b[39mto(device, dtype \u001b[39mif\u001b[39;00m t\u001b[39m.\u001b[39mis_floating_point() \u001b[39mor\u001b[39;00m t\u001b[39m.\u001b[39mis_complex() \u001b[39melse\u001b[39;00m \u001b[39mNone\u001b[39;00m,\n\u001b[0;32m   1142\u001b[0m                     non_blocking, memory_format\u001b[39m=\u001b[39mconvert_to_format)\n\u001b[0;32m   1143\u001b[0m     \u001b[39mreturn\u001b[39;00m t\u001b[39m.\u001b[39mto(device, dtype \u001b[39mif\u001b[39;00m t\u001b[39m.\u001b[39mis_floating_point() \u001b[39mor\u001b[39;00m t\u001b[39m.\u001b[39mis_complex() \u001b[39melse\u001b[39;00m \u001b[39mNone\u001b[39;00m, non_blocking)\n\u001b[1;32m-> 1145\u001b[0m \u001b[39mreturn\u001b[39;00m \u001b[39mself\u001b[39;49m\u001b[39m.\u001b[39;49m_apply(convert)\n",
      "File \u001b[1;32me:\\000_Git\\040_aiffel\\.venv\\lib\\site-packages\\torch\\nn\\modules\\module.py:797\u001b[0m, in \u001b[0;36mModule._apply\u001b[1;34m(self, fn)\u001b[0m\n\u001b[0;32m    795\u001b[0m \u001b[39mdef\u001b[39;00m \u001b[39m_apply\u001b[39m(\u001b[39mself\u001b[39m, fn):\n\u001b[0;32m    796\u001b[0m     \u001b[39mfor\u001b[39;00m module \u001b[39min\u001b[39;00m \u001b[39mself\u001b[39m\u001b[39m.\u001b[39mchildren():\n\u001b[1;32m--> 797\u001b[0m         module\u001b[39m.\u001b[39;49m_apply(fn)\n\u001b[0;32m    799\u001b[0m     \u001b[39mdef\u001b[39;00m \u001b[39mcompute_should_use_set_data\u001b[39m(tensor, tensor_applied):\n\u001b[0;32m    800\u001b[0m         \u001b[39mif\u001b[39;00m torch\u001b[39m.\u001b[39m_has_compatible_shallow_copy_type(tensor, tensor_applied):\n\u001b[0;32m    801\u001b[0m             \u001b[39m# If the new tensor has compatible tensor type as the existing tensor,\u001b[39;00m\n\u001b[0;32m    802\u001b[0m             \u001b[39m# the current behavior is to change the tensor in-place using `.data =`,\u001b[39;00m\n\u001b[1;32m   (...)\u001b[0m\n\u001b[0;32m    807\u001b[0m             \u001b[39m# global flag to let the user control whether they want the future\u001b[39;00m\n\u001b[0;32m    808\u001b[0m             \u001b[39m# behavior of overwriting the existing tensor or not.\u001b[39;00m\n",
      "File \u001b[1;32me:\\000_Git\\040_aiffel\\.venv\\lib\\site-packages\\torch\\nn\\modules\\module.py:820\u001b[0m, in \u001b[0;36mModule._apply\u001b[1;34m(self, fn)\u001b[0m\n\u001b[0;32m    816\u001b[0m \u001b[39m# Tensors stored in modules are graph leaves, and we don't want to\u001b[39;00m\n\u001b[0;32m    817\u001b[0m \u001b[39m# track autograd history of `param_applied`, so we have to use\u001b[39;00m\n\u001b[0;32m    818\u001b[0m \u001b[39m# `with torch.no_grad():`\u001b[39;00m\n\u001b[0;32m    819\u001b[0m \u001b[39mwith\u001b[39;00m torch\u001b[39m.\u001b[39mno_grad():\n\u001b[1;32m--> 820\u001b[0m     param_applied \u001b[39m=\u001b[39m fn(param)\n\u001b[0;32m    821\u001b[0m should_use_set_data \u001b[39m=\u001b[39m compute_should_use_set_data(param, param_applied)\n\u001b[0;32m    822\u001b[0m \u001b[39mif\u001b[39;00m should_use_set_data:\n",
      "File \u001b[1;32me:\\000_Git\\040_aiffel\\.venv\\lib\\site-packages\\torch\\nn\\modules\\module.py:1143\u001b[0m, in \u001b[0;36mModule.to.<locals>.convert\u001b[1;34m(t)\u001b[0m\n\u001b[0;32m   1140\u001b[0m \u001b[39mif\u001b[39;00m convert_to_format \u001b[39mis\u001b[39;00m \u001b[39mnot\u001b[39;00m \u001b[39mNone\u001b[39;00m \u001b[39mand\u001b[39;00m t\u001b[39m.\u001b[39mdim() \u001b[39min\u001b[39;00m (\u001b[39m4\u001b[39m, \u001b[39m5\u001b[39m):\n\u001b[0;32m   1141\u001b[0m     \u001b[39mreturn\u001b[39;00m t\u001b[39m.\u001b[39mto(device, dtype \u001b[39mif\u001b[39;00m t\u001b[39m.\u001b[39mis_floating_point() \u001b[39mor\u001b[39;00m t\u001b[39m.\u001b[39mis_complex() \u001b[39melse\u001b[39;00m \u001b[39mNone\u001b[39;00m,\n\u001b[0;32m   1142\u001b[0m                 non_blocking, memory_format\u001b[39m=\u001b[39mconvert_to_format)\n\u001b[1;32m-> 1143\u001b[0m \u001b[39mreturn\u001b[39;00m t\u001b[39m.\u001b[39;49mto(device, dtype \u001b[39mif\u001b[39;49;00m t\u001b[39m.\u001b[39;49mis_floating_point() \u001b[39mor\u001b[39;49;00m t\u001b[39m.\u001b[39;49mis_complex() \u001b[39melse\u001b[39;49;00m \u001b[39mNone\u001b[39;49;00m, non_blocking)\n",
      "File \u001b[1;32me:\\000_Git\\040_aiffel\\.venv\\lib\\site-packages\\torch\\cuda\\__init__.py:239\u001b[0m, in \u001b[0;36m_lazy_init\u001b[1;34m()\u001b[0m\n\u001b[0;32m    235\u001b[0m     \u001b[39mraise\u001b[39;00m \u001b[39mRuntimeError\u001b[39;00m(\n\u001b[0;32m    236\u001b[0m         \u001b[39m\"\u001b[39m\u001b[39mCannot re-initialize CUDA in forked subprocess. To use CUDA with \u001b[39m\u001b[39m\"\u001b[39m\n\u001b[0;32m    237\u001b[0m         \u001b[39m\"\u001b[39m\u001b[39mmultiprocessing, you must use the \u001b[39m\u001b[39m'\u001b[39m\u001b[39mspawn\u001b[39m\u001b[39m'\u001b[39m\u001b[39m start method\u001b[39m\u001b[39m\"\u001b[39m)\n\u001b[0;32m    238\u001b[0m \u001b[39mif\u001b[39;00m \u001b[39mnot\u001b[39;00m \u001b[39mhasattr\u001b[39m(torch\u001b[39m.\u001b[39m_C, \u001b[39m'\u001b[39m\u001b[39m_cuda_getDeviceCount\u001b[39m\u001b[39m'\u001b[39m):\n\u001b[1;32m--> 239\u001b[0m     \u001b[39mraise\u001b[39;00m \u001b[39mAssertionError\u001b[39;00m(\u001b[39m\"\u001b[39m\u001b[39mTorch not compiled with CUDA enabled\u001b[39m\u001b[39m\"\u001b[39m)\n\u001b[0;32m    240\u001b[0m \u001b[39mif\u001b[39;00m _cudart \u001b[39mis\u001b[39;00m \u001b[39mNone\u001b[39;00m:\n\u001b[0;32m    241\u001b[0m     \u001b[39mraise\u001b[39;00m \u001b[39mAssertionError\u001b[39;00m(\n\u001b[0;32m    242\u001b[0m         \u001b[39m\"\u001b[39m\u001b[39mlibcudart functions unavailable. It looks like you have a broken build?\u001b[39m\u001b[39m\"\u001b[39m)\n",
      "\u001b[1;31mAssertionError\u001b[0m: Torch not compiled with CUDA enabled"
     ]
    }
   ],
   "source": [
    "import demo"
   ]
  },
  {
   "cell_type": "code",
   "execution_count": null,
   "metadata": {},
   "outputs": [],
   "source": []
  }
 ],
 "metadata": {
  "kernelspec": {
   "display_name": ".venv",
   "language": "python",
   "name": "python3"
  },
  "language_info": {
   "codemirror_mode": {
    "name": "ipython",
    "version": 3
   },
   "file_extension": ".py",
   "mimetype": "text/x-python",
   "name": "python",
   "nbconvert_exporter": "python",
   "pygments_lexer": "ipython3",
   "version": "3.10.10"
  },
  "orig_nbformat": 4
 },
 "nbformat": 4,
 "nbformat_minor": 2
}
