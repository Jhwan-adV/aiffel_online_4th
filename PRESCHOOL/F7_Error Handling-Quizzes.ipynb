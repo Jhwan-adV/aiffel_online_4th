{
 "cells": [
  {
   "attachments": {},
   "cell_type": "markdown",
   "metadata": {},
   "source": [
    "# Foundation 7. 예외처리 (퀴즈)"
   ]
  },
  {
   "attachments": {},
   "cell_type": "markdown",
   "metadata": {},
   "source": [
    "## 노드 내용 정리\n",
    "- 오류 종류: 구문 오류(SyntaxError), 실행 오류(RuntimeError)  \n",
    "\n",
    "    - 구문 오류는 프로그래밍 언어 문법에서 틀려 실행 전에 오류가 났을 때  \n",
    "    - 실행 오류는 실행 중 각종 조건에 부합하지 않아 오류가 났을 때  \n",
    "<br>  \n",
    "\n",
    "- 예외처리 방법  \n",
    "\n",
    "    - try ~ except  (excpet: 예외가 발생할 때 실행할 코드)\n",
    "    - try ~ except ~ pass  (pass: 일단 실행을 위해 except 부문을 넘기는 코드)\n",
    "    - try ~ except ~ else  (else: 예외 미발생 시 실행할 코드)\n",
    "    - try ~ except ~ else ~ finally (finally: 발생/미발생 관계없이 실행할 코드)\n",
    "    - try ~ finally  \n",
    "<br>  \n",
    "\n",
    "- 예외처리 전략  \n",
    "\n",
<<<<<<< HEAD
    "    - EAFP(Easier to Ask Forgiveness than Permission: 미리 허락을 구하기보다 나중에 용서를 구하라)\n",
=======
    "    - EAFP(Easier to Ask Forgiveness than Permission: 미리 허락을 구하기보다 나중에 용서를 구하라)  \n",
>>>>>>> 60343c8b736f431b3cd5ac550a64a4f8a09a29ee
    "    : 예외가 발생하지 않을 것을 가정하고 완벽히 코딩하되, 일단 try하고 예외를 except를 해결하라  \n",
    "\n",
    "    - LBYL(Look Before You Leap: 누울 자리를 보고 다리를 뻗으라)  \n",
    "    : 최대한 많은 side-case를 잡아낸 뒤 프로그램을 실행시키라  \n"
   ]
  },
  {
   "attachments": {},
   "cell_type": "markdown",
   "metadata": {},
   "source": [
    "## 1. try ~ finally \n",
    "햄버거의 갯수만 입력받는 프로그램 작성  \n",
    "- 주문 받은 갯수는 무조건 출력  \n",
    "- 햄버거가 아니라면 에러 발생"
   ]
  },
  {
   "cell_type": "code",
   "execution_count": 1,
   "metadata": {},
   "outputs": [
    {
     "name": "stdout",
     "output_type": "stream",
     "text": [
      "주문한 음식의 수량은 2입니다.\n"
     ]
    }
   ],
   "source": [
    "# 답안\n",
    "menu = input('주문할 음식을 입력해주세요: ')\n",
    "num_hamburgers = input('주문할 음식의 수량을 입력해주세요: ')\n",
    "\n",
    "try:\n",
    "    if menu not in ['햄버거', 'hamburger']:\n",
    "        raise Exception('햄버거가 아닙니다') \n",
    "\n",
    "finally:\n",
    "    print(f\"주문한 음식의 수량은 {num_hamburgers}개입니다.\") \n"
   ]
  },
  {
   "attachments": {},
   "cell_type": "markdown",
   "metadata": {},
   "source": [
    "## 2. try ~ except ~ else ~ finally\n",
    "\n",
    "수를 입력받은 후 다음과 같이 진행  \n",
    "- 수가 아닌 경우 \"수가 아닙니다\"를 출력  \n",
    "- 예외가 발생하지 않은 경우 입력한 수를 출력   \n",
    "- 유무 관계 없이 \"프로그램이 끝났습니다\" 출력  "
   ]
  },
  {
   "cell_type": "code",
   "execution_count": 12,
   "metadata": {},
   "outputs": [
    {
     "name": "stdout",
     "output_type": "stream",
     "text": [
      "수가 아닙니다\n",
      "프로그램이 종료되었습니다.\n"
     ]
    }
   ],
   "source": [
    "try: \n",
    "    number = float(input('수를 입력해주세요: '))\n",
    "except:\n",
    "    print(\"수가 아닙니다\")\n",
    "else:\n",
    "    print(f\"입력받은 수는 {int(number) if number % 10 == 0 else number}입니다.\")\n",
    "finally:\n",
    "    print('프로그램이 종료되었습니다.')"
   ]
  },
  {
   "attachments": {},
   "cell_type": "markdown",
   "metadata": {},
   "source": [
    "## 3. try ~ except  \n",
    "몇 번째 인덱스에 원하는 요소가 포함되어 있는지 확인"
   ]
  },
  {
   "cell_type": "code",
   "execution_count": 16,
   "metadata": {},
   "outputs": [
    {
     "name": "stdout",
     "output_type": "stream",
     "text": [
      "해당 원소 최초 인덱스는 2번째입니다.\n",
      "None\n",
      "ValueError: 10000 is not in list - 찾고자 하는 원소가 없습니다\n",
      "None\n",
      "해당 원소 최초 인덱스는 5번째입니다.\n",
      "None\n"
     ]
    }
   ],
   "source": [
    "def list_finder(list, elt):\n",
    "    try: \n",
    "        idx = list.index(elt)\n",
    "        print(f\"해당 원소 최초 인덱스는 {idx}번째입니다.\")\n",
    "    except ValueError as v:\n",
    "        print(f\"ValueError: {v} - 찾고자 하는 원소가 없습니다\")\n",
    "    except Exception as e:\n",
    "        print(f\"{e} - 찾고자 하는 원소가 없습니다\")\n",
    "\n",
    "# 결과 확인 함수\n",
    "print(list_finder([10, 9, 8], 8))\n",
    "print(list_finder([25, 7, 8], 10000))  \n",
    "print(list_finder([100, 2, 15, 28, 0, \"a-z가-하\"], \"a-z가-하\"))\n",
    "\n",
    "\"\"\"Exception이 왜 필요한 지 모르겠다. \"\"\""
   ]
  }
 ],
 "metadata": {
  "kernelspec": {
   "display_name": ".venv",
   "language": "python",
   "name": "python3"
  },
  "language_info": {
   "codemirror_mode": {
    "name": "ipython",
    "version": 3
   },
   "file_extension": ".py",
   "mimetype": "text/x-python",
   "name": "python",
   "nbconvert_exporter": "python",
   "pygments_lexer": "ipython3",
   "version": "3.10.10"
  },
  "orig_nbformat": 4
 },
 "nbformat": 4,
 "nbformat_minor": 2
}
